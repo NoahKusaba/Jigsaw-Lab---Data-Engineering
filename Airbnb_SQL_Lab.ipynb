{
  "cells": [
    {
      "cell_type": "markdown",
      "metadata": {
        "id": "Agfrg7N0shdf"
      },
      "source": [
        "# Belongs to Airbnb Lab"
      ]
    },
    {
      "cell_type": "markdown",
      "metadata": {
        "jp-MarkdownHeadingCollapsed": true,
        "tags": [],
        "id": "srxFyi0Eshdk"
      },
      "source": [
        "### Introduction\n",
        "In this lab we will continue to explore the relationships between data in different tables of a database. The Airbnb database for this lab contains four tables, `hosts`, `listings`, `locations`, and `neighborhoods`. In order to understand and analyze the data, we need to first understand the relationships between the tables. Relationships include \"Has One\" and \"Has Many\". For example, the `listings` table has a column \"host_id\" which HAS ONE record in hosts table that it corresponds to (a listing will only have one host). The `locations` table has an id column which HAS MANY corresponding records in the `listings` table (a location will have more than one listing). "
      ]
    },
    {
      "cell_type": "markdown",
      "metadata": {
        "id": "OuedpE-Ushdl"
      },
      "source": [
        "Let's begin by connecting to the database and reviewing the schema of the tables."
      ]
    },
    {
      "cell_type": "markdown",
      "metadata": {
        "id": "YKxwaDhmshdm"
      },
      "source": [
        "### Loading Data"
      ]
    },
    {
      "cell_type": "code",
      "execution_count": null,
      "metadata": {
        "id": "P8IlgJ5Rshdn"
      },
      "outputs": [],
      "source": [
        "import pandas as pd\n",
        "neighborhoods_url = \"https://raw.githubusercontent.com/sql-fundamentals-jigsaw/mod-1-sql-curriculum/master/2-sql-relations/3-belongs-to-bnb/data/neighborhoods.csv\"\n",
        "hosts_url = \"https://raw.githubusercontent.com/sql-fundamentals-jigsaw/mod-1-sql-curriculum/master/2-sql-relations/3-belongs-to-bnb/data/hosts.csv\"\n",
        "locations_url = \"https://raw.githubusercontent.com/sql-fundamentals-jigsaw/mod-1-sql-curriculum/master/2-sql-relations/3-belongs-to-bnb/data/locations.csv\"\n",
        "listings_url = \"https://raw.githubusercontent.com/sql-fundamentals-jigsaw/mod-1-sql-curriculum/master/2-sql-relations/3-belongs-to-bnb/data/listings.csv\"\n",
        "\n",
        "\n",
        "hosts_df = pd.read_csv(hosts_url)\n",
        "neighborhoods_df = pd.read_csv(neighborhoods_url)\n",
        "\n",
        "locations_df = pd.read_csv(locations_url)\n",
        "listings_df = pd.read_csv(listings_url)"
      ]
    },
    {
      "cell_type": "code",
      "execution_count": null,
      "metadata": {
        "id": "ssbFW1TUshdr"
      },
      "outputs": [],
      "source": [
        "import sqlite3\n",
        "conn = sqlite3.connect('listings.db')\n",
        "cursor = conn.cursor()"
      ]
    },
    {
      "cell_type": "code",
      "execution_count": null,
      "metadata": {
        "id": "jcX-AVAeshdt"
      },
      "outputs": [],
      "source": [
        "listings_df = pd.read_sql('select * from listings', conn)"
      ]
    },
    {
      "cell_type": "code",
      "execution_count": null,
      "metadata": {
        "id": "rRA6eFTpshdu"
      },
      "outputs": [],
      "source": [
        "hosts_df.to_sql('hosts',conn, index = False)\n",
        "neighborhoods_df.to_sql('neighborhoods',conn, index = False)\n",
        "locations_df.to_sql('locations',conn, index = False)\n",
        "listings_df.to_sql('listings', conn, index = False)"
      ]
    },
    {
      "cell_type": "markdown",
      "metadata": {
        "id": "umGQlaUDshdv"
      },
      "source": [
        "### Exploring Data"
      ]
    },
    {
      "cell_type": "code",
      "execution_count": null,
      "metadata": {
        "id": "ElVTqeJrshdw",
        "outputId": "f565376e-4b14-4589-9db9-e65353f65bde",
        "colab": {
          "base_uri": "https://localhost:8080/"
        }
      },
      "outputs": [
        {
          "output_type": "execute_result",
          "data": {
            "text/plain": [
              "[('hosts',), ('neighborhoods',), ('locations',), ('listings',)]"
            ]
          },
          "metadata": {},
          "execution_count": 14
        }
      ],
      "source": [
        "cursor.execute('SELECT name from sqlite_master where type= \"table\"')\n",
        "cursor.fetchall()"
      ]
    },
    {
      "cell_type": "code",
      "execution_count": null,
      "metadata": {
        "id": "jVGX_WLwshdx",
        "outputId": "60f1e537-5459-4b9a-a9d3-d8d80fdecac3",
        "colab": {
          "base_uri": "https://localhost:8080/"
        }
      },
      "outputs": [
        {
          "output_type": "execute_result",
          "data": {
            "text/plain": [
              "[(0, 'id', 'INTEGER', 0, None, 0), (1, 'host_name', 'TEXT', 0, None, 0)]"
            ]
          },
          "metadata": {},
          "execution_count": 16
        }
      ],
      "source": [
        "cursor.execute('PRAGMA table_info(hosts)')\n",
        "cursor.fetchall()"
      ]
    },
    {
      "cell_type": "code",
      "execution_count": null,
      "metadata": {
        "id": "g3pM-KiOshdy",
        "outputId": "dc89892d-d2a1-4b43-cad8-7b029c8ee26c",
        "colab": {
          "base_uri": "https://localhost:8080/"
        }
      },
      "outputs": [
        {
          "output_type": "execute_result",
          "data": {
            "text/plain": [
              "[(0, 'id', 'INTEGER', 0, None, 0),\n",
              " (1, 'name', 'TEXT', 0, None, 0),\n",
              " (2, 'neighbourhood_group', 'TEXT', 0, None, 0)]"
            ]
          },
          "metadata": {},
          "execution_count": 17
        }
      ],
      "source": [
        "cursor.execute('PRAGMA table_info(neighborhoods)')\n",
        "cursor.fetchall()"
      ]
    },
    {
      "cell_type": "code",
      "execution_count": null,
      "metadata": {
        "id": "B14R82Q_shdy",
        "outputId": "aca6f696-904b-48b1-e2af-33aac22039ab",
        "colab": {
          "base_uri": "https://localhost:8080/"
        }
      },
      "outputs": [
        {
          "output_type": "execute_result",
          "data": {
            "text/plain": [
              "[(0, 'id', 'INTEGER', 0, None, 0),\n",
              " (1, 'longitude', 'REAL', 0, None, 0),\n",
              " (2, 'latitude', 'REAL', 0, None, 0),\n",
              " (3, 'neighborhood_id', 'INTEGER', 0, None, 0)]"
            ]
          },
          "metadata": {},
          "execution_count": 18
        }
      ],
      "source": [
        "cursor.execute('PRAGMA table_info(locations)')\n",
        "cursor.fetchall()"
      ]
    },
    {
      "cell_type": "code",
      "execution_count": null,
      "metadata": {
        "id": "RViDw9XHshdy"
      },
      "outputs": [],
      "source": [
        "cursor.execute('PRAGMA table_info(listings)')\n",
        "cursor.fetchall()"
      ]
    },
    {
      "cell_type": "markdown",
      "metadata": {
        "id": "Wddh7Oaashdz"
      },
      "source": [
        "We'll start off with some basic one table queries:"
      ]
    },
    {
      "cell_type": "markdown",
      "metadata": {
        "id": "rx2R0C3Nshdz"
      },
      "source": [
        "* Which listing name has the highest price?"
      ]
    },
    {
      "cell_type": "code",
      "execution_count": null,
      "metadata": {
        "id": "GvlPkad1shdz"
      },
      "outputs": [],
      "source": [
        "cursor.execute(\"select name from listings order by price desc limit 1\")\n",
        "cursor.fetchall()\n",
        "# [('Furnished room in Astoria apartment',)]"
      ]
    },
    {
      "cell_type": "markdown",
      "metadata": {
        "id": "gbQGuayCshdz"
      },
      "source": [
        "* What is the id of the location with the lowest longitude?"
      ]
    },
    {
      "cell_type": "code",
      "execution_count": null,
      "metadata": {
        "id": "lOX2A0Gyshd0"
      },
      "outputs": [],
      "source": [
        "cursor.execute(\"select id from locations order by longitude asc limit 1\")\n",
        "cursor.fetchall()\n",
        "\n",
        "# [(45652,)]"
      ]
    },
    {
      "cell_type": "markdown",
      "metadata": {
        "id": "GSdM10QBshd0"
      },
      "source": [
        "* What is the greatest occupancy of a listing?"
      ]
    },
    {
      "cell_type": "code",
      "execution_count": null,
      "metadata": {
        "id": "Ac4W-Zpvshd0"
      },
      "outputs": [],
      "source": [
        "cursor.execute(\"select occupancy from listings order by occupancy desc limit 1\")\n",
        "cursor.fetchall()\n",
        "\n",
        "# [(365,)]"
      ]
    },
    {
      "cell_type": "markdown",
      "metadata": {
        "id": "DCGmbKaashd0"
      },
      "source": [
        "* What is the average price of a listing?"
      ]
    },
    {
      "cell_type": "code",
      "execution_count": null,
      "metadata": {
        "id": "YEtYJC3Tshd0"
      },
      "outputs": [],
      "source": [
        "cursor.execute(\"select avg(price) from listings\")\n",
        "cursor.fetchall()\n",
        "\n",
        "# [(152.7206871868289,)]"
      ]
    },
    {
      "cell_type": "markdown",
      "metadata": {
        "id": "S3CbE1egshd1"
      },
      "source": [
        "* What is the count of number of hosts?"
      ]
    },
    {
      "cell_type": "code",
      "execution_count": null,
      "metadata": {
        "id": "N3vrM4yEshd1"
      },
      "outputs": [],
      "source": [
        "cursor.execute(\"select count(host_name) from hosts \")\n",
        "cursor.fetchall()\n",
        "# [(37457,)]"
      ]
    },
    {
      "cell_type": "markdown",
      "metadata": {
        "id": "Uq4iToNrshd1"
      },
      "source": [
        "### Relationships\n",
        "To help us better understand the relationships, create queries below that JOIN the tables. "
      ]
    },
    {
      "cell_type": "markdown",
      "metadata": {
        "id": "gHGpBl8qshd1"
      },
      "source": [
        "### JOINs"
      ]
    },
    {
      "cell_type": "markdown",
      "metadata": {
        "id": "Z-D1lJRXshd1"
      },
      "source": [
        "For the following queries, use the relationships between the tables to find the solutions"
      ]
    },
    {
      "cell_type": "markdown",
      "metadata": {
        "id": "tKXNi64fshd1"
      },
      "source": [
        "* What is the longitude and latitude of the listing of the highest price?"
      ]
    },
    {
      "cell_type": "code",
      "execution_count": null,
      "metadata": {
        "id": "GCObssFXshd2"
      },
      "outputs": [],
      "source": [
        "cursor.execute(\"\"\"select longitude, latitude \n",
        "from locations \n",
        "join listings on locations.id = listings.location_id  \n",
        "order by price desc\n",
        " limit 1 \"\"\")\n",
        "cursor.fetchall()\n",
        "\n",
        "# [(-73.91651, 40.7681)]"
      ]
    },
    {
      "cell_type": "markdown",
      "metadata": {
        "id": "PFIuuQqwshd2"
      },
      "source": [
        "* What is the neighborhood id of the listing with the lowest price?"
      ]
    },
    {
      "cell_type": "code",
      "execution_count": null,
      "metadata": {
        "id": "zURf98Ovshd2"
      },
      "outputs": [],
      "source": [
        "cursor.execute(\"\"\"select neighborhoods.id  from neighborhoods \n",
        "join locations on locations.neighborhood_id = neighborhoods.id \n",
        "join listings on listings.location_id = locations.id \n",
        "order by price asc limit 1  \"\"\")\n",
        "cursor.fetchall()\n",
        "# [(6,)]"
      ]
    },
    {
      "cell_type": "markdown",
      "metadata": {
        "id": "9YEx9CbOshd2"
      },
      "source": [
        "* What is the longitude and latitude of the listing of the lowest price?"
      ]
    },
    {
      "cell_type": "code",
      "execution_count": null,
      "metadata": {
        "id": "vaO3zpI6shd2"
      },
      "outputs": [],
      "source": [
        "cursor.execute(\"\"\"select longitude, latitude from locations  \n",
        "join listings on listings.location_id = locations.id \n",
        "order by price asc limit 1  \"\"\")\n",
        "cursor.fetchall()\n",
        "\n",
        "# [(-73.95428000000001, 40.69023)]"
      ]
    },
    {
      "cell_type": "markdown",
      "metadata": {
        "id": "aDjGbaPNshd2"
      },
      "source": [
        "### Relations and GROUP BY"
      ]
    },
    {
      "cell_type": "markdown",
      "metadata": {
        "id": "zw1enzijshd2"
      },
      "source": [
        "* What is the name of the host has the most number of reviews?"
      ]
    },
    {
      "cell_type": "code",
      "execution_count": null,
      "metadata": {
        "id": "p8ZnAN3tshd3"
      },
      "outputs": [],
      "source": [
        "cursor.execute(\"\"\"select host_name, sum(number_of_reviews) from hosts  \n",
        "join listings on listings.host_id = hosts.id\n",
        "group by host_id\n",
        "order by sum(number_of_reviews) desc  limit  1\"\"\")\n",
        "cursor.fetchall()\n",
        "\n",
        "# [('Maya', 2273)]"
      ]
    },
    {
      "cell_type": "markdown",
      "metadata": {
        "id": "VAsG4HZfshd3"
      },
      "source": [
        "* What is the name of the host with the highest average listing price?"
      ]
    },
    {
      "cell_type": "code",
      "execution_count": null,
      "metadata": {
        "id": "oYxCQ0rlshd3"
      },
      "outputs": [],
      "source": [
        "cursor.execute(\"\"\" select host_name, avg(price) from hosts \n",
        "join listings on listings.host_id = hosts.id\n",
        "group by listings.host_id\n",
        "order by avg(price) desc \n",
        "limit 5\n",
        "\"\"\")\n",
        "cursor.fetchall()\n",
        "\n",
        "# [('Jelena',)]"
      ]
    },
    {
      "cell_type": "markdown",
      "metadata": {
        "id": "a7iLJYgFshd3"
      },
      "source": [
        "* What is the name of the host with the lowest average listing price?"
      ]
    },
    {
      "cell_type": "code",
      "execution_count": null,
      "metadata": {
        "id": "fPjJLPicshd3"
      },
      "outputs": [],
      "source": [
        "cursor.execute(\"\"\" select host_name, avg(price) from hosts \n",
        "join listings on listings.host_id = hosts.id\n",
        "group by listings.host_id\n",
        "order by avg(price) asc \n",
        "limit 1\n",
        "\"\"\")\n",
        "cursor.fetchall()\n",
        "\n",
        "# [('Aymeric',)]"
      ]
    },
    {
      "cell_type": "markdown",
      "metadata": {
        "id": "yUAPLkNsshd3"
      },
      "source": [
        "* What is the name of the neighborhood with the most number of locations"
      ]
    },
    {
      "cell_type": "code",
      "execution_count": null,
      "metadata": {
        "id": "wRpq1a_fshd3"
      },
      "outputs": [],
      "source": [
        "cursor.execute(\"\"\" select neighborhoods.name from neighborhoods\n",
        "\n",
        "join locations on locations.neighborhood_id = neighborhoods.id\n",
        "join listings on listings.location_id = locations.id\n",
        "group by neighborhoods.id\n",
        "order by count(neighborhoods.id) desc\n",
        "limit 10\"\"\")\n",
        "cursor.fetchall()\n",
        "\n",
        "# [('Williamsburg',)]"
      ]
    },
    {
      "cell_type": "markdown",
      "metadata": {
        "id": "SjRZjOSoshd3"
      },
      "source": [
        "* What are the names of the neighborhoods with 10 locations?"
      ]
    },
    {
      "cell_type": "code",
      "execution_count": null,
      "metadata": {
        "id": "UPMe10RSshd4"
      },
      "outputs": [],
      "source": [
        "cursor.execute(\"\"\" select neighborhoods.name from neighborhoods\n",
        "\n",
        "join locations on locations.neighborhood_id = neighborhoods.id\n",
        "join listings on listings.location_id = locations.id\n",
        "group by neighborhoods.id\n",
        "having  count(neighborhoods.id) =10 \n",
        "limit 10\"\"\")\n",
        "cursor.fetchall()\n",
        "\n",
        "# [('North Riverdale',),\n",
        "#  ('Great Kills',),\n",
        "#  ('East Morrisania',),neighbourhood_group\n",
        "#  ('Melrose',),\n",
        "#  ('Bergen Beach',),\n",
        "#  ('Westchester Square',)]"
      ]
    },
    {
      "cell_type": "markdown",
      "metadata": {
        "id": "ElwNeGuvshd4"
      },
      "source": [
        "The following questions will require joins of three tables"
      ]
    },
    {
      "cell_type": "markdown",
      "metadata": {
        "id": "Hk00IPBvshd4"
      },
      "source": [
        "* What is the average occupancy of each neighborhood (limit to the first five results)?"
      ]
    },
    {
      "cell_type": "code",
      "execution_count": null,
      "metadata": {
        "id": "suRnceqqshd4",
        "colab": {
          "base_uri": "https://localhost:8080/"
        },
        "outputId": "9416ad0d-c532-4083-d22b-e45ea103bb02"
      },
      "outputs": [
        {
          "output_type": "execute_result",
          "data": {
            "text/plain": [
              "[('Kensington', 281.0514285714286),\n",
              " ('Midtown', 207.29644012944985),\n",
              " ('Harlem', 258.4224981188864),\n",
              " ('Clinton Hill', 269.986013986014),\n",
              " ('East Harlem', 266.0268576544315)]"
            ]
          },
          "metadata": {},
          "execution_count": 23
        }
      ],
      "source": [
        "cursor.execute(\"\"\" select neighborhoods.name, avg(occupancy) from neighborhoods\n",
        "join locations on locations.neighborhood_id = neighborhoods.id\n",
        "join listings on listings.location_id = locations.id\n",
        "\n",
        "group by neighborhoods.id\n",
        "limit 5\n",
        "\"\"\")\n",
        "\n",
        "cursor.fetchall()\n",
        "\n",
        "# [('Kensington', 281.0514285714286),\n",
        "#  ('Midtown', 207.29644012944985),\n",
        "#  ('Harlem', 258.4224981188864),\n",
        "#  ('Clinton Hill', 269.986013986014),\n",
        "#  ('East Harlem', 266.0268576544315)]"
      ]
    },
    {
      "cell_type": "markdown",
      "metadata": {
        "id": "rbRNITCqshd4"
      },
      "source": [
        "* What is the total number of reviews for each neighborhood (limit to the first five results)?"
      ]
    },
    {
      "cell_type": "code",
      "execution_count": null,
      "metadata": {
        "id": "xuriwyu3shd5",
        "colab": {
          "base_uri": "https://localhost:8080/"
        },
        "outputId": "d2c33adf-663f-478d-948c-34771b43be16"
      },
      "outputs": [
        {
          "output_type": "execute_result",
          "data": {
            "text/plain": [
              "[('Kensington', 2972),\n",
              " ('Midtown', 19444),\n",
              " ('Harlem', 75962),\n",
              " ('Clinton Hill', 14586),\n",
              " ('East Harlem', 36446)]"
            ]
          },
          "metadata": {},
          "execution_count": 24
        }
      ],
      "source": [
        "cursor.execute(\"\"\" select neighborhoods.name, sum(number_of_reviews) from neighborhoods\n",
        "join locations on locations.neighborhood_id = neighborhoods.id\n",
        "join listings on listings.location_id = locations.id\n",
        "\n",
        "group by neighborhoods.id\n",
        "limit 5\n",
        "\"\"\")\n",
        "\n",
        "cursor.fetchall()\n",
        "\n",
        "# [('Kensington', 2972),\n",
        "#  ('Midtown', 19444),\n",
        "#  ('Harlem', 75962),\n",
        "#  ('Clinton Hill', 14586),\n",
        "#  ('East Harlem', 36446)]"
      ]
    },
    {
      "cell_type": "markdown",
      "metadata": {
        "id": "TMIfICnfshd5"
      },
      "source": [
        "* Write a query that returns the name and average listing price of each neighborhood (limit to the first five results)"
      ]
    },
    {
      "cell_type": "code",
      "execution_count": null,
      "metadata": {
        "id": "ibocdTpfshd5",
        "colab": {
          "base_uri": "https://localhost:8080/"
        },
        "outputId": "97fdf3e8-4764-4d07-b510-08fc662df6ba"
      },
      "outputs": [
        {
          "output_type": "execute_result",
          "data": {
            "text/plain": [
              "[('Kensington', 92.88571428571429),\n",
              " ('Midtown', 282.7190938511327),\n",
              " ('Harlem', 118.97404063205417),\n",
              " ('Clinton Hill', 181.89335664335664),\n",
              " ('East Harlem', 133.1987466427932)]"
            ]
          },
          "metadata": {},
          "execution_count": 25
        }
      ],
      "source": [
        "cursor.execute(\"\"\" select neighborhoods.name, avg(price) from neighborhoods\n",
        "join locations on locations.neighborhood_id = neighborhoods.id\n",
        "join listings on listings.location_id = locations.id\n",
        "\n",
        "group by neighborhoods.id\n",
        "limit 5\n",
        "\"\"\")\n",
        "\n",
        "cursor.fetchall()\n",
        "\n",
        "\n",
        "# [('Kensington', 92.88571428571429),\n",
        "#  ('Midtown', 282.7190938511327),\n",
        "#  ('Harlem', 118.97404063205417),\n",
        "#  ('Clinton Hill', 181.89335664335664),\n",
        "#  ('East Harlem', 133.1987466427932)]"
      ]
    },
    {
      "cell_type": "markdown",
      "metadata": {
        "id": "lRHZC4Xpshd6"
      },
      "source": [
        "### Conclusion\n",
        "In this lab we worked on the \"Has One\" and \"Has Many\" relations in SQL. We began by mapping out the relations between the tables, which gave us a better idea of how we could then join them in our queries. We finished the lab by creating queries using JOIN clauses that connect the tables using these relationships."
      ]
    }
  ],
  "metadata": {
    "kernelspec": {
      "display_name": "Python 3 (ipykernel)",
      "language": "python",
      "name": "python3"
    },
    "language_info": {
      "codemirror_mode": {
        "name": "ipython",
        "version": 3
      },
      "file_extension": ".py",
      "mimetype": "text/x-python",
      "name": "python",
      "nbconvert_exporter": "python",
      "pygments_lexer": "ipython3",
      "version": "3.11.1"
    },
    "colab": {
      "provenance": []
    }
  },
  "nbformat": 4,
  "nbformat_minor": 0
}