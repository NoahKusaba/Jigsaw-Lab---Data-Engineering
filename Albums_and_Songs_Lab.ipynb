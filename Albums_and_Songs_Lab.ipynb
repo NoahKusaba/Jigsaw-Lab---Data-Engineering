{
  "cells": [
    {
      "cell_type": "markdown",
      "metadata": {
        "id": "YaNQzW6brocs"
      },
      "source": [
        "# Albums and Songs Lab"
      ]
    },
    {
      "cell_type": "markdown",
      "metadata": {
        "id": "BMBSjfZgrocw"
      },
      "source": [
        "### Introduction"
      ]
    },
    {
      "cell_type": "markdown",
      "metadata": {
        "id": "Ljex3Wsdrocw"
      },
      "source": [
        "In this lesson, we'll use the skills we have learned over the past several lessons to answer questions about the top songs, artists and albums over the past fifty years."
      ]
    },
    {
      "cell_type": "markdown",
      "metadata": {
        "id": "PMQXgtu9rocx"
      },
      "source": [
        "### Working with Songs"
      ]
    },
    {
      "cell_type": "markdown",
      "metadata": {
        "id": "L45v_FG3rocy"
      },
      "source": [
        "Let's start by working with data regarding top 500 albums according to the Rolling Stone Magazine."
      ]
    },
    {
      "cell_type": "code",
      "execution_count": null,
      "metadata": {
        "id": "zhnD5jZwrocy"
      },
      "outputs": [],
      "source": [
        "import pandas as pd\n",
        "url = \"https://raw.githubusercontent.com/eng-6-22/mod-1-a-data-structures/master/6-top-songs/data.csv\"\n",
        "df = pd.read_csv(url)\n",
        "albums = df.to_dict('records')"
      ]
    },
    {
      "cell_type": "code",
      "execution_count": null,
      "metadata": {
        "id": "Bco1N08Oroc0"
      },
      "outputs": [],
      "source": [
        "# albums[:2]"
      ]
    },
    {
      "cell_type": "code",
      "execution_count": null,
      "metadata": {
        "id": "wm-_BGgmroc3",
        "outputId": "8a793e5c-17fa-4eca-815e-0d468d5505f9",
        "colab": {
          "base_uri": "https://localhost:8080/"
        }
      },
      "outputs": [
        {
          "output_type": "stream",
          "name": "stdout",
          "text": [
            "[{'number': 1, 'year': 1967, 'album': \"Sgt. Pepper's Lonely Hearts Club Band\", 'artist': 'The Beatles', 'genre': 'Rock', 'subgenre': 'Rock & Roll, Psychedelic Rock'}, {'number': 2, 'year': 1966, 'album': 'Pet Sounds', 'artist': 'The Beach Boys', 'genre': 'Rock', 'subgenre': 'Pop Rock, Psychedelic Rock'}]\n"
          ]
        }
      ],
      "source": [
        "len(albums)\n",
        "print(albums[0:2])"
      ]
    },
    {
      "cell_type": "markdown",
      "metadata": {
        "id": "D1MbodEuroc7"
      },
      "source": [
        "> Well, 478."
      ]
    },
    {
      "cell_type": "markdown",
      "metadata": {
        "id": "AuL5cBOlroc9"
      },
      "source": [
        "Let's write some functions to help us better explore the data."
      ]
    },
    {
      "cell_type": "code",
      "source": [
        "def all_albums(albums):\n",
        "  return [s[\"album\"] for s in albums ]\n",
        "\n",
        "def all_artists(albums): \n",
        "  return list(set(x[\"artist\"] for x in albums ))\n",
        "\n",
        "def find_by_name(albums,name):\n",
        "  for x in albums:\n",
        "    if name ==x[\"album\"]:\n",
        "      return x\n",
        "  return None \n",
        "\n",
        "def find_by_ranks(album, begin_rank,end_rank):\n",
        "  if begin_rank is None and end_rank is None:\n",
        "    return album\n",
        "  elif begin_rank is None and end_rank is not None:\n",
        "    return album[ 0 : end_rank]\n",
        "  elif begin_rank is not None and end_rank is None:\n",
        "    return album[ begin_rank : len(album)]\n",
        "  else: \n",
        "    return album[begin_rank : end_rank]\n",
        "    \n",
        "def find_by_years(album, begin_rank,end_rank): same thing? "
      ],
      "metadata": {
        "id": "gzMrhTizsHNH"
      },
      "execution_count": null,
      "outputs": []
    },
    {
      "cell_type": "code",
      "source": [
        "def steve(x):\n",
        "  return \"hello\"\n",
        "steve(1)"
      ],
      "metadata": {
        "id": "EsMYclklt_ct",
        "outputId": "4916d3ea-bd46-46ef-d76c-2905b1939d8b",
        "colab": {
          "base_uri": "https://localhost:8080/",
          "height": 36
        }
      },
      "execution_count": null,
      "outputs": [
        {
          "output_type": "execute_result",
          "data": {
            "text/plain": [
              "'hello'"
            ],
            "application/vnd.google.colaboratory.intrinsic+json": {
              "type": "string"
            }
          },
          "metadata": {},
          "execution_count": 12
        }
      ]
    },
    {
      "cell_type": "markdown",
      "metadata": {
        "id": "NGjJ8Xneroc_"
      },
      "source": [
        "* `all_albums` - Takes an argument of albums and returns the list of album names.\n",
        "\n",
        "* `all_artists` - Takes argument of list of albums and returns a list of all artists (where each element is a string), and no artist is repeated. \n",
        "\n",
        "* `find_by_name` - Has one argument of `album_name`. Returns a dictionary of the correct album, or `None` if no album is found.\n",
        "\n",
        "* `find_by_ranks` - Takes `begin_rank` and `end_rank` as arguments.  Also possible to execute the function by just providing the `begin_rank` or `end_rank` (and not both).  If no arguments are provided the entire list of albums are returned.\n",
        "\n",
        "* `find_by_years` - Takes `begin_year` and `end_year` as arguments, and returns a list of dictionaries for albums between those years.  Also possible to execute the function by just providing the `begin_year` or `end_year` (and not both)."
      ]
    },
    {
      "cell_type": "markdown",
      "metadata": {
        "id": "KcOUJwDirodD"
      },
      "source": [
        "### Working with Songs"
      ]
    },
    {
      "cell_type": "markdown",
      "metadata": {
        "id": "QTMVN7ENrodE"
      },
      "source": [
        "Next, let's load up data related to songs, and data that connects albums and songs."
      ]
    },
    {
      "cell_type": "code",
      "execution_count": null,
      "metadata": {
        "id": "xSefLKOwrodF"
      },
      "outputs": [],
      "source": [
        "import pandas as pd\n",
        "songs_url = \"https://raw.githubusercontent.com/eng-6-22/mod-1-a-data-structures/master/6-top-songs/top-500-songs.txt\"\n",
        "songs_df = pd.read_csv(songs_url, sep='\\t', header = None, names = ['rank', 'song', 'artist', 'year'])\n",
        "songs = songs_df.to_dict('records')\n",
        "\n",
        "track_url = \"https://raw.githubusercontent.com/eng-6-22/mod-1-a-data-structures/master/6-top-songs/track_data.json\"\n",
        "albums_and_tracks = pd.read_json(track_url)\n",
        "albums_tracks = albums_and_tracks.to_dict('records')"
      ]
    },
    {
      "cell_type": "code",
      "source": [
        "len(songs)"
      ],
      "metadata": {
        "id": "4ckyuJqIxh-M",
        "outputId": "d4b87b4a-3f43-435d-a78c-e9b2668be0b0",
        "colab": {
          "base_uri": "https://localhost:8080/"
        }
      },
      "execution_count": null,
      "outputs": [
        {
          "output_type": "execute_result",
          "data": {
            "text/plain": [
              "500"
            ]
          },
          "metadata": {},
          "execution_count": 14
        }
      ]
    },
    {
      "cell_type": "code",
      "execution_count": null,
      "metadata": {
        "id": "5Q_SMMZzrodH",
        "outputId": "05669d10-d7dc-4871-ac15-e222107aceb4",
        "colab": {
          "base_uri": "https://localhost:8080/"
        }
      },
      "outputs": [
        {
          "output_type": "execute_result",
          "data": {
            "text/plain": [
              "[{'rank': 1,\n",
              "  'song': 'Like a Rolling Stone',\n",
              "  'artist': 'Bob Dylan',\n",
              "  'year': 1965},\n",
              " {'rank': 2,\n",
              "  'song': 'Satisfaction',\n",
              "  'artist': 'The Rolling Stones',\n",
              "  'year': 1965},\n",
              " {'rank': 3, 'song': 'Imagine', 'artist': 'John Lennon', 'year': 1971},\n",
              " {'rank': 4, 'song': \"What's Going On\", 'artist': 'Marvin Gaye', 'year': 1971},\n",
              " {'rank': 5, 'song': 'Respect', 'artist': 'Aretha Franklin', 'year': 1967}]"
            ]
          },
          "metadata": {},
          "execution_count": 4
        }
      ],
      "source": [
        "songs[:5]"
      ]
    },
    {
      "cell_type": "code",
      "execution_count": null,
      "metadata": {
        "id": "o2H7CCySrodH",
        "outputId": "6313ccdd-9225-41bc-d80d-17ea14ce9a3f",
        "colab": {
          "base_uri": "https://localhost:8080/"
        }
      },
      "outputs": [
        {
          "output_type": "execute_result",
          "data": {
            "text/plain": [
              "{'artist': 'The Beatles',\n",
              " 'album': \"Sgt. Pepper's Lonely Hearts Club Band\",\n",
              " 'tracks': [\"Sgt. Pepper's Lonely Hearts Club Band - Remix\",\n",
              "  'With A Little Help From My Friends - Remix',\n",
              "  'Lucy In The Sky With Diamonds - Remix',\n",
              "  'Getting Better - Remix',\n",
              "  'Fixing A Hole - Remix',\n",
              "  \"She's Leaving Home - Remix\",\n",
              "  'Being For The Benefit Of Mr. Kite! - Remix',\n",
              "  'Within You Without You - Remix',\n",
              "  \"When I'm Sixty-Four - Remix\",\n",
              "  'Lovely Rita - Remix',\n",
              "  'Good Morning Good Morning - Remix',\n",
              "  \"Sgt. Pepper's Lonely Hearts Club Band (Reprise) - Remix\",\n",
              "  'A Day In The Life - Remix',\n",
              "  \"Sgt. Pepper's Lonely Hearts Club Band - Take 9 And Speech\",\n",
              "  'With A Little Help From My Friends - Take 1 / False Start And Take 2 / Instrumental',\n",
              "  'Lucy In The Sky With Diamonds - Take 1',\n",
              "  'Getting Better - Take 1 / Instrumental And Speech At The End',\n",
              "  'Fixing A Hole - Speech And Take 3',\n",
              "  \"She's Leaving Home - Take 1 / Instrumental\",\n",
              "  'Being For The Benefit Of Mr. Kite! - Take 4',\n",
              "  'Within You Without You - Take 1 / Indian Instruments',\n",
              "  \"When I'm Sixty-Four - Take 2\",\n",
              "  'Lovely Rita - Speech And Take 9',\n",
              "  'Good Morning Good Morning - Take 8',\n",
              "  \"Sgt. Pepper's Lonely Hearts Club Band (Reprise) - Speech And Take 8\",\n",
              "  'A Day In The Life - Take 1 With Hums',\n",
              "  'Strawberry Fields Forever - Take 7',\n",
              "  'Strawberry Fields Forever - Take 26',\n",
              "  'Strawberry Fields Forever - Stereo Mix 2015',\n",
              "  'Penny Lane - Take 6 / Instrumental',\n",
              "  'Penny Lane - Stereo Mix 2017']}"
            ]
          },
          "metadata": {},
          "execution_count": 5
        }
      ],
      "source": [
        "albums_tracks[0]"
      ]
    },
    {
      "cell_type": "markdown",
      "metadata": {
        "id": "xcsy7zeyrodH"
      },
      "source": [
        "* Write functions that perform the following: "
      ]
    },
    {
      "cell_type": "code",
      "source": [
        "# album_most_top_songs - * Returns the name of the artist and album that has that most songs featured on the top 500 songs list\n",
        "\n",
        "\n",
        "def album_most_top_songs(albums,top500):\n",
        "  artists = [\"\",\"\",0]\n",
        "  top500Songs = [song[\"song\"] for song in top500]   # creates list of top 500 songs\n",
        "  for album in albums:\n",
        "    count = 0\n",
        "    for albumSong in album[\"tracks\"]:\n",
        "      if albumSong in top500Songs:     # checks if album song, is in top 500 songs. \n",
        "        count+=1 \n",
        "    if count > artists[2]:\n",
        "      artists = [album[\"artist\"], album[\"album\"], count]    # saves if count of album is greater than previously saved max counted album \n",
        "\n",
        "  print(artists)\n",
        "  return (artists[0],artists[1])\n",
        "\n",
        "  \n",
        "\n",
        "    "
      ],
      "metadata": {
        "id": "X_33lJWssCZl"
      },
      "execution_count": null,
      "outputs": []
    },
    {
      "cell_type": "code",
      "source": [
        "album_most_top_songs(albums_tracks,songs)\n"
      ],
      "metadata": {
        "id": "6PTWvI0Z1RNo",
        "outputId": "395b3227-e0f4-4753-edc8-75db3ab32ceb",
        "colab": {
          "base_uri": "https://localhost:8080/"
        }
      },
      "execution_count": null,
      "outputs": [
        {
          "output_type": "stream",
          "name": "stdout",
          "text": [
            "['Elvis Presley', 'Elvis Presley', 8]\n"
          ]
        },
        {
          "output_type": "execute_result",
          "data": {
            "text/plain": [
              "('Elvis Presley', 'Elvis Presley')"
            ]
          },
          "metadata": {},
          "execution_count": 43
        }
      ]
    },
    {
      "cell_type": "code",
      "source": [
        "def top_ten_albums_by_songs(albums,top500):\n",
        "  topAlbum = []\n",
        "  top500Songs = [song[\"song\"] for song in top500]   # creates list of top 500 songs\n",
        "  \n",
        "  for album in albums:\n",
        "    count = 0\n",
        "    for albumSong in album[\"tracks\"]:\n",
        "      if albumSong in top500Songs:     # checks if album song is in top 500 songs. \n",
        "        count+=1 \n",
        "    \n",
        "    topAlbum.append({album[\"album\"]:count})    \n",
        "  \n",
        "  topAlbum = sorted(topAlbum, key = lambda x: list(x.values())[0],reverse= True)\n",
        "  return topAlbum[0:10]\n"
      ],
      "metadata": {
        "id": "6XskHXH_5Deg"
      },
      "execution_count": null,
      "outputs": []
    },
    {
      "cell_type": "code",
      "source": [
        "top_ten_albums_by_songs(albums_tracks,songs)\n"
      ],
      "metadata": {
        "id": "yGh1tnNT8z-K",
        "outputId": "40e58ef1-8bc1-49f7-84ac-b5e6149f1b61",
        "colab": {
          "base_uri": "https://localhost:8080/"
        }
      },
      "execution_count": null,
      "outputs": [
        {
          "output_type": "execute_result",
          "data": {
            "text/plain": [
              "[{'Elvis Presley': 8},\n",
              " {'The Sun Records Collection': 6},\n",
              " {'Are You Experienced': 4},\n",
              " {'Portrait of a Legend 1951-1964': 4},\n",
              " {'Highway 61 Revisited': 3},\n",
              " {'Bringing It All Back Home': 3},\n",
              " {'Star Time': 3},\n",
              " {'Led Zeppelin II': 3},\n",
              " {'I Never Loved a Man the Way I Love You': 3},\n",
              " {'All the Young Dudes': 3}]"
            ]
          },
          "metadata": {},
          "execution_count": 45
        }
      ]
    },
    {
      "cell_type": "markdown",
      "metadata": {
        "id": "GUbnjh7yrodI"
      },
      "source": [
        "`album_most_top_songs` - \n",
        "    * Returns the name of the artist and album that has that most songs featured on the top 500 songs list\n",
        "\n",
        "`top_ten_albums_by_songs` - returns a dictionary with the 10 albums that have the most songs that appear in the top songs list. The album names should be the keys and the corresponding values should be the number of songs that appear on the top 500 list."
      ]
    }
  ],
  "metadata": {
    "kernelspec": {
      "display_name": "Python 3 (ipykernel)",
      "language": "python",
      "name": "python3"
    },
    "language_info": {
      "codemirror_mode": {
        "name": "ipython",
        "version": 3
      },
      "file_extension": ".py",
      "mimetype": "text/x-python",
      "name": "python",
      "nbconvert_exporter": "python",
      "pygments_lexer": "ipython3",
      "version": "3.9.10"
    },
    "colab": {
      "provenance": []
    }
  },
  "nbformat": 4,
  "nbformat_minor": 0
}