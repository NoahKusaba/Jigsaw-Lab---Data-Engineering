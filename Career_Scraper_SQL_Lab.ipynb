{
  "cells": [
    {
      "cell_type": "markdown",
      "id": "e625fee1-dfe0-4ff0-90c4-6bc82f393780",
      "metadata": {
        "id": "e625fee1-dfe0-4ff0-90c4-6bc82f393780"
      },
      "source": [
        "# Career Scraper Lab"
      ]
    },
    {
      "cell_type": "markdown",
      "id": "d4d4d830-9823-441a-8676-778ee4bb60aa",
      "metadata": {
        "id": "d4d4d830-9823-441a-8676-778ee4bb60aa"
      },
      "source": [
        "### Introduction"
      ]
    },
    {
      "cell_type": "markdown",
      "id": "d5ff4a96-8891-4df9-97db-d9fad0faf0f7",
      "metadata": {
        "id": "d5ff4a96-8891-4df9-97db-d9fad0faf0f7"
      },
      "source": [
        "In this lesson, we'll work with data collected from a scraper that pulls data from Indeed.com.  The goal of this scraper was to find more information about data engineering positions, and tech positions in general.  \n",
        "\n",
        "We can use the data to determine what skills are needed by data engineers, the kinds of companies hiring data engineers, and where they are being hired. "
      ]
    },
    {
      "cell_type": "markdown",
      "id": "1bd2c025-3ef6-4b6f-b43a-60c580ea34b9",
      "metadata": {
        "id": "1bd2c025-3ef6-4b6f-b43a-60c580ea34b9"
      },
      "source": [
        "### Connecting to our database"
      ]
    },
    {
      "cell_type": "markdown",
      "id": "48238227-aba7-45de-bf0d-f57469b6a38b",
      "metadata": {
        "id": "48238227-aba7-45de-bf0d-f57469b6a38b"
      },
      "source": [
        "We can begin by using the psycopg2 library.  This library is already installed on a google colab (so no need to install it).  If we would like to install it on our own computer, we can do so with the following:"
      ]
    },
    {
      "cell_type": "code",
      "execution_count": 1,
      "id": "565fb137-3a57-4831-b85d-4c055206b01c",
      "metadata": {
        "id": "565fb137-3a57-4831-b85d-4c055206b01c",
        "colab": {
          "base_uri": "https://localhost:8080/"
        },
        "outputId": "3c7f3e0d-f461-4e65-fd59-aa28e1f4af5b"
      },
      "outputs": [
        {
          "output_type": "stream",
          "name": "stdout",
          "text": [
            "Looking in indexes: https://pypi.org/simple, https://us-python.pkg.dev/colab-wheels/public/simple/\n",
            "Collecting psycopg2-binary\n",
            "  Downloading psycopg2_binary-2.9.5-cp39-cp39-manylinux_2_17_x86_64.manylinux2014_x86_64.whl (3.0 MB)\n",
            "\u001b[2K     \u001b[90m━━━━━━━━━━━━━━━━━━━━━━━━━━━━━━━━━━━━━━━━\u001b[0m \u001b[32m3.0/3.0 MB\u001b[0m \u001b[31m51.2 MB/s\u001b[0m eta \u001b[36m0:00:00\u001b[0m\n",
            "\u001b[?25hInstalling collected packages: psycopg2-binary\n",
            "Successfully installed psycopg2-binary-2.9.5\n"
          ]
        }
      ],
      "source": [
        "! pip install psycopg2-binary"
      ]
    },
    {
      "cell_type": "markdown",
      "id": "6bed7a95-0582-44ce-977c-8076be6f66f2",
      "metadata": {
        "id": "6bed7a95-0582-44ce-977c-8076be6f66f2"
      },
      "source": [
        "Then we should be able to import the library.  We can then use this library to connect to a postgres database -- one that exists on Jigsaw's amazon account."
      ]
    },
    {
      "cell_type": "code",
      "execution_count": 2,
      "id": "ffd8459f-3b03-468d-988f-b192a1f2019d",
      "metadata": {
        "id": "ffd8459f-3b03-468d-988f-b192a1f2019d"
      },
      "outputs": [],
      "source": [
        "import psycopg2"
      ]
    },
    {
      "cell_type": "code",
      "execution_count": 11,
      "id": "952c2032-f57f-41b3-8779-bd5daee465e9",
      "metadata": {
        "id": "952c2032-f57f-41b3-8779-bd5daee465e9"
      },
      "outputs": [],
      "source": [
        "DB_NAME=\"careers\"\n",
        "DB_HOST=\"career-scraper.crd5vw1vref2.us-east-1.rds.amazonaws.com\"\n",
        "DB_USER=\"student\"\n",
        "DB_PASSWORD=\"jigsaw_student\"\n",
        "db_url = f\"postgresql://{DB_USER}:{DB_PASSWORD}@{DB_HOST}/careers\"\n",
        "conn = psycopg2.connect(db_url)\n",
        "cursor = conn.cursor()"
      ]
    },
    {
      "cell_type": "markdown",
      "id": "4016af43-5afe-4917-9b67-9088bbb60842",
      "metadata": {
        "id": "4016af43-5afe-4917-9b67-9088bbb60842"
      },
      "source": [
        "And from here, we can see all of the tables listed."
      ]
    },
    {
      "cell_type": "code",
      "execution_count": 10,
      "id": "5426ac30-6b33-4e06-9fe4-a564136a0f33",
      "metadata": {
        "id": "5426ac30-6b33-4e06-9fe4-a564136a0f33",
        "outputId": "8c30bf63-7b36-49a5-deb9-cd9254c4436d",
        "colab": {
          "base_uri": "https://localhost:8080/"
        }
      },
      "outputs": [
        {
          "output_type": "execute_result",
          "data": {
            "text/plain": [
              "['states',\n",
              " 'cities',\n",
              " 'scrapings',\n",
              " 'scraped_pages',\n",
              " 'cards',\n",
              " 'companies',\n",
              " 'position_locations',\n",
              " 'position_skills',\n",
              " 'skills',\n",
              " 'positions',\n",
              " 'job_titles']"
            ]
          },
          "metadata": {},
          "execution_count": 10
        }
      ],
      "source": [
        "cursor.execute(\"\"\"SELECT table_name FROM information_schema.tables\n",
        "       WHERE table_schema = 'public'\"\"\")\n",
        "tables = []\n",
        "for table in cursor.fetchall():\n",
        "    tables.append(table[0])\n",
        "tables[1:]"
      ]
    },
    {
      "cell_type": "markdown",
      "id": "4249fddc-5522-464b-aa0d-e57dbc56115d",
      "metadata": {
        "id": "4249fddc-5522-464b-aa0d-e57dbc56115d"
      },
      "source": [
        "So there are a number of tables listed, but we can ignore the `scrapings`, `scraped_pages`, and `cards` tables.  This leaves us with the following relevant tables."
      ]
    },
    {
      "cell_type": "code",
      "execution_count": 5,
      "id": "b8bfc71d-82c7-4753-b764-9b08fbb1c46f",
      "metadata": {
        "id": "b8bfc71d-82c7-4753-b764-9b08fbb1c46f"
      },
      "outputs": [],
      "source": [
        "relevant_tables = ['states', 'cities', 'companies',\n",
        " 'position_locations', 'position_skills', 'skills', 'positions',\n",
        " 'job_titles']"
      ]
    },
    {
      "cell_type": "markdown",
      "id": "9be7bb35-3e9b-43ec-8faf-3917977abd6c",
      "metadata": {
        "id": "9be7bb35-3e9b-43ec-8faf-3917977abd6c"
      },
      "source": [
        "And we can see the columns of each of these tables with the following:"
      ]
    },
    {
      "cell_type": "code",
      "execution_count": 12,
      "id": "214af17a-3e33-4b2c-a72f-43938c69f53e",
      "metadata": {
        "id": "214af17a-3e33-4b2c-a72f-43938c69f53e",
        "colab": {
          "base_uri": "https://localhost:8080/"
        },
        "outputId": "5da11c68-fb7d-41ee-ee9f-c5cc17cfa591"
      },
      "outputs": [
        {
          "output_type": "stream",
          "name": "stdout",
          "text": [
            "states ['id', 'name', 'timestamp']\n",
            "cities ['id', 'name', 'state_id', 'timestamp']\n",
            "companies ['id', 'name', 'timestamp']\n",
            "position_locations ['id', 'position_id', 'city_id', 'state_id', 'is_remote', 'timestamp']\n",
            "position_skills ['id', 'position_id', 'skill_id']\n",
            "skills ['id', 'name', 'timestamp']\n",
            "positions ['id', 'source_id', 'card_id', 'title', 'description', 'minimum_salary', 'maximum_salary', 'minimum_experience', 'maximum_experience', 'company_id', 'timestamp', 'date_posted', 'query_string', 'job_title_id']\n",
            "job_titles ['id', 'name', 'timestamp']\n"
          ]
        }
      ],
      "source": [
        "for relevant_table in relevant_tables:\n",
        "    cursor.execute(f\"Select * FROM {relevant_table} LIMIT 0\")\n",
        "    print(relevant_table, [desc[0] for desc in cursor.description])"
      ]
    },
    {
      "cell_type": "markdown",
      "id": "3f915636-39a5-41c3-87de-85d08443b81b",
      "metadata": {
        "id": "3f915636-39a5-41c3-87de-85d08443b81b"
      },
      "source": [
        "Begin by looking at the columns in the tables.  At this point, it's worth diagramming the structure of these tables.  Look at the foreign keys to determine how these tables relate to one another -- specify the relations."
      ]
    },
    {
      "cell_type": "markdown",
      "id": "d9ca4e55-2549-4d47-9edc-2ec8309a9f4b",
      "metadata": {
        "id": "d9ca4e55-2549-4d47-9edc-2ec8309a9f4b"
      },
      "source": [
        "* Which tables do you think we will be relying on the most?"
      ]
    },
    {
      "cell_type": "markdown",
      "id": "48f6c099-df46-4432-a819-9eb38a3aee9a",
      "metadata": {
        "id": "48f6c099-df46-4432-a819-9eb38a3aee9a"
      },
      "source": [
        "### Answering Questions"
      ]
    },
    {
      "cell_type": "markdown",
      "id": "369007e1-ed63-4dbe-a5a0-0257623a5e2c",
      "metadata": {
        "id": "369007e1-ed63-4dbe-a5a0-0257623a5e2c"
      },
      "source": [
        "> Hint: Before diving into the questions below, it may be useful to explore the data a little, and ask some questions of the data."
      ]
    },
    {
      "cell_type": "markdown",
      "id": "fbd854a6-6fa1-4f52-9332-4ef9f9a2dff4",
      "metadata": {
        "id": "fbd854a6-6fa1-4f52-9332-4ef9f9a2dff4"
      },
      "source": [
        "#### Assessing the data"
      ]
    },
    {
      "cell_type": "markdown",
      "id": "e188f7de-f867-4e9e-8ded-1f1c91b2f11d",
      "metadata": {
        "id": "e188f7de-f867-4e9e-8ded-1f1c91b2f11d"
      },
      "source": [
        "Now this scraper does not have data on all of the jobs in the US, so it's good to start by getting a sense of the data.  What type of data does it hae most?  \n",
        "\n",
        "* For example, what `job_titles` appear most frequently in the database?\n",
        "\n",
        "Then ask similar questions to see what type of data has been collected.\n",
        "\n",
        "> **Hint**: Think about dimensions in the data (who, what, where, when)?"
      ]
    },
    {
      "cell_type": "markdown",
      "id": "1d16f4ad-083b-49a1-a9b1-17310cea6cd7",
      "metadata": {
        "id": "1d16f4ad-083b-49a1-a9b1-17310cea6cd7"
      },
      "source": [
        "### Diving into data engineers"
      ]
    },
    {
      "cell_type": "markdown",
      "id": "1fd3de20-439f-427d-8b0b-730fe4065896",
      "metadata": {
        "id": "1fd3de20-439f-427d-8b0b-730fe4065896"
      },
      "source": [
        "* What are top skills required of data engineers (limit to the top 10 results)?\n"
      ]
    },
    {
      "cell_type": "code",
      "source": [
        "import psycopg2\n",
        "db_url = f\"postgresql://{DB_USER}:{DB_PASSWORD}@{DB_HOST}/careers\"\n",
        "conn = psycopg2.connect(db_url)\n",
        "cursor = conn.cursor()"
      ],
      "metadata": {
        "id": "DZCSOnQTYRXN"
      },
      "id": "DZCSOnQTYRXN",
      "execution_count": 8,
      "outputs": []
    },
    {
      "cell_type": "code",
      "execution_count": 14,
      "id": "7db872e4-d7e5-4114-be85-f7802e96c35d",
      "metadata": {
        "id": "7db872e4-d7e5-4114-be85-f7802e96c35d",
        "colab": {
          "base_uri": "https://localhost:8080/"
        },
        "outputId": "e189245d-c2f4-47d9-c9d5-f659d3fed07f"
      },
      "outputs": [
        {
          "output_type": "execute_result",
          "data": {
            "text/plain": [
              "[('business', 790),\n",
              " ('engineering', 712),\n",
              " ('support', 683),\n",
              " ('design', 654),\n",
              " ('sql', 624),\n",
              " ('python', 555),\n",
              " ('software', 538),\n",
              " ('analytics', 489),\n",
              " ('computer science', 448),\n",
              " ('communication', 443)]"
            ]
          },
          "metadata": {},
          "execution_count": 14
        }
      ],
      "source": [
        "cursor.execute(\"\"\" select skills.name, count(skills.id) from positions\n",
        "join position_skills on position_skills.position_id = positions.id\n",
        "join skills on skills.id = position_skills.skill_id\n",
        "join job_titles on job_titles.id = positions.job_title_id\n",
        "where job_titles.name like '%data enginee%'\n",
        "group by skills.id order by count(skills.id) desc limit 10\"\"\")\n",
        "cursor.fetchall()\n",
        "# name\tamount\n",
        "# 0\tbusiness\t790\n",
        "# 1\tengineering\t712\n",
        "# 2\tsupport\t683\n",
        "# 3\tdesign\t654\n",
        "# 4\tsql\t624\n",
        "# 5\tpython\t555\n",
        "# 6\tsoftware\t538\n",
        "# 7\tanalytics\t489\n",
        "# 8\tcomputer science\t448\n",
        "# 9\tcommunication\t443"
      ]
    },
    {
      "cell_type": "markdown",
      "id": "dee8a661-bdb7-4c66-b85e-b08904ac808d",
      "metadata": {
        "id": "dee8a661-bdb7-4c66-b85e-b08904ac808d"
      },
      "source": [
        "### Choosing a Career"
      ]
    },
    {
      "cell_type": "markdown",
      "id": "4334f3e4-0279-4503-b6cc-65ea59b4ba4e",
      "metadata": {
        "id": "4334f3e4-0279-4503-b6cc-65ea59b4ba4e"
      },
      "source": [
        "* Now perhaps we want to use this database to help us choose a specific profession.  What are some questions we can ask..."
      ]
    },
    {
      "cell_type": "markdown",
      "id": "780aa92b-640d-4160-9560-d0109f52a501",
      "metadata": {
        "id": "780aa92b-640d-4160-9560-d0109f52a501"
      },
      "source": [
        "We can ask questions about: \n",
        "\n",
        "* What is the average minimum salary of a data engineer?"
      ]
    },
    {
      "cell_type": "code",
      "execution_count": 15,
      "id": "fb55650b-cbbb-448f-a541-663c45637172",
      "metadata": {
        "id": "fb55650b-cbbb-448f-a541-663c45637172",
        "colab": {
          "base_uri": "https://localhost:8080/"
        },
        "outputId": "c3366fb0-9816-440f-f7d8-d5651937a317"
      },
      "outputs": [
        {
          "output_type": "execute_result",
          "data": {
            "text/plain": [
              "[(Decimal('78606.050898203593'),)]"
            ]
          },
          "metadata": {},
          "execution_count": 15
        }
      ],
      "source": [
        "cursor.execute(\"\"\" select avg(minimum_salary) from positions\n",
        "join job_titles on job_titles.id = positions.job_title_id\n",
        "where job_titles.name like '%data engineer%'\n",
        "\"\"\")\n",
        "cursor.fetchall()\n",
        "# avg_salary\n",
        "# 0\t78606.050898"
      ]
    },
    {
      "cell_type": "markdown",
      "id": "7d6676d6-46a2-4c0a-9ec6-520c3e7f0981",
      "metadata": {
        "id": "7d6676d6-46a2-4c0a-9ec6-520c3e7f0981"
      },
      "source": [
        "* What are the average minimum salaries by job title, order from most to least"
      ]
    },
    {
      "cell_type": "code",
      "execution_count": 16,
      "id": "0f157e7a-13d3-429e-8e09-32c5d307c062",
      "metadata": {
        "id": "0f157e7a-13d3-429e-8e09-32c5d307c062",
        "colab": {
          "base_uri": "https://localhost:8080/"
        },
        "outputId": "d13c04d4-7322-4fe7-bfda-b894556204e7"
      },
      "outputs": [
        {
          "output_type": "execute_result",
          "data": {
            "text/plain": [
              "[('machine learning engineer', Decimal('104419.226190476190')),\n",
              " ('data scientist', Decimal('88704.466981132075')),\n",
              " ('data engineer', Decimal('78606.050898203593'))]"
            ]
          },
          "metadata": {},
          "execution_count": 16
        }
      ],
      "source": [
        "cursor.execute(\"\"\" select job_titles.name, avg(minimum_salary) from positions\n",
        "join job_titles on job_titles.id = positions.job_title_id\n",
        "group by job_titles.name\n",
        "order by avg(minimum_salary) desc \n",
        "limit 5\n",
        "\"\"\")\n",
        "cursor.fetchall()\n",
        "# name\tavg_salary\n",
        "# 0\tmachine learning engineer\t104419.226190\n",
        "# 1\tdata scientist\t88704.466981\n",
        "# 2\tdata engineer\t78606.050898"
      ]
    },
    {
      "cell_type": "markdown",
      "id": "bc771478-af0a-4dcb-8cdf-13d744477d9f",
      "metadata": {
        "id": "bc771478-af0a-4dcb-8cdf-13d744477d9f"
      },
      "source": [
        "* What are positions that appear the most in new york."
      ]
    },
    {
      "cell_type": "code",
      "execution_count": 17,
      "id": "7a319460-654f-4f27-81b6-c75c271b711a",
      "metadata": {
        "id": "7a319460-654f-4f27-81b6-c75c271b711a",
        "colab": {
          "base_uri": "https://localhost:8080/"
        },
        "outputId": "633914d4-e15e-46b7-e3b6-cf0d9083b6ba"
      },
      "outputs": [
        {
          "output_type": "execute_result",
          "data": {
            "text/plain": [
              "[('data engineer', 38),\n",
              " ('data scientist', 27),\n",
              " ('machine learning engineer', 23)]"
            ]
          },
          "metadata": {},
          "execution_count": 17
        }
      ],
      "source": [
        "cursor.execute(\"\"\" select job_titles.name, count(job_titles.name) from positions\n",
        "join job_titles on job_titles.id = positions.job_title_id\n",
        "join position_locations on position_locations.position_id = positions.id\n",
        "join cities on cities.id = position_locations.city_id\n",
        "\n",
        "where cities.name = 'New York'\n",
        "group by job_titles.name\n",
        "order by count(positions.id) desc\n",
        "limit 5\n",
        "\"\"\")\n",
        "cursor.fetchall()\n",
        "\n",
        "# name\tcount\n",
        "# 0\tdata engineer\t38\n",
        "# 1\tdata scientist\t27\n",
        "# 2\tmachine learning engineer\t23"
      ]
    },
    {
      "cell_type": "markdown",
      "id": "b73889c4-32c0-4d83-86dc-65da6ece1dc8",
      "metadata": {
        "id": "b73889c4-32c0-4d83-86dc-65da6ece1dc8"
      },
      "source": [
        "* Order the cities from most to least by average salary for data engineers, and only include those cities where there are at least 10 positions, and do not include any positions where there is not a listed minimum salary."
      ]
    },
    {
      "cell_type": "code",
      "execution_count": 18,
      "id": "be387538-dd75-4251-a39d-22263f9bce6b",
      "metadata": {
        "id": "be387538-dd75-4251-a39d-22263f9bce6b",
        "colab": {
          "base_uri": "https://localhost:8080/"
        },
        "outputId": "5579c661-5d7a-4374-e436-ed5f3eb0e0e3"
      },
      "outputs": [
        {
          "output_type": "execute_result",
          "data": {
            "text/plain": [
              "[('Remote In San Francisco', Decimal('124056.565217391304'), 23),\n",
              " ('Remote In New York', Decimal('121450.000000000000'), 28),\n",
              " ('New York', Decimal('113408.000000000000'), 25),\n",
              " ('San Francisco', Decimal('104985.000000000000'), 10),\n",
              " ('Denver', Decimal('99855.555555555556'), 18),\n",
              " ('San Diego', Decimal('90680.000000000000'), 12)]"
            ]
          },
          "metadata": {},
          "execution_count": 18
        }
      ],
      "source": [
        "import psycopg2\n",
        "db_url = f\"postgresql://{DB_USER}:{DB_PASSWORD}@{DB_HOST}/careers\"\n",
        "conn = psycopg2.connect(db_url)\n",
        "cursor = conn.cursor()\n",
        "cursor.execute(\"\"\"\n",
        "select cities.name, avg(minimum_salary), count(cities.name) from cities\n",
        "join position_locations on cities.id = position_locations.city_id\n",
        "join positions on position_locations.position_id = positions.id\n",
        "join job_titles  on job_titles.id = positions.job_title_id\n",
        "where minimum_salary is not null\n",
        "group by cities.name\n",
        "having count(cities.name) >= 10 \n",
        "order by avg(minimum_salary) desc\n",
        "limit 6\n",
        "\"\"\")\n",
        "\n",
        "cursor.fetchall()\n",
        "\n",
        "# name\tavg_salary\tnum_positions\n",
        "# 0\tRemote In San Francisco\t124056.565217\t23\n",
        "# 1\tRemote In New York\t121450.000000\t28\n",
        "# 2\tNew York\t113408.000000\t25\n",
        "# 3\tDenver\t99855.555556\t18\n",
        "# 4\tSan Diego\t90680.000000\t12\n"
      ]
    },
    {
      "cell_type": "markdown",
      "id": "eb53895b-4cd9-4684-8973-15144d79260e",
      "metadata": {
        "id": "eb53895b-4cd9-4684-8973-15144d79260e"
      },
      "source": [
        "* Find the average minimum years of experience required by position, order from fewest years required to most."
      ]
    },
    {
      "cell_type": "code",
      "execution_count": 19,
      "id": "df70c15f-e532-4547-80cd-49b77f789bb5",
      "metadata": {
        "id": "df70c15f-e532-4547-80cd-49b77f789bb5",
        "colab": {
          "base_uri": "https://localhost:8080/"
        },
        "outputId": "a10b947b-d7e1-4be0-8843-664ced864532"
      },
      "outputs": [
        {
          "output_type": "execute_result",
          "data": {
            "text/plain": [
              "[('data engineer', Decimal('2.7440423654015887')),\n",
              " ('machine learning engineer', Decimal('3.1359223300970874')),\n",
              " ('data scientist', Decimal('3.2177419354838710'))]"
            ]
          },
          "metadata": {},
          "execution_count": 19
        }
      ],
      "source": [
        "import psycopg2\n",
        "db_url = f\"postgresql://{DB_USER}:{DB_PASSWORD}@{DB_HOST}/careers\"\n",
        "conn = psycopg2.connect(db_url)\n",
        "cursor = conn.cursor()\n",
        "cursor.execute(\"\"\"\n",
        "select job_titles.name, avg(minimum_experience) from positions\n",
        "join job_titles on job_titles.id = positions.job_title_id\n",
        "group by job_titles.name\n",
        "order by avg(minimum_experience) asc\n",
        "\"\"\")\n",
        "\n",
        "cursor.fetchall()\n",
        "\n",
        "# name\tavg_experience\n",
        "# 0\tdata engineer\t2.744042\n",
        "# 1\tmachine learning engineer\t3.135922\n",
        "# 2\tdata scientist\t3.217742"
      ]
    },
    {
      "cell_type": "markdown",
      "id": "5f747881-2d37-4d61-b421-21b68903bdc4",
      "metadata": {
        "id": "5f747881-2d37-4d61-b421-21b68903bdc4"
      },
      "source": [
        "### Choosing a skillset"
      ]
    },
    {
      "cell_type": "markdown",
      "id": "a0c2b87d-ad96-42a0-af3a-07ccbe95479b",
      "metadata": {
        "id": "a0c2b87d-ad96-42a0-af3a-07ccbe95479b"
      },
      "source": [
        "Of course, we also may want to determine what skills are most valuable to learn. \n",
        "We could ask questions about:\n",
        "\n",
        "* What are the top skills requested in the dataset?"
      ]
    },
    {
      "cell_type": "code",
      "execution_count": 20,
      "id": "cb7b78bf-5a6d-4c6a-8942-9ecff4bd8bf2",
      "metadata": {
        "id": "cb7b78bf-5a6d-4c6a-8942-9ecff4bd8bf2",
        "colab": {
          "base_uri": "https://localhost:8080/"
        },
        "outputId": "debaac56-fb1c-450b-d163-541d289ef530"
      },
      "outputs": [
        {
          "output_type": "execute_result",
          "data": {
            "text/plain": [
              "[('business', 1662),\n",
              " ('engineering', 1547),\n",
              " ('support', 1422),\n",
              " ('design', 1385),\n",
              " ('software', 1293),\n",
              " ('python', 1191),\n",
              " ('analytics', 1068),\n",
              " ('communication', 1057),\n",
              " ('sql', 1022),\n",
              " ('computer science', 1022)]"
            ]
          },
          "metadata": {},
          "execution_count": 20
        }
      ],
      "source": [
        "import psycopg2\n",
        "db_url = f\"postgresql://{DB_USER}:{DB_PASSWORD}@{DB_HOST}/careers\"\n",
        "conn = psycopg2.connect(db_url)\n",
        "cursor = conn.cursor()\n",
        "cursor.execute(\"\"\"\n",
        "select skills.name, count(skills.id) from positions\n",
        "join position_skills on position_skills.position_id = positions.id\n",
        "join skills on skills.id = position_skills.skill_id\n",
        "join job_titles on job_titles.id = positions.job_title_id\n",
        "group by skills.id\n",
        "order by count(skills.id) desc\n",
        "limit 10\n",
        "\"\"\")\n",
        "cursor.fetchall()\n",
        "\n",
        "# name\tamount\n",
        "# 0\tbusiness\t1662\n",
        "# 1\tengineering\t1547\n",
        "# 2\tsupport\t1422\n",
        "# 3\tdesign\t1385\n",
        "# 4\tsoftware\t1293\n",
        "# 5\tpython\t1191\n",
        "# 6\tanalytics\t1068\n",
        "# 7\tcommunication\t1057\n",
        "# 8\tsql\t1022\n",
        "# 9\tcomputer science\t1022"
      ]
    },
    {
      "cell_type": "markdown",
      "id": "dffd3ac9-9f91-4767-a907-9acc5c7b04c9",
      "metadata": {
        "id": "dffd3ac9-9f91-4767-a907-9acc5c7b04c9"
      },
      "source": [
        "* Which skills are most associated with jobs requiring 2 or fewer years of minimum experience?"
      ]
    },
    {
      "cell_type": "code",
      "execution_count": 21,
      "id": "74c4f642-2af2-4d1a-b975-1717be8c0fb7",
      "metadata": {
        "id": "74c4f642-2af2-4d1a-b975-1717be8c0fb7",
        "colab": {
          "base_uri": "https://localhost:8080/"
        },
        "outputId": "e3b2bbf2-9920-467b-ff5c-dfea96751d05"
      },
      "outputs": [
        {
          "output_type": "execute_result",
          "data": {
            "text/plain": [
              "[('engineering', 585),\n",
              " ('business', 581),\n",
              " ('support', 525),\n",
              " ('design', 508),\n",
              " ('python', 481),\n",
              " ('software', 459),\n",
              " ('sql', 415),\n",
              " ('communication', 395),\n",
              " ('analytics', 395),\n",
              " ('computer science', 389)]"
            ]
          },
          "metadata": {},
          "execution_count": 21
        }
      ],
      "source": [
        "import psycopg2\n",
        "db_url = f\"postgresql://{DB_USER}:{DB_PASSWORD}@{DB_HOST}/careers\"\n",
        "conn = psycopg2.connect(db_url)\n",
        "cursor = conn.cursor()\n",
        "cursor.execute(\"\"\"\n",
        "select skills.name, count(skills.id) from position_skills\n",
        "join skills on skills.id = position_skills.skill_id\n",
        "join positions on positions.id = position_skills.position_id\n",
        "join job_titles on job_titles.id = positions.job_title_id\n",
        "where minimum_experience <=2 and minimum_experience is not null\n",
        "group by skills.id\n",
        "order by count(skills.id) desc\n",
        "limit 10\n",
        "\"\"\")\n",
        "cursor.fetchall()\n",
        "\n",
        "# name\tamount\n",
        "# 0\tengineering\t585\n",
        "# 1\tbusiness\t581\n",
        "# 2\tsupport\t525\n",
        "# 3\tdesign\t508\n",
        "# 4\tpython\t481\n",
        "# 5\tsoftware\t459\n",
        "# 6\tsql\t415\n",
        "# 7\tanalytics\t395\n",
        "# 8\tcommunication\t395\n",
        "# 9\tcomputer science\t389"
      ]
    },
    {
      "cell_type": "markdown",
      "id": "99374387-7877-4343-9a54-57d718527985",
      "metadata": {
        "id": "99374387-7877-4343-9a54-57d718527985"
      },
      "source": [
        "* Which skills are most associated with a minimum salary over 160k?"
      ]
    },
    {
      "cell_type": "code",
      "execution_count": 22,
      "id": "2c906a79-3a24-457d-a506-c1c7335e73ef",
      "metadata": {
        "id": "2c906a79-3a24-457d-a506-c1c7335e73ef",
        "colab": {
          "base_uri": "https://localhost:8080/"
        },
        "outputId": "124d6399-a0a1-4cec-c1b6-3f4c3e517252"
      },
      "outputs": [
        {
          "output_type": "execute_result",
          "data": {
            "text/plain": [
              "[('machine learning', 18),\n",
              " ('engineering', 17),\n",
              " ('software', 16),\n",
              " ('design', 14),\n",
              " ('computer science', 11),\n",
              " ('support', 11),\n",
              " ('analytics', 11),\n",
              " ('communication', 10),\n",
              " ('business', 10),\n",
              " ('python', 8)]"
            ]
          },
          "metadata": {},
          "execution_count": 22
        }
      ],
      "source": [
        "import psycopg2\n",
        "db_url = f\"postgresql://{DB_USER}:{DB_PASSWORD}@{DB_HOST}/careers\"\n",
        "conn = psycopg2.connect(db_url)\n",
        "cursor = conn.cursor()\n",
        "cursor.execute(\"\"\"\n",
        "select skills.name, count(skills.id) from positions\n",
        "\n",
        "join position_skills on position_skills.position_id = positions.id\n",
        "join skills on skills.id = position_skills.skill_id\n",
        "join job_titles on job_titles.id = positions.job_title_id\n",
        "where minimum_salary > 160000 \n",
        "group by skills.id\n",
        "order by count(skills.id) desc\n",
        "limit 10\n",
        "\"\"\")\n",
        "cursor.fetchall()\n",
        "\n",
        "# name\tamount\n",
        "# 0\tmachine learning\t18\n",
        "# 1\tengineering\t17\n",
        "# 2\tsoftware\t16\n",
        "# 3\tdesign\t14\n",
        "# 4\tanalytics\t11\n",
        "# 5\tsupport\t11\n",
        "# 6\tcomputer science\t11\n",
        "# 7\tcommunication\t10\n",
        "# 8\tbusiness\t10\n",
        "# 9\tpython\t8"
      ]
    },
    {
      "cell_type": "markdown",
      "id": "fc9b7dfc-d413-4331-b675-98f7d94025af",
      "metadata": {
        "id": "fc9b7dfc-d413-4331-b675-98f7d94025af"
      },
      "source": [
        "* Does demand for skillset differ based on region?  Or based on position?"
      ]
    },
    {
      "cell_type": "code",
      "execution_count": 25,
      "id": "3de7ca6b-2210-480e-84f4-94b4999dbf24",
      "metadata": {
        "id": "3de7ca6b-2210-480e-84f4-94b4999dbf24",
        "colab": {
          "base_uri": "https://localhost:8080/"
        },
        "outputId": "c6b53c37-74d3-4bd9-f80e-202dfc5636f7"
      },
      "outputs": [
        {
          "output_type": "execute_result",
          "data": {
            "text/plain": [
              "[('business', 534),\n",
              " ('support', 452),\n",
              " ('engineering', 428),\n",
              " ('design', 384),\n",
              " ('analytics', 367),\n",
              " ('machine learning', 356),\n",
              " ('software', 352),\n",
              " ('communication', 329),\n",
              " ('python', 281),\n",
              " ('computer science', 279)]"
            ]
          },
          "metadata": {},
          "execution_count": 25
        }
      ],
      "source": [
        "import psycopg2\n",
        "db_url = f\"postgresql://{DB_USER}:{DB_PASSWORD}@{DB_HOST}/careers\"\n",
        "conn = psycopg2.connect(db_url)\n",
        "cursor = conn.cursor()\n",
        "cursor.execute(\"\"\"\n",
        "select skills.name, count(skills.id) from positions\n",
        "join position_skills on position_skills.position_id = positions.id\n",
        "join skills on skills.id = position_skills.skill_id\n",
        "join position_locations on position_locations.position_id = positions.id\n",
        "join cities on cities.id = position_locations.city_id\n",
        "where cities.name = 'New York'\n",
        "group by skills.id\n",
        "order by count(skills.id) desc\n",
        "limit 10\n",
        "\"\"\")\n",
        "cursor.fetchall()"
      ]
    },
    {
      "cell_type": "code",
      "source": [
        "import psycopg2\n",
        "db_url = f\"postgresql://{DB_USER}:{DB_PASSWORD}@{DB_HOST}/careers\"\n",
        "conn = psycopg2.connect(db_url)\n",
        "cursor = conn.cursor()\n",
        "cursor.execute(\"\"\"\n",
        "select skills.name, count(skills.id) from positions\n",
        "join position_skills on position_skills.position_id = positions.id\n",
        "join skills on skills.id = position_skills.skill_id\n",
        "join position_locations on position_locations.position_id = positions.id\n",
        "join cities on cities.id = position_locations.city_id\n",
        "where cities.name = 'San Francisco'\n",
        "group by skills.id\n",
        "order by count(skills.id) desc\n",
        "limit 10\n",
        "\"\"\")\n",
        "cursor.fetchall()"
      ],
      "metadata": {
        "colab": {
          "base_uri": "https://localhost:8080/"
        },
        "id": "8i5WVVYvEszM",
        "outputId": "ef14ef8b-cafa-4bcd-abd0-d18612181531"
      },
      "id": "8i5WVVYvEszM",
      "execution_count": 26,
      "outputs": [
        {
          "output_type": "execute_result",
          "data": {
            "text/plain": [
              "[('business', 34),\n",
              " ('engineering', 31),\n",
              " ('machine learning', 26),\n",
              " ('software', 24),\n",
              " ('design', 24),\n",
              " ('python', 22),\n",
              " ('support', 21),\n",
              " ('communication', 19),\n",
              " ('sql', 18),\n",
              " ('data science', 18)]"
            ]
          },
          "metadata": {},
          "execution_count": 26
        }
      ]
    },
    {
      "cell_type": "code",
      "source": [
        "import psycopg2\n",
        "db_url = f\"postgresql://{DB_USER}:{DB_PASSWORD}@{DB_HOST}/careers\"\n",
        "conn = psycopg2.connect(db_url)\n",
        "cursor = conn.cursor()\n",
        "cursor.execute(\"\"\"\n",
        "select skills.name, count(skills.id) from positions\n",
        "join position_skills on position_skills.position_id = positions.id\n",
        "join skills on skills.id = position_skills.skill_id\n",
        "join job_titles on job_titles.id = positions.job_title_id\n",
        "where job_titles.name like '%data scientist%'\n",
        "group by skills.id\n",
        "order by count(skills.id) desc\n",
        "limit 10\n",
        "\"\"\")\n",
        "cursor.fetchall()"
      ],
      "metadata": {
        "colab": {
          "base_uri": "https://localhost:8080/"
        },
        "id": "XUEUHrpnE6Yz",
        "outputId": "15960a28-75e2-42fc-96d0-a292dc742a10"
      },
      "id": "XUEUHrpnE6Yz",
      "execution_count": 27,
      "outputs": [
        {
          "output_type": "execute_result",
          "data": {
            "text/plain": [
              "[('business', 488),\n",
              " ('support', 369),\n",
              " ('analytics', 346),\n",
              " ('engineering', 345),\n",
              " ('python', 336),\n",
              " ('machine learning', 331),\n",
              " ('design', 308),\n",
              " ('communication', 303),\n",
              " ('data science', 292),\n",
              " ('software', 286)]"
            ]
          },
          "metadata": {},
          "execution_count": 27
        }
      ]
    },
    {
      "cell_type": "code",
      "source": [
        "import psycopg2\n",
        "db_url = f\"postgresql://{DB_USER}:{DB_PASSWORD}@{DB_HOST}/careers\"\n",
        "conn = psycopg2.connect(db_url)\n",
        "cursor = conn.cursor()\n",
        "cursor.execute(\"\"\"\n",
        "select skills.name, count(skills.id) from positions\n",
        "join position_skills on position_skills.position_id = positions.id\n",
        "join skills on skills.id = position_skills.skill_id\n",
        "join job_titles on job_titles.id = positions.job_title_id\n",
        "where job_titles.name like '%data engineer%'\n",
        "group by skills.id\n",
        "order by count(skills.id) desc\n",
        "limit 10\n",
        "\"\"\")\n",
        "cursor.fetchall()"
      ],
      "metadata": {
        "id": "1LmwUMbCGb6q",
        "outputId": "e0ca3891-8316-4c8f-da05-5fa9db3c783e",
        "colab": {
          "base_uri": "https://localhost:8080/"
        }
      },
      "id": "1LmwUMbCGb6q",
      "execution_count": 28,
      "outputs": [
        {
          "output_type": "execute_result",
          "data": {
            "text/plain": [
              "[('business', 790),\n",
              " ('engineering', 712),\n",
              " ('support', 683),\n",
              " ('design', 654),\n",
              " ('sql', 624),\n",
              " ('python', 555),\n",
              " ('software', 538),\n",
              " ('analytics', 489),\n",
              " ('computer science', 448),\n",
              " ('communication', 443)]"
            ]
          },
          "metadata": {},
          "execution_count": 28
        }
      ]
    },
    {
      "cell_type": "code",
      "source": [
        "import psycopg2\n",
        "db_url = f\"postgresql://{DB_USER}:{DB_PASSWORD}@{DB_HOST}/careers\"\n",
        "conn = psycopg2.connect(db_url)\n",
        "cursor = conn.cursor()\n",
        "cursor.execute(\"\"\"\n",
        "select skills.name, count(skills.id) from positions\n",
        "join position_skills on position_skills.position_id = positions.id\n",
        "join skills on skills.id = position_skills.skill_id\n",
        "join job_titles on job_titles.id = positions.job_title_id\n",
        "where job_titles.name like '%machine learn%'\n",
        "group by skills.id\n",
        "order by count(skills.id) desc\n",
        "limit 10\n",
        "\"\"\")\n",
        "cursor.fetchall()"
      ],
      "metadata": {
        "id": "RhMVHWweGfMT",
        "outputId": "50b53c1f-7ee5-46bb-b50c-9daaf43844b3",
        "colab": {
          "base_uri": "https://localhost:8080/"
        }
      },
      "id": "RhMVHWweGfMT",
      "execution_count": 29,
      "outputs": [
        {
          "output_type": "execute_result",
          "data": {
            "text/plain": [
              "[('machine learning', 516),\n",
              " ('engineering', 490),\n",
              " ('software', 469),\n",
              " ('design', 423),\n",
              " ('business', 384),\n",
              " ('support', 370),\n",
              " ('computer science', 320),\n",
              " ('communication', 311),\n",
              " ('python', 300),\n",
              " ('analytics', 233)]"
            ]
          },
          "metadata": {},
          "execution_count": 29
        }
      ]
    }
  ],
  "metadata": {
    "kernelspec": {
      "display_name": "Python 3 (ipykernel)",
      "language": "python",
      "name": "python3"
    },
    "language_info": {
      "codemirror_mode": {
        "name": "ipython",
        "version": 3
      },
      "file_extension": ".py",
      "mimetype": "text/x-python",
      "name": "python",
      "nbconvert_exporter": "python",
      "pygments_lexer": "ipython3",
      "version": "3.11.1"
    },
    "colab": {
      "provenance": []
    }
  },
  "nbformat": 4,
  "nbformat_minor": 5
}