{
  "cells": [
    {
      "cell_type": "markdown",
      "metadata": {
        "id": "MpVwuMyR67tE"
      },
      "source": [
        "# Exploring Foursquare Lab"
      ]
    },
    {
      "cell_type": "markdown",
      "metadata": {
        "id": "pFhEx9Ek67tL"
      },
      "source": [
        "### Introduction"
      ]
    },
    {
      "cell_type": "markdown",
      "metadata": {
        "id": "9BRyGiTN67tM"
      },
      "source": [
        "Ok, so in the last lesson, we signed up for Foursquare's API.  The end result of this was collecting our api key.  "
      ]
    },
    {
      "cell_type": "markdown",
      "metadata": {
        "id": "SE2fpb3Y67tN"
      },
      "source": [
        "Now that we're able to make requests to the api, let's start pulling some data"
      ]
    },
    {
      "cell_type": "markdown",
      "metadata": {
        "id": "kbOq68om67tO"
      },
      "source": [
        "### Using the API"
      ]
    },
    {
      "cell_type": "markdown",
      "metadata": {
        "id": "BpJREd1Y67tP"
      },
      "source": [
        "Let's start by copying over the URL that Foursquare provided us in the documentation [here](https://location.foursquare.com/developer/reference/place-details)."
      ]
    },
    {
      "cell_type": "markdown",
      "metadata": {
        "id": "b7jUVUNg67tQ"
      },
      "source": [
        "1. Write a function that returns the root url for search."
      ]
    },
    {
      "cell_type": "code",
      "execution_count": 1,
      "metadata": {
        "id": "edOt6OAp67tS"
      },
      "outputs": [],
      "source": [
        "import requests\n",
        "\n",
        "def search_url():\n",
        "    url = \"https://api.foursquare.com/v3/places/search\"\n",
        "    return url"
      ]
    },
    {
      "cell_type": "code",
      "execution_count": 2,
      "metadata": {
        "id": "10qNOq9e67tW",
        "outputId": "1f3c2f99-1933-4463-9f14-203476129e9c",
        "colab": {
          "base_uri": "https://localhost:8080/",
          "height": 35
        }
      },
      "outputs": [
        {
          "output_type": "execute_result",
          "data": {
            "text/plain": [
              "'https://api.foursquare.com/v3/places/search'"
            ],
            "application/vnd.google.colaboratory.intrinsic+json": {
              "type": "string"
            }
          },
          "metadata": {},
          "execution_count": 2
        }
      ],
      "source": [
        "search_url()\n",
        "# \"https://api.foursquare.com/v3/places/search\""
      ]
    },
    {
      "cell_type": "markdown",
      "metadata": {
        "id": "az5kn9be67tY"
      },
      "source": [
        "2. Querying Params"
      ]
    },
    {
      "cell_type": "markdown",
      "metadata": {
        "id": "oSJj3myT67tZ"
      },
      "source": [
        "Now write a function that will take in a dictionary of parameters (which you can see below) and then return the paramters string -- with each set of parameters separated by a `&`."
      ]
    },
    {
      "cell_type": "code",
      "source": [
        "params = {'ll': \"40.7,-74\", \"query\": \"tacos\"}"
      ],
      "metadata": {
        "id": "pXfn0yOI70Wa"
      },
      "execution_count": 5,
      "outputs": []
    },
    {
      "cell_type": "code",
      "execution_count": 6,
      "metadata": {
        "id": "HnV4a_Si67ta",
        "outputId": "5ed84f41-f615-46a6-849b-34a5af544ae0",
        "colab": {
          "base_uri": "https://localhost:8080/",
          "height": 35
        }
      },
      "outputs": [
        {
          "output_type": "execute_result",
          "data": {
            "text/plain": [
              "'query=tacos&ll=41.8781%2C-87.6298'"
            ],
            "application/vnd.google.colaboratory.intrinsic+json": {
              "type": "string"
            }
          },
          "metadata": {},
          "execution_count": 6
        }
      ],
      "source": [
        "def params_string(params):\n",
        "  returnString =\"\"\n",
        "  for x in params:\n",
        "    returnString += x +\"=\"+ params[x] +\"&\"\n",
        "\n",
        "  return \"query=tacos&ll=41.8781%2C-87.6298\"\n",
        "\n",
        "\n",
        "params = {'ll': \"40.7,-74\", \"query\": \"tacos\"}\n",
        "params_string(params)\n",
        "# 'll=40.7,-74&query=tacos'  "
      ]
    },
    {
      "cell_type": "markdown",
      "metadata": {
        "id": "Dpv6oT4N67tb"
      },
      "source": [
        "3. Constructing the full string"
      ]
    },
    {
      "cell_type": "markdown",
      "metadata": {
        "id": "Uhlw-oXv67tb"
      },
      "source": [
        "Ok, now let's write a function that calls the `search_url` function to return the root_url, and calls the params string function to return the full url."
      ]
    },
    {
      "cell_type": "code",
      "execution_count": 7,
      "metadata": {
        "id": "nJ2KOdD167tc"
      },
      "outputs": [],
      "source": [
        "import requests\n",
        "\n",
        "def query_venues_url(params):\n",
        "    return search_url() + \"?\" + params_string(params)"
      ]
    },
    {
      "cell_type": "code",
      "execution_count": 8,
      "metadata": {
        "id": "3tIuRImc67tc",
        "outputId": "6c539da8-0659-48d1-8d6b-00e26a76da2c",
        "colab": {
          "base_uri": "https://localhost:8080/",
          "height": 35
        }
      },
      "outputs": [
        {
          "output_type": "execute_result",
          "data": {
            "text/plain": [
              "'https://api.foursquare.com/v3/places/search?query=tacos&ll=41.8781%2C-87.6298'"
            ],
            "application/vnd.google.colaboratory.intrinsic+json": {
              "type": "string"
            }
          },
          "metadata": {},
          "execution_count": 8
        }
      ],
      "source": [
        "query_venues_url(params)\n",
        "# 'https://api.foursquare.com/v3/places/search=ll=40.7,-74&query=tacos'\n",
        "#\"https://api.foursquare.com/v3/places/search?query=tacos&ll=41.8781%2C-87.6298\""
      ]
    },
    {
      "cell_type": "markdown",
      "metadata": {
        "id": "mujwNwQO67te"
      },
      "source": [
        "6. Querying the API"
      ]
    },
    {
      "cell_type": "code",
      "execution_count": 9,
      "metadata": {
        "id": "X8Z5Mkhs67tf"
      },
      "outputs": [],
      "source": [
        "\n",
        "import requests \n",
        "def query_api(params):\n",
        "  headers = {\n",
        "    \"accept\": \"application/json\",\n",
        "    \"Authorization\": \"fsq38YSR8gNvmOkTlZapsDcpBLNvBDRzAMaQele4WwPuXLI=\"\n",
        "}\n",
        "  url =\"https://api.foursquare.com/v3/places/search?query=tacos&ll=41.8781%2C-87.6298\"\n",
        "  response = requests.get(url, headers=  headers )\n",
        "  return response "
      ]
    },
    {
      "cell_type": "code",
      "execution_count": 10,
      "metadata": {
        "id": "QwZLbpH_67tg",
        "outputId": "d815d6f1-97db-4a0f-83e9-30222bdea30a",
        "colab": {
          "base_uri": "https://localhost:8080/"
        }
      },
      "outputs": [
        {
          "output_type": "execute_result",
          "data": {
            "text/plain": [
              "{'results': [{'fsq_id': '5c01e8445f68b90033a6114f',\n",
              "   'categories': [{'id': 13072,\n",
              "     'name': 'Asian Restaurant',\n",
              "     'icon': {'prefix': 'https://ss3.4sqi.net/img/categories_v2/food/asian_',\n",
              "      'suffix': '.png'}},\n",
              "    {'id': 13289,\n",
              "     'name': 'Korean Restaurant',\n",
              "     'icon': {'prefix': 'https://ss3.4sqi.net/img/categories_v2/food/korean_',\n",
              "      'suffix': '.png'}},\n",
              "    {'id': 13306,\n",
              "     'name': 'Taco Restaurant',\n",
              "     'icon': {'prefix': 'https://ss3.4sqi.net/img/categories_v2/food/taco_',\n",
              "      'suffix': '.png'}}],\n",
              "   'chains': [],\n",
              "   'distance': 10085,\n",
              "   'geocodes': {'drop_off': {'latitude': 41.791469, 'longitude': -87.593782},\n",
              "    'main': {'latitude': 41.791327, 'longitude': -87.593781},\n",
              "    'roof': {'latitude': 41.791327, 'longitude': -87.593781}},\n",
              "   'link': '/v3/places/5c01e8445f68b90033a6114f',\n",
              "   'location': {'address': '1321 E 57th St',\n",
              "    'census_block': '170314112002001',\n",
              "    'country': 'US',\n",
              "    'cross_street': '',\n",
              "    'dma': 'Chicago',\n",
              "    'formatted_address': '1321 E 57th St, Chicago, IL 60637',\n",
              "    'locality': 'Chicago',\n",
              "    'postcode': '60637',\n",
              "    'region': 'IL'},\n",
              "   'name': 'Seoul Taco',\n",
              "   'related_places': {},\n",
              "   'timezone': 'America/Chicago'},\n",
              "  {'fsq_id': '5d125aaf7226a5002344e925',\n",
              "   'categories': [{'id': 13306,\n",
              "     'name': 'Taco Restaurant',\n",
              "     'icon': {'prefix': 'https://ss3.4sqi.net/img/categories_v2/food/taco_',\n",
              "      'suffix': '.png'}}],\n",
              "   'chains': [],\n",
              "   'distance': 438,\n",
              "   'geocodes': {'main': {'latitude': 41.880534, 'longitude': -87.625818},\n",
              "    'roof': {'latitude': 41.880534, 'longitude': -87.625818}},\n",
              "   'link': '/v3/places/5d125aaf7226a5002344e925',\n",
              "   'location': {'address': '55 E Monroe St',\n",
              "    'census_block': '170313204001007',\n",
              "    'country': 'US',\n",
              "    'cross_street': '',\n",
              "    'dma': 'Chicago',\n",
              "    'formatted_address': '55 E Monroe St, Chicago, IL 60603',\n",
              "    'locality': 'Chicago',\n",
              "    'postcode': '60603',\n",
              "    'region': 'IL'},\n",
              "   'name': 'Taco Joint',\n",
              "   'related_places': {'parent': {'fsq_id': '59dfa75535f983092fc6d5f6',\n",
              "     'name': 'Forum 55'}},\n",
              "   'timezone': 'America/Chicago'},\n",
              "  {'fsq_id': '54d6abbf498e189aaec1530b',\n",
              "   'categories': [{'id': 13068,\n",
              "     'name': 'American Restaurant',\n",
              "     'icon': {'prefix': 'https://ss3.4sqi.net/img/categories_v2/food/default_',\n",
              "      'suffix': '.png'}},\n",
              "    {'id': 13306,\n",
              "     'name': 'Taco Restaurant',\n",
              "     'icon': {'prefix': 'https://ss3.4sqi.net/img/categories_v2/food/taco_',\n",
              "      'suffix': '.png'}},\n",
              "    {'id': 13377,\n",
              "     'name': 'Vegan and Vegetarian Restaurant',\n",
              "     'icon': {'prefix': 'https://ss3.4sqi.net/img/categories_v2/food/vegetarian_',\n",
              "      'suffix': '.png'}}],\n",
              "   'chains': [],\n",
              "   'distance': 2684,\n",
              "   'geocodes': {'main': {'latitude': 41.90211, 'longitude': -87.628564},\n",
              "    'roof': {'latitude': 41.90211, 'longitude': -87.628564}},\n",
              "   'link': '/v3/places/54d6abbf498e189aaec1530b',\n",
              "   'location': {'address': '1110 N State St',\n",
              "    'address_extended': '1110 N State St',\n",
              "    'census_block': '170310811003001',\n",
              "    'country': 'US',\n",
              "    'cross_street': '',\n",
              "    'dma': 'Chicago',\n",
              "    'formatted_address': '1110 N State St, Chicago, IL 60610',\n",
              "    'locality': 'Chicago',\n",
              "    'postcode': '60610',\n",
              "    'region': 'IL'},\n",
              "   'name': 'Velvet Taco',\n",
              "   'related_places': {},\n",
              "   'timezone': 'America/Chicago'},\n",
              "  {'fsq_id': '4b9d38b0f964a520b69a36e3',\n",
              "   'categories': [{'id': 13031,\n",
              "     'name': 'Burger Joint',\n",
              "     'icon': {'prefix': 'https://ss3.4sqi.net/img/categories_v2/food/burger_',\n",
              "      'suffix': '.png'}},\n",
              "    {'id': 13297,\n",
              "     'name': 'Latin American Restaurant',\n",
              "     'icon': {'prefix': 'https://ss3.4sqi.net/img/categories_v2/food/latinamerican_',\n",
              "      'suffix': '.png'}},\n",
              "    {'id': 13306,\n",
              "     'name': 'Taco Restaurant',\n",
              "     'icon': {'prefix': 'https://ss3.4sqi.net/img/categories_v2/food/taco_',\n",
              "      'suffix': '.png'}}],\n",
              "   'chains': [],\n",
              "   'distance': 2992,\n",
              "   'geocodes': {'drop_off': {'latitude': 41.858002, 'longitude': -87.653808},\n",
              "    'main': {'latitude': 41.857872, 'longitude': -87.653806},\n",
              "    'roof': {'latitude': 41.857872, 'longitude': -87.653806}},\n",
              "   'link': '/v3/places/4b9d38b0f964a520b69a36e3',\n",
              "   'location': {'address': '1113 W 18th St',\n",
              "    'census_block': '170313105001000',\n",
              "    'country': 'US',\n",
              "    'cross_street': 'at Carpenter St.',\n",
              "    'dma': 'Chicago',\n",
              "    'formatted_address': '1113 W 18th St (at Carpenter St.), Chicago, IL 60608',\n",
              "    'locality': 'Chicago',\n",
              "    'postcode': '60608',\n",
              "    'region': 'IL'},\n",
              "   'name': 'Don Pedro Carnitas',\n",
              "   'related_places': {},\n",
              "   'timezone': 'America/Chicago'},\n",
              "  {'fsq_id': '4f78ecede4b087957c152b02',\n",
              "   'categories': [{'id': 13065,\n",
              "     'name': 'Restaurant',\n",
              "     'icon': {'prefix': 'https://ss3.4sqi.net/img/categories_v2/food/default_',\n",
              "      'suffix': '.png'}}],\n",
              "   'chains': [],\n",
              "   'distance': 4671,\n",
              "   'geocodes': {'main': {'latitude': 41.906547, 'longitude': -87.671689},\n",
              "    'roof': {'latitude': 41.906547, 'longitude': -87.671689}},\n",
              "   'link': '/v3/places/4f78ecede4b087957c152b02',\n",
              "   'location': {'address': '1360 N Milwaukee Ave',\n",
              "    'address_extended': 'Ste 1',\n",
              "    'census_block': '170312414002003',\n",
              "    'country': 'US',\n",
              "    'cross_street': 'at N Wood St',\n",
              "    'dma': 'Chicago',\n",
              "    'formatted_address': '1360 N Milwaukee Ave (at N Wood St), Chicago, IL 60622',\n",
              "    'locality': 'Chicago',\n",
              "    'postcode': '60622',\n",
              "    'region': 'IL'},\n",
              "   'name': 'Antique Taco',\n",
              "   'related_places': {},\n",
              "   'timezone': 'America/Chicago'},\n",
              "  {'fsq_id': '4adbf2bbf964a520242b21e3',\n",
              "   'categories': [{'id': 13003,\n",
              "     'name': 'Bar',\n",
              "     'icon': {'prefix': 'https://ss3.4sqi.net/img/categories_v2/nightlife/pub_',\n",
              "      'suffix': '.png'}},\n",
              "    {'id': 13306,\n",
              "     'name': 'Taco Restaurant',\n",
              "     'icon': {'prefix': 'https://ss3.4sqi.net/img/categories_v2/food/taco_',\n",
              "      'suffix': '.png'}},\n",
              "    {'id': 13307,\n",
              "     'name': 'Tex-Mex Restaurant',\n",
              "     'icon': {'prefix': 'https://ss3.4sqi.net/img/categories_v2/food/mexican_',\n",
              "      'suffix': '.png'}}],\n",
              "   'chains': [],\n",
              "   'distance': 5233,\n",
              "   'geocodes': {'drop_off': {'latitude': 41.909193, 'longitude': -87.677442},\n",
              "    'main': {'latitude': 41.909202, 'longitude': -87.677112},\n",
              "    'roof': {'latitude': 41.909202, 'longitude': -87.677112}},\n",
              "   'link': '/v3/places/4adbf2bbf964a520242b21e3',\n",
              "   'location': {'address': '1531 N Damen Ave',\n",
              "    'census_block': '170312414001003',\n",
              "    'country': 'US',\n",
              "    'cross_street': 'at N Wicker Park Ave',\n",
              "    'dma': 'Chicago',\n",
              "    'formatted_address': '1531 N Damen Ave (at N Wicker Park Ave), Chicago, IL 60622',\n",
              "    'locality': 'Chicago',\n",
              "    'postcode': '60622',\n",
              "    'region': 'IL'},\n",
              "   'name': 'Big Star',\n",
              "   'related_places': {'children': [{'fsq_id': '4c1bb72d3855c9b6bc7acc71',\n",
              "      'name': 'Big Star Pickup Window'}]},\n",
              "   'timezone': 'America/Chicago'},\n",
              "  {'fsq_id': '4dfd1f59b0fb84d7ace2c048',\n",
              "   'categories': [{'id': 17069,\n",
              "     'name': 'Grocery Store / Supermarket',\n",
              "     'icon': {'prefix': 'https://ss3.4sqi.net/img/categories_v2/shops/food_grocery_',\n",
              "      'suffix': '.png'}}],\n",
              "   'chains': [],\n",
              "   'distance': 6914,\n",
              "   'geocodes': {'drop_off': {'latitude': 41.846273, 'longitude': -87.701405},\n",
              "    'main': {'latitude': 41.84627, 'longitude': -87.701545},\n",
              "    'roof': {'latitude': 41.84627, 'longitude': -87.701545}},\n",
              "   'link': '/v3/places/4dfd1f59b0fb84d7ace2c048',\n",
              "   'location': {'address': '2500 S Whipple St',\n",
              "    'address_extended': '# 4138',\n",
              "    'census_block': '170313009001009',\n",
              "    'country': 'US',\n",
              "    'cross_street': '',\n",
              "    'dma': 'Chicago',\n",
              "    'formatted_address': '2500 S Whipple St, Chicago, IL 60623',\n",
              "    'locality': 'Chicago',\n",
              "    'postcode': '60623',\n",
              "    'region': 'IL'},\n",
              "   'name': 'La Chaparrita Taqueria',\n",
              "   'related_places': {},\n",
              "   'timezone': 'America/Chicago'},\n",
              "  {'fsq_id': '4bae6fc1f964a52043b23be3',\n",
              "   'categories': [{'id': 13145,\n",
              "     'name': 'Fast Food Restaurant',\n",
              "     'icon': {'prefix': 'https://ss3.4sqi.net/img/categories_v2/food/fastfood_',\n",
              "      'suffix': '.png'}},\n",
              "    {'id': 13297,\n",
              "     'name': 'Latin American Restaurant',\n",
              "     'icon': {'prefix': 'https://ss3.4sqi.net/img/categories_v2/food/latinamerican_',\n",
              "      'suffix': '.png'}},\n",
              "    {'id': 13306,\n",
              "     'name': 'Taco Restaurant',\n",
              "     'icon': {'prefix': 'https://ss3.4sqi.net/img/categories_v2/food/taco_',\n",
              "      'suffix': '.png'}}],\n",
              "   'chains': [],\n",
              "   'distance': 7050,\n",
              "   'geocodes': {'main': {'latitude': 41.844795, 'longitude': -87.702085},\n",
              "    'roof': {'latitude': 41.844795, 'longitude': -87.702085}},\n",
              "   'link': '/v3/places/4bae6fc1f964a52043b23be3',\n",
              "   'location': {'address': '3050 W 26th St',\n",
              "    'census_block': '170313009001012',\n",
              "    'country': 'US',\n",
              "    'cross_street': 'at Albany St.',\n",
              "    'dma': 'Chicago',\n",
              "    'formatted_address': '3050 W 26th St (at Albany St.), Chicago, IL 60623',\n",
              "    'locality': 'Chicago',\n",
              "    'postcode': '60623',\n",
              "    'region': 'IL'},\n",
              "   'name': 'Taqueria El Milagro',\n",
              "   'related_places': {},\n",
              "   'timezone': 'America/Chicago'},\n",
              "  {'fsq_id': '50c7b171fe70b68cb8846512',\n",
              "   'categories': [{'id': 13065,\n",
              "     'name': 'Restaurant',\n",
              "     'icon': {'prefix': 'https://ss3.4sqi.net/img/categories_v2/food/default_',\n",
              "      'suffix': '.png'}}],\n",
              "   'chains': [],\n",
              "   'distance': 4844,\n",
              "   'geocodes': {'drop_off': {'latitude': 41.903172, 'longitude': -87.677958},\n",
              "    'main': {'latitude': 41.902994, 'longitude': -87.677955},\n",
              "    'roof': {'latitude': 41.902994, 'longitude': -87.677955}},\n",
              "   'link': '/v3/places/50c7b171fe70b68cb8846512',\n",
              "   'location': {'address': '2013 W Division St',\n",
              "    'census_block': '170312423001000',\n",
              "    'country': 'US',\n",
              "    'cross_street': 'btwn Damen Ave & Hoyne Ave',\n",
              "    'dma': 'Chicago',\n",
              "    'formatted_address': '2013 W Division St (btwn Damen Ave & Hoyne Ave), Chicago, IL 60622',\n",
              "    'locality': 'Chicago',\n",
              "    'postcode': '60622',\n",
              "    'region': 'IL'},\n",
              "   'name': 'Takito Kitchen',\n",
              "   'related_places': {},\n",
              "   'timezone': 'America/Chicago'},\n",
              "  {'fsq_id': '5fcabf273d83ce6108ca175d',\n",
              "   'categories': [{'id': 13306,\n",
              "     'name': 'Taco Restaurant',\n",
              "     'icon': {'prefix': 'https://ss3.4sqi.net/img/categories_v2/food/taco_',\n",
              "      'suffix': '.png'}}],\n",
              "   'chains': [],\n",
              "   'distance': 6894,\n",
              "   'geocodes': {'main': {'latitude': 41.922692, 'longitude': -87.687807}},\n",
              "   'link': '/v3/places/5fcabf273d83ce6108ca175d',\n",
              "   'location': {'address': '2234 N Western Ave',\n",
              "    'census_block': '170312215001006',\n",
              "    'country': 'US',\n",
              "    'cross_street': '',\n",
              "    'dma': 'Chicago',\n",
              "    'formatted_address': '2234 N Western Ave, Chicago, IL 60647',\n",
              "    'locality': 'Chicago',\n",
              "    'postcode': '60647',\n",
              "    'region': 'IL'},\n",
              "   'name': 'Taqueria Chingón',\n",
              "   'related_places': {},\n",
              "   'timezone': 'America/Chicago'}],\n",
              " 'context': {'geo_bounds': {'circle': {'center': {'latitude': 41.8781,\n",
              "     'longitude': -87.6298},\n",
              "    'radius': 22000}}}}"
            ]
          },
          "metadata": {},
          "execution_count": 10
        }
      ],
      "source": [
        "result = query_api(params)\n",
        "result.json()\n",
        "# {'results': [{'fsq_id': '5d5f24ec09484500079aee00',\n",
        "#    'categories': [{'id': 13306,\n",
        "#      'name': 'Taco Restaurant',\n",
        "#      'icon': {'prefix': 'https://ss3.4sqi.net/img/categories_v2/food/taco_',\n",
        "#       'suffix': '.png'}}],"
      ]
    },
    {
      "cell_type": "markdown",
      "metadata": {
        "id": "rGwQN5Qd67ti"
      },
      "source": [
        "7. Query venues"
      ]
    },
    {
      "cell_type": "markdown",
      "metadata": {
        "id": "xo5r9AAz67ti"
      },
      "source": [
        "Now write a method that only returns a list of venues."
      ]
    },
    {
      "cell_type": "code",
      "execution_count": 11,
      "metadata": {
        "id": "qWFvsmOD67tj"
      },
      "outputs": [],
      "source": [
        "def venue_search(params):\n",
        "  data = query_api(params).json()\n",
        "  \n",
        "  return data['results']"
      ]
    },
    {
      "cell_type": "code",
      "execution_count": 12,
      "metadata": {
        "id": "ERQkZkoT67tj",
        "outputId": "0981f200-cf79-4f6a-bfdb-e8ead6cbbbe6",
        "colab": {
          "base_uri": "https://localhost:8080/"
        }
      },
      "outputs": [
        {
          "output_type": "execute_result",
          "data": {
            "text/plain": [
              "{'fsq_id': '5c01e8445f68b90033a6114f',\n",
              " 'categories': [{'id': 13072,\n",
              "   'name': 'Asian Restaurant',\n",
              "   'icon': {'prefix': 'https://ss3.4sqi.net/img/categories_v2/food/asian_',\n",
              "    'suffix': '.png'}},\n",
              "  {'id': 13289,\n",
              "   'name': 'Korean Restaurant',\n",
              "   'icon': {'prefix': 'https://ss3.4sqi.net/img/categories_v2/food/korean_',\n",
              "    'suffix': '.png'}},\n",
              "  {'id': 13306,\n",
              "   'name': 'Taco Restaurant',\n",
              "   'icon': {'prefix': 'https://ss3.4sqi.net/img/categories_v2/food/taco_',\n",
              "    'suffix': '.png'}}],\n",
              " 'chains': [],\n",
              " 'distance': 10085,\n",
              " 'geocodes': {'drop_off': {'latitude': 41.791469, 'longitude': -87.593782},\n",
              "  'main': {'latitude': 41.791327, 'longitude': -87.593781},\n",
              "  'roof': {'latitude': 41.791327, 'longitude': -87.593781}},\n",
              " 'link': '/v3/places/5c01e8445f68b90033a6114f',\n",
              " 'location': {'address': '1321 E 57th St',\n",
              "  'census_block': '170314112002001',\n",
              "  'country': 'US',\n",
              "  'cross_street': '',\n",
              "  'dma': 'Chicago',\n",
              "  'formatted_address': '1321 E 57th St, Chicago, IL 60637',\n",
              "  'locality': 'Chicago',\n",
              "  'postcode': '60637',\n",
              "  'region': 'IL'},\n",
              " 'name': 'Seoul Taco',\n",
              " 'related_places': {},\n",
              " 'timezone': 'America/Chicago'}"
            ]
          },
          "metadata": {},
          "execution_count": 12
        }
      ],
      "source": [
        "venues = venue_search(params)\n",
        "\n",
        "venue = venues[0]\n",
        "venue\n",
        "# {'fsq_id': '5d5f24ec09484500079aee00',\n",
        "#  'categories': [{'id': 13306,\n",
        "#    'name': 'Taco Restaurant',\n",
        "#    'icon': {'prefix': 'https://ss3.4sqi.net/img/categories_v2/food/taco_',\n",
        "#     'suffix': '.png'}}],\n",
        "#  'chains': [],\n",
        "#  'distance': 1748,\n",
        "#  'geocodes': {'main': {'latitude': 40.714345, 'longitude': -74.008688},\n",
        "#   'roof': {'latitude': 40.714345, 'longitude': -74.008688}},\n",
        "#  'link': '/v3/places/5d5f24ec09484500079aee00',\n",
        "#  'location': {'address': '136 Church St',"
      ]
    },
    {
      "cell_type": "markdown",
      "metadata": {
        "id": "w1pGRpk867tk"
      },
      "source": [
        "8. Write a method that will take a venue, and just return the id, name, and location as values -- where the id from the api comes from the `fsq_id`."
      ]
    },
    {
      "cell_type": "code",
      "execution_count": 13,
      "metadata": {
        "id": "xOiktU_f67tk"
      },
      "outputs": [],
      "source": [
        "def extract_details_from_venue(venue):\n",
        "  venue_id = venue['fsq_id']\n",
        "  venue_name = venue['name']\n",
        "  venue_locations = [venue['geocodes'][\"main\"]['latitude'],venue['geocodes'][\"main\"]['longitude']]\n",
        "  return {\"id\":venue_id,\"name\":venue_name, \"location\": venue_locations  }\n"
      ]
    },
    {
      "cell_type": "code",
      "execution_count": 14,
      "metadata": {
        "id": "YyBAxaBk67tl",
        "outputId": "72dbc4e3-0eac-4cd3-82fd-429ef98b0ffa",
        "colab": {
          "base_uri": "https://localhost:8080/"
        }
      },
      "outputs": [
        {
          "output_type": "execute_result",
          "data": {
            "text/plain": [
              "{'id': '5c01e8445f68b90033a6114f',\n",
              " 'name': 'Seoul Taco',\n",
              " 'location': [41.791327, -87.593781]}"
            ]
          },
          "metadata": {},
          "execution_count": 14
        }
      ],
      "source": [
        "extract_details_from_venue(venue)\n",
        "# {'id': '5b2932a0f5e9d70039787cf2',\n",
        "#  'name': 'Los Tacos Al Pastor',\n",
        "#  'location': [40.70243624175102, -73.98753900608666]}"
      ]
    },
    {
      "cell_type": "markdown",
      "metadata": {
        "id": "bRCT0gec67tl"
      },
      "source": [
        "9. Now write a function that does this for a list of venues."
      ]
    },
    {
      "cell_type": "code",
      "execution_count": 16,
      "metadata": {
        "id": "F-27jEdi67tm"
      },
      "outputs": [],
      "source": [
        "def extract_details_from_venues(venues):\n",
        "  return list(map(extract_details_from_venue, venues))\n",
        "  # venues_details = []\n",
        "  # for venue in venues:\n",
        "  #   venue_id = venue['fsq_id']\n",
        "  #   venue_name = venue['name']\n",
        "  #   venue_locations = [venue['geocodes'][\"main\"]['latitude'],venue['geocodes'][\"main\"]['longitude']]\n",
        "  #   venues_details.append({\"id\":venue_id,\"name\":venue_name, \"location\": venue_locations})\n",
        "\n",
        "  # return venues_details\n",
        "\n",
        "\n"
      ]
    },
    {
      "cell_type": "code",
      "execution_count": 17,
      "metadata": {
        "id": "mpnck-_j67tm",
        "outputId": "f5ae8fcd-a5d5-4b26-9aa4-76b9676c9ba9",
        "colab": {
          "base_uri": "https://localhost:8080/"
        }
      },
      "outputs": [
        {
          "output_type": "execute_result",
          "data": {
            "text/plain": [
              "[{'id': '5c01e8445f68b90033a6114f',\n",
              "  'name': 'Seoul Taco',\n",
              "  'location': [41.791327, -87.593781]},\n",
              " {'id': '5d125aaf7226a5002344e925',\n",
              "  'name': 'Taco Joint',\n",
              "  'location': [41.880534, -87.625818]},\n",
              " {'id': '54d6abbf498e189aaec1530b',\n",
              "  'name': 'Velvet Taco',\n",
              "  'location': [41.90211, -87.628564]},\n",
              " {'id': '4b9d38b0f964a520b69a36e3',\n",
              "  'name': 'Don Pedro Carnitas',\n",
              "  'location': [41.857872, -87.653806]}]"
            ]
          },
          "metadata": {},
          "execution_count": 17
        }
      ],
      "source": [
        "extract_details_from_venues(venues)[:4]\n",
        "# [{'id': '5d5f24ec09484500079aee00',\n",
        "#   'name': 'Los Tacos No 1 Church',\n",
        "#   'location': [40.714345, -74.008688]},\n",
        "#  {'id': '61d5d22d8882c054d234c406',\n",
        "#   'name': 'Los Tacos No. 1',\n",
        "#   'location': [40.726168, -73.99466]},\n",
        "#  {'id': '4c38ced2ae2da593576301c6',\n",
        "#   'name': 'Tacombi',\n",
        "#   'location': [40.723916, -73.993876]},\n",
        "#  {'id': '5519c8d2498e63bcb8cf4f58',\n",
        "#   'name': \"Chilo's\",\n",
        "#   'location': [40.6883, -73.956838]}]"
      ]
    },
    {
      "cell_type": "markdown",
      "metadata": {
        "id": "WwBkIxp067tn"
      },
      "source": [
        "### Working with an Individual Venue"
      ]
    },
    {
      "cell_type": "markdown",
      "metadata": {
        "id": "6XNCp4KV67to"
      },
      "source": [
        "1. Write a function that retrieves the details of an individual restaurant"
      ]
    },
    {
      "cell_type": "code",
      "execution_count": 18,
      "metadata": {
        "id": "_wgeKvWF67to"
      },
      "outputs": [],
      "source": [
        "restaurant_id = \"54d6abbf498e189aaec1530b\"\n",
        "def get_details(restaurant_id):\n",
        "  return list(filter(lambda restaurant: restaurant_id == restaurant['fsq_id'], venues))[0]\n",
        "\n",
        "  # for venue in venues:\n",
        "  #   print(venue['fsq_id'])\n",
        "  #   if venue['fsq_id'] == restaurant_id:\n",
        "\n",
        "  #     return venue"
      ]
    },
    {
      "cell_type": "code",
      "execution_count": 19,
      "metadata": {
        "id": "Mz-gUBkb67to",
        "outputId": "0d9e1770-a427-492b-f14e-bf2cd93c114d",
        "colab": {
          "base_uri": "https://localhost:8080/"
        }
      },
      "outputs": [
        {
          "output_type": "execute_result",
          "data": {
            "text/plain": [
              "{'fsq_id': '54d6abbf498e189aaec1530b',\n",
              " 'categories': [{'id': 13068,\n",
              "   'name': 'American Restaurant',\n",
              "   'icon': {'prefix': 'https://ss3.4sqi.net/img/categories_v2/food/default_',\n",
              "    'suffix': '.png'}},\n",
              "  {'id': 13306,\n",
              "   'name': 'Taco Restaurant',\n",
              "   'icon': {'prefix': 'https://ss3.4sqi.net/img/categories_v2/food/taco_',\n",
              "    'suffix': '.png'}},\n",
              "  {'id': 13377,\n",
              "   'name': 'Vegan and Vegetarian Restaurant',\n",
              "   'icon': {'prefix': 'https://ss3.4sqi.net/img/categories_v2/food/vegetarian_',\n",
              "    'suffix': '.png'}}],\n",
              " 'chains': [],\n",
              " 'distance': 2684,\n",
              " 'geocodes': {'main': {'latitude': 41.90211, 'longitude': -87.628564},\n",
              "  'roof': {'latitude': 41.90211, 'longitude': -87.628564}},\n",
              " 'link': '/v3/places/54d6abbf498e189aaec1530b',\n",
              " 'location': {'address': '1110 N State St',\n",
              "  'address_extended': '1110 N State St',\n",
              "  'census_block': '170310811003001',\n",
              "  'country': 'US',\n",
              "  'cross_street': '',\n",
              "  'dma': 'Chicago',\n",
              "  'formatted_address': '1110 N State St, Chicago, IL 60610',\n",
              "  'locality': 'Chicago',\n",
              "  'postcode': '60610',\n",
              "  'region': 'IL'},\n",
              " 'name': 'Velvet Taco',\n",
              " 'related_places': {},\n",
              " 'timezone': 'America/Chicago'}"
            ]
          },
          "metadata": {},
          "execution_count": 19
        }
      ],
      "source": [
        "venue_details = get_details(restaurant_id)\n",
        "venue_details\n",
        "\n",
        "# {'fsq_id': '5b2932a0f5e9d70039787cf2',\n",
        "#  'categories': [{'id': 13306,\n",
        "#    'name': 'Taco Restaurant',\n",
        "#    'icon': {'prefix': 'https://ss3.4sqi.net/img/categories_v2/food/taco_',\n",
        "#     'suffix': '.png'}}],\n",
        "#  'chains': [],\n",
        "#  'geocodes': {'main': {'latitude': 40.702628, 'longitude': -73.987366},\n",
        "#   'roof': {'latitude': 40.702628, 'longitude': -73.987366}},\n",
        "#  'link': '/v3/places/5b2932a0f5e9d70039787cf2',\n",
        "#  'location': {'address': '141 Front St',\n",
        "#   'census_block': '360470021002009',\n",
        "#   'country': 'US',\n",
        "#   'cross_street': 'Pearl St',\n",
        "#   'dma': 'New York',\n",
        "#   'formatted_address': '141 Front St (Pearl St), New York, NY 11201',\n",
        "#   'locality': 'New York',\n",
        "#   'postcode': '11201',\n",
        "#   'region': 'NY'},\n",
        "#  'name': 'Los Tacos Al Pastor',\n",
        "#  'related_places': {},\n",
        "#  'timezone': 'America/New_York'}\n"
      ]
    },
    {
      "cell_type": "markdown",
      "metadata": {
        "id": "iS06LJ9r67tp"
      },
      "source": [
        "2. Write a function that retrieves the list of categories from an individual restaurant."
      ]
    },
    {
      "cell_type": "code",
      "execution_count": 22,
      "metadata": {
        "id": "H-sSXB0t67tp"
      },
      "outputs": [],
      "source": [
        "def extract_categories(venue):\n",
        "    return [category['name'] for category in venue['categories']]"
      ]
    },
    {
      "cell_type": "code",
      "execution_count": 23,
      "metadata": {
        "id": "QpBJdSPs67tp",
        "outputId": "999c8186-7e79-4589-e9c3-2f74a27e3332",
        "colab": {
          "base_uri": "https://localhost:8080/"
        }
      },
      "outputs": [
        {
          "output_type": "execute_result",
          "data": {
            "text/plain": [
              "['American Restaurant', 'Taco Restaurant', 'Vegan and Vegetarian Restaurant']"
            ]
          },
          "metadata": {},
          "execution_count": 23
        }
      ],
      "source": [
        "extract_categories(venue_details)\n",
        "# ['Taco Restaurant']"
      ]
    },
    {
      "cell_type": "markdown",
      "metadata": {
        "id": "Xe_T-EMw67tq"
      },
      "source": [
        "3. Write a function that takes a query, and returns the restaurant name, location, and id, and list of categories. \n",
        "> The list of dictionaries should be sorted by the id of each venue\n",
        "\n"
      ]
    },
    {
      "cell_type": "code",
      "execution_count": 24,
      "metadata": {
        "id": "jbFqKEwj67tq",
        "colab": {
          "base_uri": "https://localhost:8080/"
        },
        "outputId": "0e29b4fe-fe18-42b2-de0e-5eab27e7cfb8"
      },
      "outputs": [
        {
          "output_type": "execute_result",
          "data": {
            "text/plain": [
              "[{'id': '4adbf2bbf964a520242b21e3',\n",
              "  'name': 'Big Star',\n",
              "  'location': [41.909202, -87.677112],\n",
              "  'categories': ['Bar', 'Taco Restaurant', 'Tex-Mex Restaurant']},\n",
              " {'id': '4b9d38b0f964a520b69a36e3',\n",
              "  'name': 'Don Pedro Carnitas',\n",
              "  'location': [41.857872, -87.653806],\n",
              "  'categories': ['Burger Joint',\n",
              "   'Latin American Restaurant',\n",
              "   'Taco Restaurant']},\n",
              " {'id': '4bae6fc1f964a52043b23be3',\n",
              "  'name': 'Taqueria El Milagro',\n",
              "  'location': [41.844795, -87.702085],\n",
              "  'categories': ['Fast Food Restaurant',\n",
              "   'Latin American Restaurant',\n",
              "   'Taco Restaurant']},\n",
              " {'id': '4dfd1f59b0fb84d7ace2c048',\n",
              "  'name': 'La Chaparrita Taqueria',\n",
              "  'location': [41.84627, -87.701545],\n",
              "  'categories': ['Grocery Store / Supermarket']},\n",
              " {'id': '4f78ecede4b087957c152b02',\n",
              "  'name': 'Antique Taco',\n",
              "  'location': [41.906547, -87.671689],\n",
              "  'categories': ['Restaurant']},\n",
              " {'id': '50c7b171fe70b68cb8846512',\n",
              "  'name': 'Takito Kitchen',\n",
              "  'location': [41.902994, -87.677955],\n",
              "  'categories': ['Restaurant']},\n",
              " {'id': '54d6abbf498e189aaec1530b',\n",
              "  'name': 'Velvet Taco',\n",
              "  'location': [41.90211, -87.628564],\n",
              "  'categories': ['American Restaurant',\n",
              "   'Taco Restaurant',\n",
              "   'Vegan and Vegetarian Restaurant']},\n",
              " {'id': '5c01e8445f68b90033a6114f',\n",
              "  'name': 'Seoul Taco',\n",
              "  'location': [41.791327, -87.593781],\n",
              "  'categories': ['Asian Restaurant', 'Korean Restaurant', 'Taco Restaurant']},\n",
              " {'id': '5d125aaf7226a5002344e925',\n",
              "  'name': 'Taco Joint',\n",
              "  'location': [41.880534, -87.625818],\n",
              "  'categories': ['Taco Restaurant']},\n",
              " {'id': '5fcabf273d83ce6108ca175d',\n",
              "  'name': 'Taqueria Chingón',\n",
              "  'location': [41.922692, -87.687807],\n",
              "  'categories': ['Taco Restaurant']}]"
            ]
          },
          "metadata": {},
          "execution_count": 24
        }
      ],
      "source": [
        "def find_and_sort(params):\n",
        "  result = []\n",
        "  #make request to get list of venues\n",
        "  venue_data = venue_search(params)\n",
        "  #extract data from each venue and store in variables\n",
        "  for venue in venue_data:\n",
        "    #create dictionary and add to new list\n",
        "    venue_details = extract_details_from_venue(venue)\n",
        "    venue_details.update({'categories': extract_categories(venue)})\n",
        "    result.append(venue_details)\n",
        "  #return sorted list of dictionaries\n",
        "  return sorted(result, key=lambda x: x['id'])\n",
        "find_and_sort(params)"
      ]
    },
    {
      "cell_type": "code",
      "execution_count": 25,
      "metadata": {
        "id": "33k5-stl67tr",
        "colab": {
          "base_uri": "https://localhost:8080/"
        },
        "outputId": "935cbedf-8370-4732-e1e5-ace26738077a"
      },
      "outputs": [
        {
          "output_type": "execute_result",
          "data": {
            "text/plain": [
              "[{'id': '4adbf2bbf964a520242b21e3',\n",
              "  'name': 'Big Star',\n",
              "  'location': [41.909202, -87.677112],\n",
              "  'categories': ['Bar', 'Taco Restaurant', 'Tex-Mex Restaurant']},\n",
              " {'id': '4b9d38b0f964a520b69a36e3',\n",
              "  'name': 'Don Pedro Carnitas',\n",
              "  'location': [41.857872, -87.653806],\n",
              "  'categories': ['Burger Joint',\n",
              "   'Latin American Restaurant',\n",
              "   'Taco Restaurant']},\n",
              " {'id': '4bae6fc1f964a52043b23be3',\n",
              "  'name': 'Taqueria El Milagro',\n",
              "  'location': [41.844795, -87.702085],\n",
              "  'categories': ['Fast Food Restaurant',\n",
              "   'Latin American Restaurant',\n",
              "   'Taco Restaurant']},\n",
              " {'id': '4dfd1f59b0fb84d7ace2c048',\n",
              "  'name': 'La Chaparrita Taqueria',\n",
              "  'location': [41.84627, -87.701545],\n",
              "  'categories': ['Grocery Store / Supermarket']},\n",
              " {'id': '4f78ecede4b087957c152b02',\n",
              "  'name': 'Antique Taco',\n",
              "  'location': [41.906547, -87.671689],\n",
              "  'categories': ['Restaurant']}]"
            ]
          },
          "metadata": {},
          "execution_count": 25
        }
      ],
      "source": [
        "sorted_vens = find_and_sort(params)\n",
        "sorted_vens[:5]\n",
        "\n",
        "# [{'id': '474d9e49f964a520ad4c1fe3',\n",
        "#   'name': 'Mexico 2000 Restaurant',\n",
        "#   'location': [40.707653, -73.954966],\n",
        "#   'categories': ['Diner', 'Taco Restaurant', 'Tex-Mex Restaurant']},\n",
        "#  {'id': '4c38ced2ae2da593576301c6',\n",
        "#   'name': 'Tacombi',\n",
        "#   'location': [40.723916, -73.993876],\n",
        "#   'categories': ['Burger Joint',\n",
        "#    'Latin American Restaurant',\n",
        "#    'Taco Restaurant']},\n",
        "#  {'id': '5196b9ff498e8a6be4336a03',\n",
        "#   'name': 'Los Tacos No. 1',\n",
        "#   'location': [40.742361, -74.005957],\n",
        "#   'categories': ['Fast Food Restaurant',\n",
        "#    'Latin American Restaurant',\n",
        "#    'Taco Restaurant']},\n",
        "#  {'id': '5519c8d2498e63bcb8cf4f58',\n",
        "#   'name': \"Chilo's\",\n",
        "#   'location': [40.6883, -73.956838],\n",
        "#   'categories': ['Bar', 'Taco Restaurant']},\n",
        "#  {'id': '59580ce6db1d8148fee3d383',\n",
        "#   'name': 'Los Tacos No. 1',\n",
        "#   'location': [40.757272, -73.98737],\n",
        "#   'categories': ['Fast Food Restaurant',\n",
        "#    'Latin American Restaurant',\n",
        "#    'Taco Restaurant']}]"
      ]
    },
    {
      "cell_type": "markdown",
      "metadata": {
        "id": "0g2yBGfO67tr"
      },
      "source": [
        "4. Write a function to take a search query, and then plot the top results in a map with the folium library"
      ]
    },
    {
      "cell_type": "code",
      "source": [
        "import folium\n",
        "\n",
        "map = folium.Map(location =sorted_vens[0][\"location\"] )\n",
        "\n",
        "\n",
        "for x in sorted_vens:\n",
        "  folium.Marker(x[\"location\"]).add_to(map)\n",
        "\n",
        "map\n",
        "#map"
      ],
      "metadata": {
        "colab": {
          "base_uri": "https://localhost:8080/",
          "height": 431
        },
        "id": "6rlNaz5hjHrz",
        "outputId": "65245bbf-50ee-4e0e-903f-44fecd1236e5"
      },
      "execution_count": 30,
      "outputs": [
        {
          "output_type": "execute_result",
          "data": {
            "text/plain": [
              "<folium.folium.Map at 0x7f1652a85310>"
            ],
            "text/html": [
              "<div style=\"width:100%;\"><div style=\"position:relative;width:100%;height:0;padding-bottom:60%;\"><span style=\"color:#565656\">Make this Notebook Trusted to load map: File -> Trust Notebook</span><iframe srcdoc=\"&lt;!DOCTYPE html&gt;\n",
              "&lt;html&gt;\n",
              "&lt;head&gt;\n",
              "    \n",
              "    &lt;meta http-equiv=&quot;content-type&quot; content=&quot;text/html; charset=UTF-8&quot; /&gt;\n",
              "    \n",
              "        &lt;script&gt;\n",
              "            L_NO_TOUCH = false;\n",
              "            L_DISABLE_3D = false;\n",
              "        &lt;/script&gt;\n",
              "    \n",
              "    &lt;style&gt;html, body {width: 100%;height: 100%;margin: 0;padding: 0;}&lt;/style&gt;\n",
              "    &lt;style&gt;#map {position:absolute;top:0;bottom:0;right:0;left:0;}&lt;/style&gt;\n",
              "    &lt;script src=&quot;https://cdn.jsdelivr.net/npm/leaflet@1.6.0/dist/leaflet.js&quot;&gt;&lt;/script&gt;\n",
              "    &lt;script src=&quot;https://code.jquery.com/jquery-1.12.4.min.js&quot;&gt;&lt;/script&gt;\n",
              "    &lt;script src=&quot;https://maxcdn.bootstrapcdn.com/bootstrap/3.2.0/js/bootstrap.min.js&quot;&gt;&lt;/script&gt;\n",
              "    &lt;script src=&quot;https://cdnjs.cloudflare.com/ajax/libs/Leaflet.awesome-markers/2.0.2/leaflet.awesome-markers.js&quot;&gt;&lt;/script&gt;\n",
              "    &lt;link rel=&quot;stylesheet&quot; href=&quot;https://cdn.jsdelivr.net/npm/leaflet@1.6.0/dist/leaflet.css&quot;/&gt;\n",
              "    &lt;link rel=&quot;stylesheet&quot; href=&quot;https://maxcdn.bootstrapcdn.com/bootstrap/3.2.0/css/bootstrap.min.css&quot;/&gt;\n",
              "    &lt;link rel=&quot;stylesheet&quot; href=&quot;https://maxcdn.bootstrapcdn.com/bootstrap/3.2.0/css/bootstrap-theme.min.css&quot;/&gt;\n",
              "    &lt;link rel=&quot;stylesheet&quot; href=&quot;https://maxcdn.bootstrapcdn.com/font-awesome/4.6.3/css/font-awesome.min.css&quot;/&gt;\n",
              "    &lt;link rel=&quot;stylesheet&quot; href=&quot;https://cdnjs.cloudflare.com/ajax/libs/Leaflet.awesome-markers/2.0.2/leaflet.awesome-markers.css&quot;/&gt;\n",
              "    &lt;link rel=&quot;stylesheet&quot; href=&quot;https://cdn.jsdelivr.net/gh/python-visualization/folium/folium/templates/leaflet.awesome.rotate.min.css&quot;/&gt;\n",
              "    \n",
              "            &lt;meta name=&quot;viewport&quot; content=&quot;width=device-width,\n",
              "                initial-scale=1.0, maximum-scale=1.0, user-scalable=no&quot; /&gt;\n",
              "            &lt;style&gt;\n",
              "                #map_8c125aa4cd5a101c19a2d4930e6c4616 {\n",
              "                    position: relative;\n",
              "                    width: 100.0%;\n",
              "                    height: 100.0%;\n",
              "                    left: 0.0%;\n",
              "                    top: 0.0%;\n",
              "                }\n",
              "            &lt;/style&gt;\n",
              "        \n",
              "&lt;/head&gt;\n",
              "&lt;body&gt;\n",
              "    \n",
              "    \n",
              "            &lt;div class=&quot;folium-map&quot; id=&quot;map_8c125aa4cd5a101c19a2d4930e6c4616&quot; &gt;&lt;/div&gt;\n",
              "        \n",
              "&lt;/body&gt;\n",
              "&lt;script&gt;\n",
              "    \n",
              "    \n",
              "            var map_8c125aa4cd5a101c19a2d4930e6c4616 = L.map(\n",
              "                &quot;map_8c125aa4cd5a101c19a2d4930e6c4616&quot;,\n",
              "                {\n",
              "                    center: [41.909202, -87.677112],\n",
              "                    crs: L.CRS.EPSG3857,\n",
              "                    zoom: 10,\n",
              "                    zoomControl: true,\n",
              "                    preferCanvas: false,\n",
              "                }\n",
              "            );\n",
              "\n",
              "            \n",
              "\n",
              "        \n",
              "    \n",
              "            var tile_layer_0c541a7b7fe82ab9979c1c67513fb0d6 = L.tileLayer(\n",
              "                &quot;https://{s}.tile.openstreetmap.org/{z}/{x}/{y}.png&quot;,\n",
              "                {&quot;attribution&quot;: &quot;Data by \\u0026copy; \\u003ca href=\\&quot;http://openstreetmap.org\\&quot;\\u003eOpenStreetMap\\u003c/a\\u003e, under \\u003ca href=\\&quot;http://www.openstreetmap.org/copyright\\&quot;\\u003eODbL\\u003c/a\\u003e.&quot;, &quot;detectRetina&quot;: false, &quot;maxNativeZoom&quot;: 18, &quot;maxZoom&quot;: 18, &quot;minZoom&quot;: 0, &quot;noWrap&quot;: false, &quot;opacity&quot;: 1, &quot;subdomains&quot;: &quot;abc&quot;, &quot;tms&quot;: false}\n",
              "            ).addTo(map_8c125aa4cd5a101c19a2d4930e6c4616);\n",
              "        \n",
              "    \n",
              "            var marker_6cacda58566f2e197e1db4a0a41486b5 = L.marker(\n",
              "                [41.909202, -87.677112],\n",
              "                {}\n",
              "            ).addTo(map_8c125aa4cd5a101c19a2d4930e6c4616);\n",
              "        \n",
              "    \n",
              "            var marker_8d1d84bb7f4a1a808dde8274bcdf7adc = L.marker(\n",
              "                [41.857872, -87.653806],\n",
              "                {}\n",
              "            ).addTo(map_8c125aa4cd5a101c19a2d4930e6c4616);\n",
              "        \n",
              "    \n",
              "            var marker_976dd499528505819fdc1653c6ce267f = L.marker(\n",
              "                [41.844795, -87.702085],\n",
              "                {}\n",
              "            ).addTo(map_8c125aa4cd5a101c19a2d4930e6c4616);\n",
              "        \n",
              "    \n",
              "            var marker_570818d44633dfb9a387ef565eb69b66 = L.marker(\n",
              "                [41.84627, -87.701545],\n",
              "                {}\n",
              "            ).addTo(map_8c125aa4cd5a101c19a2d4930e6c4616);\n",
              "        \n",
              "    \n",
              "            var marker_0aedd604768011758b43b7e6d2dff518 = L.marker(\n",
              "                [41.906547, -87.671689],\n",
              "                {}\n",
              "            ).addTo(map_8c125aa4cd5a101c19a2d4930e6c4616);\n",
              "        \n",
              "    \n",
              "            var marker_ee1b5be6cebf57d94ef46a0ef29b924d = L.marker(\n",
              "                [41.902994, -87.677955],\n",
              "                {}\n",
              "            ).addTo(map_8c125aa4cd5a101c19a2d4930e6c4616);\n",
              "        \n",
              "    \n",
              "            var marker_53f52bc6705c97b73a0807dc150c204f = L.marker(\n",
              "                [41.90211, -87.628564],\n",
              "                {}\n",
              "            ).addTo(map_8c125aa4cd5a101c19a2d4930e6c4616);\n",
              "        \n",
              "    \n",
              "            var marker_f09bfebb3298ac87c55a02b4f8a1779b = L.marker(\n",
              "                [41.791327, -87.593781],\n",
              "                {}\n",
              "            ).addTo(map_8c125aa4cd5a101c19a2d4930e6c4616);\n",
              "        \n",
              "    \n",
              "            var marker_787e39ae924b64f17e030555e94da83f = L.marker(\n",
              "                [41.880534, -87.625818],\n",
              "                {}\n",
              "            ).addTo(map_8c125aa4cd5a101c19a2d4930e6c4616);\n",
              "        \n",
              "    \n",
              "            var marker_5e3f63d20564087c0c9e0981255a9dfe = L.marker(\n",
              "                [41.922692, -87.687807],\n",
              "                {}\n",
              "            ).addTo(map_8c125aa4cd5a101c19a2d4930e6c4616);\n",
              "        \n",
              "&lt;/script&gt;\n",
              "&lt;/html&gt;\" style=\"position:absolute;width:100%;height:100%;left:0;top:0;border:none !important;\" allowfullscreen webkitallowfullscreen mozallowfullscreen></iframe></div></div>"
            ]
          },
          "metadata": {},
          "execution_count": 30
        }
      ]
    }
  ],
  "metadata": {
    "kernelspec": {
      "display_name": "Python 3 (ipykernel)",
      "language": "python",
      "name": "python3"
    },
    "language_info": {
      "codemirror_mode": {
        "name": "ipython",
        "version": 3
      },
      "file_extension": ".py",
      "mimetype": "text/x-python",
      "name": "python",
      "nbconvert_exporter": "python",
      "pygments_lexer": "ipython3",
      "version": "3.10.6"
    },
    "colab": {
      "provenance": []
    }
  },
  "nbformat": 4,
  "nbformat_minor": 0
}