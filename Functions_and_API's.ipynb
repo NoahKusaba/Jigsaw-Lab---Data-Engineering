{
  "cells": [
    {
      "cell_type": "markdown",
      "id": "c67a1e95-8483-443b-96aa-dadf61fa2de6",
      "metadata": {
        "id": "c67a1e95-8483-443b-96aa-dadf61fa2de6"
      },
      "source": [
        "# Functions and APIs Quiz"
      ]
    },
    {
      "cell_type": "markdown",
      "id": "f9c78744-d6ae-40d6-8b30-3d6fc68922ee",
      "metadata": {
        "id": "f9c78744-d6ae-40d6-8b30-3d6fc68922ee"
      },
      "source": [
        "### Building a function"
      ]
    },
    {
      "cell_type": "markdown",
      "id": "a3c653c4-2c00-428e-a4ee-9ca308461204",
      "metadata": {
        "id": "a3c653c4-2c00-428e-a4ee-9ca308461204"
      },
      "source": [
        "The below makes a request to the to the [Google Books API](https://developers.google.com/books/docs/v1/reference/volumes/list#parameters)."
      ]
    },
    {
      "cell_type": "code",
      "execution_count": 1,
      "id": "386cf3b9-0544-456a-80da-9784af80c4a9",
      "metadata": {
        "id": "386cf3b9-0544-456a-80da-9784af80c4a9"
      },
      "outputs": [],
      "source": [
        "import requests\n",
        "root_url = \"https://www.googleapis.com/books/v1/volumes?q=mark twain\"\n",
        "response = requests.get(root_url)\n",
        "book_results = response.json()"
      ]
    },
    {
      "cell_type": "markdown",
      "id": "7dbb79b7-1f58-4e03-a78a-feefb5bd79c7",
      "metadata": {
        "id": "7dbb79b7-1f58-4e03-a78a-feefb5bd79c7"
      },
      "source": [
        "We can confirm this by viewing the `book_results` variable -- of course, its a bit long."
      ]
    },
    {
      "cell_type": "markdown",
      "id": "d2bdeea0-afa1-408e-ba50-0d3c55d48333",
      "metadata": {
        "id": "d2bdeea0-afa1-408e-ba50-0d3c55d48333"
      },
      "source": [
        "1. Create a function called `make_request` that takes in the url as an argument and returns the results."
      ]
    },
    {
      "cell_type": "code",
      "execution_count": null,
      "id": "351cfc1c-ee9a-409e-b23f-4b99e522fab5",
      "metadata": {
        "id": "351cfc1c-ee9a-409e-b23f-4b99e522fab5"
      },
      "outputs": [],
      "source": [
        "import requests\n",
        "def make_request(url):\n",
        "  response = requests.get(url)\n",
        "  return response.json()"
      ]
    },
    {
      "cell_type": "markdown",
      "id": "aa0977c0-9d40-4020-b209-501910c4322d",
      "metadata": {
        "id": "aa0977c0-9d40-4020-b209-501910c4322d"
      },
      "source": [
        "2. Next write a function called `make_params` that takes in a dictionary of parameters and then returns a string of those query parameters.\n",
        "\n",
        "For example if we provide as an input to the function the following:"
      ]
    },
    {
      "cell_type": "code",
      "execution_count": null,
      "id": "3e9fb784-17ac-4d01-80fa-60c46de21701",
      "metadata": {
        "id": "3e9fb784-17ac-4d01-80fa-60c46de21701"
      },
      "outputs": [],
      "source": [
        "params = {'q': 'mark twain', 'maxResults': '20'}"
      ]
    },
    {
      "cell_type": "markdown",
      "id": "74cbbcac-2a0f-4967-bc9d-a70c4c5e7bcc",
      "metadata": {
        "id": "74cbbcac-2a0f-4967-bc9d-a70c4c5e7bcc"
      },
      "source": [
        "We should be returned: "
      ]
    },
    {
      "cell_type": "code",
      "execution_count": null,
      "id": "e15ba903-43c4-425a-ba10-7a6631633386",
      "metadata": {
        "id": "e15ba903-43c4-425a-ba10-7a6631633386"
      },
      "outputs": [],
      "source": [
        "'q=mark twain&maxResults=20'"
      ]
    },
    {
      "cell_type": "markdown",
      "id": "3e0f1e77-6862-43af-937a-c571b0bc3b4a",
      "metadata": {
        "id": "3e0f1e77-6862-43af-937a-c571b0bc3b4a"
      },
      "source": [
        "And if we provide to the function the following:"
      ]
    },
    {
      "cell_type": "code",
      "execution_count": null,
      "id": "0dc657ba-e2fc-4a2a-8d43-39aa40b5b5a2",
      "metadata": {
        "id": "0dc657ba-e2fc-4a2a-8d43-39aa40b5b5a2"
      },
      "outputs": [],
      "source": [
        "params = {'q': 'mark twain', 'maxResults': '20', 'filter': 'ebooks'}\n"
      ]
    },
    {
      "cell_type": "markdown",
      "id": "8a50de1c-ccfc-4e35-a63c-28aba78e286a",
      "metadata": {
        "id": "8a50de1c-ccfc-4e35-a63c-28aba78e286a"
      },
      "source": [
        "We should be returned:"
      ]
    },
    {
      "cell_type": "code",
      "execution_count": null,
      "id": "daccd6a8-60c0-4650-ba4d-98f726185bf4",
      "metadata": {
        "id": "daccd6a8-60c0-4650-ba4d-98f726185bf4"
      },
      "outputs": [],
      "source": [
        "'q=mark twain&maxResults=20&filter=ebooks'"
      ]
    },
    {
      "cell_type": "markdown",
      "id": "b678a523-e268-47cf-9d01-d281a3fd0ead",
      "metadata": {
        "id": "b678a523-e268-47cf-9d01-d281a3fd0ead"
      },
      "source": [
        "> Write the function in the cell below."
      ]
    },
    {
      "cell_type": "code",
      "source": [
        "def make_params(param):\n",
        "  returnString = \"\"\n",
        "  for x in params:\n",
        "    returnString += x+\"=\"+params[x]+\"&\"\n",
        "\n",
        "  return returnString[0:-1]"
      ],
      "metadata": {
        "id": "6SPi_O6lkJR1"
      },
      "id": "6SPi_O6lkJR1",
      "execution_count": null,
      "outputs": []
    },
    {
      "cell_type": "markdown",
      "id": "b646643a-086b-45f7-948a-f8c78377c20b",
      "metadata": {
        "id": "b646643a-086b-45f7-948a-f8c78377c20b"
      },
      "source": [
        "3. Parsing Parameters"
      ]
    },
    {
      "cell_type": "markdown",
      "id": "7e2d39e1-1e51-4834-b4f6-36a911d22b85",
      "metadata": {
        "id": "7e2d39e1-1e51-4834-b4f6-36a911d22b85"
      },
      "source": [
        "Now write a function called `parse_ids` that given a `response` from the google books volumes endpoint returns a list of the book ids."
      ]
    },
    {
      "cell_type": "markdown",
      "id": "a862f0cb-0de4-4f77-9f06-ff9be8990f1b",
      "metadata": {
        "id": "a862f0cb-0de4-4f77-9f06-ff9be8990f1b"
      },
      "source": [
        "> For example, if we pass the following `book_response` to the `parse_ids` function."
      ]
    },
    {
      "cell_type": "code",
      "execution_count": 8,
      "id": "1a194e6a-1efa-4ea0-85e6-270ef860232e",
      "metadata": {
        "id": "1a194e6a-1efa-4ea0-85e6-270ef860232e"
      },
      "outputs": [],
      "source": [
        "root_url = \"https://www.googleapis.com/books/v1/volumes?q=mark twain\"\n",
        "response = requests.get(root_url)\n",
        "book_response = response.json()"
      ]
    },
    {
      "cell_type": "code",
      "source": [
        "def parse_ids(input):\n",
        "  return [ book[\"id\"]  for book in input[\"items\"]]\n"
      ],
      "metadata": {
        "id": "dtDmBbdvk8Is"
      },
      "id": "dtDmBbdvk8Is",
      "execution_count": 9,
      "outputs": []
    },
    {
      "cell_type": "markdown",
      "id": "a822e9b6-6241-4da3-81e4-a7608213e703",
      "metadata": {
        "id": "a822e9b6-6241-4da3-81e4-a7608213e703"
      },
      "source": [
        "We should get the following."
      ]
    },
    {
      "cell_type": "code",
      "execution_count": 10,
      "id": "7392c0ae-2c29-45f7-938a-c57c100393ca",
      "metadata": {
        "id": "7392c0ae-2c29-45f7-938a-c57c100393ca",
        "outputId": "2964cfde-7665-4d1c-c0cb-a9e061da94d1",
        "colab": {
          "base_uri": "https://localhost:8080/"
        }
      },
      "outputs": [
        {
          "output_type": "stream",
          "name": "stdout",
          "text": [
            "['XWyPDQAAQBAJ', 'E0wgEAAAQBAJ', 'svkyM1SmbHkC', 'lj1Rc68iZ0YC', '8337ugAACAAJ', 'pXlaAAAAMAAJ', 'S6kwDwAAQBAJ', 'aUjtuQEACAAJ', 'wKIRAQAAMAAJ', 'VQBwDwAAQBAJ']\n"
          ]
        }
      ],
      "source": [
        "print(parse_ids(book_response))\n",
        "# ['lj1Rc68iZ0YC',\n",
        "#  'InlaAAAAMAAJ',\n",
        "#  'LxLYQjAz180C',\n",
        "#  'NaMOWJwb0-4C',\n",
        "#  'svkyM1SmbHkC',\n",
        "#  '4zdalyq897AC',\n",
        "#  '19jnAgAAQBAJ',\n",
        "#  'HXQKAQAAQBAJ',\n",
        "#  's5yymAEACAAJ',\n",
        "#  'N2MqDwAAQBAJ']"
      ]
    },
    {
      "cell_type": "markdown",
      "id": "b6f8475f-7888-43c1-a7ac-df28c2f98d2a",
      "metadata": {
        "id": "b6f8475f-7888-43c1-a7ac-df28c2f98d2a"
      },
      "source": [
        "Finally write a function that allows us to pass through a response from the API as one argument, and a list of keys as the other argument.  The function should return to us a list of dictionaries where the keys of each dictionary are the keys passed through the function.\n",
        "\n",
        "The possible returned attributes should be any of:\n",
        "\n",
        "`'title', subtitle', 'authors', 'publisher', 'publishedDate', or 'description'`."
      ]
    },
    {
      "cell_type": "markdown",
      "id": "77d2f49a-7c4b-4d08-9733-a898ceb38e2a",
      "metadata": {
        "id": "77d2f49a-7c4b-4d08-9733-a898ceb38e2a"
      },
      "source": [
        "> Notice that these attributes are under the `volumeInfo` key of each book."
      ]
    },
    {
      "cell_type": "markdown",
      "id": "86c98f2c-f32a-457e-839b-263101fb9fdc",
      "metadata": {
        "id": "86c98f2c-f32a-457e-839b-263101fb9fdc"
      },
      "source": [
        "> **Hint**: It may help to write a function that solves this for a single book first, or simply to solve this outside of a function altogether."
      ]
    },
    {
      "cell_type": "code",
      "execution_count": 11,
      "id": "4ffe1062-7e1d-4541-880b-e185a8a3ac80",
      "metadata": {
        "id": "4ffe1062-7e1d-4541-880b-e185a8a3ac80"
      },
      "outputs": [],
      "source": [
        "def selected_attrs(response, keys = ['title', 'authors']):\n",
        "  returnDic = []\n",
        "# not using list comprehension\n",
        "  for book in response[\"items\"]:\n",
        "    bookDic={}\n",
        "    for key in keys:\n",
        "      if \"subtitle\" not in book[\"volumeInfo\"] and key ==\"subtitle\":\n",
        "        break\n",
        "      bookDic.update({key:book[\"volumeInfo\"][key]})\n",
        "    returnDic.append(bookDic)\n",
        "  return returnDic"
      ]
    },
    {
      "cell_type": "markdown",
      "id": "1703544c-d424-4abd-96fc-4efc61a65f15",
      "metadata": {
        "id": "1703544c-d424-4abd-96fc-4efc61a65f15"
      },
      "source": [
        "```\n",
        "[{'title': 'Mr. Clemens and Mark Twain', 'subtitle': 'A Biography'},\n",
        " {'title': \"Mark Twain's Autobiography\"},\n",
        " {'title': 'The Complete Short Stories of Mark Twain'}]\n",
        "```"
      ]
    },
    {
      "cell_type": "code",
      "execution_count": 12,
      "id": "db8be82e-be73-4bb8-9743-e42169199664",
      "metadata": {
        "id": "db8be82e-be73-4bb8-9743-e42169199664",
        "outputId": "7bcdc450-570f-4dbc-d515-3866d7ff8d84",
        "colab": {
          "base_uri": "https://localhost:8080/"
        }
      },
      "outputs": [
        {
          "output_type": "execute_result",
          "data": {
            "text/plain": [
              "[{'authors': ['Geoffrey C. Ward', 'Dayton Duncan'], 'title': 'Mark Twain'},\n",
              " {'authors': ['Arthur G. Pettit'], 'title': 'Mark Twain And The South'},\n",
              " {'authors': ['Barbara Kerley'],\n",
              "  'title': 'The Extraordinary Mark Twain (according to Susy)'},\n",
              " {'authors': ['Justin Kaplan'],\n",
              "  'title': 'Mr. Clemens and Mark Twain',\n",
              "  'subtitle': 'A Biography'},\n",
              " {'authors': ['Mark Twain'], 'title': 'The Complete Short Stories'},\n",
              " {'authors': ['Mark Twain'], 'title': \"Mark Twain's Autobiography\"},\n",
              " {'authors': ['Mark Twain', 'Shelley Fisher Fishkin', 'Barry Moser'],\n",
              "  'title': 'Mark Twain’s Book of Animals'},\n",
              " {'authors': ['I. M. Walker'], 'title': 'Mark Twain'},\n",
              " {'authors': ['Mark Twain'],\n",
              "  'title': 'The Quotable Mark Twain',\n",
              "  'subtitle': 'His Essential Aphorisms, Witticisms & Concise Opinions'},\n",
              " {'authors': ['Mark Twain'], 'title': 'The Best Short Stories of Mark Twain'}]"
            ]
          },
          "metadata": {},
          "execution_count": 12
        }
      ],
      "source": [
        "selected_attrs(book_response, keys = ['authors',\"title\",\"subtitle\"])\n",
        "\n",
        "# [{'title': 'Mr. Clemens and Mark Twain', 'subtitle': 'A Biography'},\n",
        "#  {'title': \"Mark Twain's Autobiography\"},\n",
        "#  {'title': 'The Complete Short Stories of Mark Twain'},\n",
        "#  {'title': 'Roughing It'},\n",
        "#  {'title': 'The Extraordinary Mark Twain (according to Susy)'},\n",
        "#  {'title': 'Mississippi Writings'},\n",
        "#  {'title': 'The Adventures of Mark Twain by Huckleberry Finn',\n",
        "#   'subtitle': 'with audio recording'},\n",
        "#  {'title': 'Autobiography of Mark Twain, Volume 2',\n",
        "#   'subtitle': 'The Complete and Authoritative Edition'},\n",
        "#  {'title': 'Mark Twain',\n",
        "#   'subtitle': 'Man in White : the Grand Adventure of His Final Years'},\n",
        "#  {'title': 'Mark Twain and Philosophy'}]"
      ]
    },
    {
      "cell_type": "markdown",
      "id": "c5450582-0ca3-46bb-bd13-59946d0f7446",
      "metadata": {
        "id": "c5450582-0ca3-46bb-bd13-59946d0f7446"
      },
      "source": [
        "And if no keys are provided, the function should return `title` and `authors` like so."
      ]
    },
    {
      "cell_type": "code",
      "execution_count": null,
      "id": "aa96c069-f3f2-468d-8f2c-889cb35570c7",
      "metadata": {
        "id": "aa96c069-f3f2-468d-8f2c-889cb35570c7",
        "outputId": "6fbb41f0-ed74-45df-f048-192a5585e94d",
        "colab": {
          "base_uri": "https://localhost:8080/"
        }
      },
      "outputs": [
        {
          "output_type": "execute_result",
          "data": {
            "text/plain": [
              "[{'title': 'Who Was Mark Twain?', 'authors': ['April Jones Prince', 'Who HQ']},\n",
              " {'title': 'Mr. Clemens and Mark Twain', 'authors': ['Justin Kaplan']},\n",
              " {'title': 'Mark Twain', 'authors': ['Geoffrey C. Ward', 'Dayton Duncan']},\n",
              " {'title': 'The Extraordinary Mark Twain (according to Susy)',\n",
              "  'authors': ['Barbara Kerley']},\n",
              " {'title': 'The Portable Mark Twain', 'authors': ['Mark Twain']},\n",
              " {'title': 'The Bible According to Mark Twain', 'authors': ['Mark Twain']},\n",
              " {'title': 'Mark Twain', 'authors': ['Ron Powers']},\n",
              " {'title': 'The Wit and Wisdom of Mark Twain',\n",
              "  'authors': ['Mark Twain', 'Bob Blaisdell']},\n",
              " {'title': 'Mrs. Mark Twain',\n",
              "  'authors': ['Martin Naparsteck', 'Michele Cardulla']},\n",
              " {'title': 'Mark Twain And The South', 'authors': ['Arthur G. Pettit']}]"
            ]
          },
          "metadata": {},
          "execution_count": 48
        }
      ],
      "source": [
        "selected_attrs(book_response)\n",
        "\n",
        "# [{'title': 'Mr. Clemens and Mark Twain', 'authors': ['Justin Kaplan']},\n",
        "#  {'title': \"Mark Twain's Autobiography\", 'authors': ['Mark Twain']},\n",
        "#  {'title': 'The Complete Short Stories of Mark Twain',\n",
        "#   'authors': ['Mark Twain']},\n",
        "#  {'title': 'Roughing It', 'authors': ['Mark Twain']},\n",
        "#  {'title': 'The Extraordinary Mark Twain (according to Susy)',\n",
        "#   'authors': ['Barbara Kerley']},\n",
        "#  {'title': 'Mississippi Writings',\n",
        "#   'authors': ['Theophilus Parvin', 'Mark Twain']},\n",
        "#  {'title': 'The Adventures of Mark Twain by Huckleberry Finn',\n",
        "#   'authors': ['Robert Burleigh']},\n",
        "#  {'title': 'Autobiography of Mark Twain, Volume 2', 'authors': ['Mark Twain']},\n",
        "#  {'title': 'Mark Twain', 'authors': ['Michael Shelden']},\n",
        "#  {'title': 'Mark Twain and Philosophy', 'authors': ['Alan Goldman']}]"
      ]
    },
    {
      "cell_type": "markdown",
      "id": "43e25f51-dd27-4dbb-ac9b-143522e89587",
      "metadata": {
        "id": "43e25f51-dd27-4dbb-ac9b-143522e89587"
      },
      "source": [
        "The end."
      ]
    }
  ],
  "metadata": {
    "kernelspec": {
      "display_name": "Python 3 (ipykernel)",
      "language": "python",
      "name": "python3"
    },
    "language_info": {
      "codemirror_mode": {
        "name": "ipython",
        "version": 3
      },
      "file_extension": ".py",
      "mimetype": "text/x-python",
      "name": "python",
      "nbconvert_exporter": "python",
      "pygments_lexer": "ipython3",
      "version": "3.9.10"
    },
    "colab": {
      "provenance": []
    }
  },
  "nbformat": 4,
  "nbformat_minor": 5
}