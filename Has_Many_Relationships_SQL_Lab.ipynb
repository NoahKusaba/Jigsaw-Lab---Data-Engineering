{
  "cells": [
    {
      "cell_type": "markdown",
      "metadata": {
        "id": "NdVpgo1wr34s"
      },
      "source": [
        "# Has Many Movie Lab"
      ]
    },
    {
      "cell_type": "markdown",
      "metadata": {
        "id": "-VxeD4GEr34v"
      },
      "source": [
        "### Introduction\n",
        "In this lab we will continue to look at the \"Has-Many\" relationships in our data. The database we will be using during this lab contains information about a selection of movies and related entities such as actors, directors and writers. A movie entity will have relationships with actor, director, and writer entities. The actors, directors and writers will also have relationships with themselves (i.e. a director will have worked with many actors). In problems below, we will use our knowledge of these relationships to build SQL queries."
      ]
    },
    {
      "cell_type": "markdown",
      "metadata": {
        "id": "Y-ZNN1xur34w"
      },
      "source": [
        "Let's begin by connecting to the database and reviewing the schema of the tables."
      ]
    },
    {
      "cell_type": "code",
      "execution_count": 1,
      "metadata": {
        "id": "bmP1Ldndr34x"
      },
      "outputs": [],
      "source": [
        "import sqlite3\n",
        "conn = sqlite3.connect('movie_films_actors.db')\n",
        "cursor = conn.cursor()"
      ]
    },
    {
      "cell_type": "code",
      "execution_count": 2,
      "metadata": {
        "id": "i-Si2dO2r340"
      },
      "outputs": [],
      "source": [
        "import pandas as pd\n",
        "root_url = \"https://raw.githubusercontent.com/jigsawlabs-student/curriculum-images/main/has-many-movies-lab/\"\n",
        "names = ['actors', 'directors', 'movies', 'writers', 'movie_actors', 'movie_directors', 'movie_writers']\n",
        "loaded_dfs = [pd.read_csv(f'{root_url}{name}.csv') for name in names]"
      ]
    },
    {
      "cell_type": "code",
      "execution_count": 3,
      "metadata": {
        "id": "ke4wEjx5r343"
      },
      "outputs": [],
      "source": [
        "for index, name in enumerate(names):\n",
        "    loaded_dfs[index].to_sql(f'{name}', conn, index = False)"
      ]
    },
    {
      "cell_type": "code",
      "execution_count": 4,
      "metadata": {
        "id": "6_5X5F6dr346",
        "outputId": "fbbb525a-2523-4c51-d7bf-4e04ca04e353",
        "colab": {
          "base_uri": "https://localhost:8080/"
        }
      },
      "outputs": [
        {
          "output_type": "execute_result",
          "data": {
            "text/plain": [
              "[('actors',),\n",
              " ('directors',),\n",
              " ('movies',),\n",
              " ('writers',),\n",
              " ('movie_actors',),\n",
              " ('movie_directors',),\n",
              " ('movie_writers',)]"
            ]
          },
          "metadata": {},
          "execution_count": 4
        }
      ],
      "source": [
        "cursor.execute('SELECT name from sqlite_master where type= \"table\"')\n",
        "cursor.fetchall()"
      ]
    },
    {
      "cell_type": "code",
      "execution_count": 5,
      "metadata": {
        "id": "Bbv7IDNyr34-",
        "outputId": "5694552f-240a-4d88-f8ba-2bdb24b35925",
        "colab": {
          "base_uri": "https://localhost:8080/"
        }
      },
      "outputs": [
        {
          "output_type": "execute_result",
          "data": {
            "text/plain": [
              "[(0, 'id', 'INTEGER', 0, None, 0),\n",
              " (1, 'title', 'TEXT', 0, None, 0),\n",
              " (2, 'studio', 'TEXT', 0, None, 0),\n",
              " (3, 'runtime', 'REAL', 0, None, 0),\n",
              " (4, 'description', 'TEXT', 0, None, 0),\n",
              " (5, 'release_date', 'TEXT', 0, None, 0),\n",
              " (6, 'year', 'INTEGER', 0, None, 0)]"
            ]
          },
          "metadata": {},
          "execution_count": 5
        }
      ],
      "source": [
        "cursor.execute('PRAGMA table_info(movies)')\n",
        "cursor.fetchall()"
      ]
    },
    {
      "cell_type": "code",
      "execution_count": null,
      "metadata": {
        "id": "tJIaTIGKr35A",
        "outputId": "635bbcc1-ffbd-446b-8ed6-563bceb20cf9",
        "colab": {
          "base_uri": "https://localhost:8080/"
        }
      },
      "outputs": [
        {
          "output_type": "execute_result",
          "data": {
            "text/plain": [
              "[(0, 'id', 'INTEGER', 0, None, 0), (1, 'name', 'TEXT', 0, None, 0)]"
            ]
          },
          "metadata": {},
          "execution_count": 7
        }
      ],
      "source": [
        "cursor.execute('PRAGMA table_info(actors)')\n",
        "cursor.fetchall()"
      ]
    },
    {
      "cell_type": "code",
      "execution_count": null,
      "metadata": {
        "id": "qgHgzSKur35B",
        "outputId": "1e5d82cd-438a-425f-ae84-eca32f7cd7d6",
        "colab": {
          "base_uri": "https://localhost:8080/"
        }
      },
      "outputs": [
        {
          "output_type": "execute_result",
          "data": {
            "text/plain": [
              "[(0, 'id', 'INTEGER', 0, None, 0), (1, 'name', 'TEXT', 0, None, 0)]"
            ]
          },
          "metadata": {},
          "execution_count": 8
        }
      ],
      "source": [
        "cursor.execute('PRAGMA table_info(directors)')\n",
        "cursor.fetchall()"
      ]
    },
    {
      "cell_type": "code",
      "execution_count": null,
      "metadata": {
        "id": "SN2TTbHir35D",
        "outputId": "bfcdf402-3ddf-4ec8-e4a3-d331d38d2837",
        "colab": {
          "base_uri": "https://localhost:8080/"
        }
      },
      "outputs": [
        {
          "output_type": "execute_result",
          "data": {
            "text/plain": [
              "[(0, 'id', 'INTEGER', 0, None, 0), (1, 'name', 'TEXT', 0, None, 0)]"
            ]
          },
          "metadata": {},
          "execution_count": 9
        }
      ],
      "source": [
        "cursor.execute('PRAGMA table_info(writers)')\n",
        "cursor.fetchall()"
      ]
    },
    {
      "cell_type": "code",
      "execution_count": null,
      "metadata": {
        "id": "_pPvIUNzr35E",
        "outputId": "7a26e1c6-376b-4df3-f318-a83b332b44f6",
        "colab": {
          "base_uri": "https://localhost:8080/"
        }
      },
      "outputs": [
        {
          "output_type": "execute_result",
          "data": {
            "text/plain": [
              "[(0, 'id', 'INTEGER', 0, None, 0),\n",
              " (1, 'movie_id', 'INTEGER', 0, None, 0),\n",
              " (2, 'actor_id', 'INTEGER', 0, None, 0)]"
            ]
          },
          "metadata": {},
          "execution_count": 10
        }
      ],
      "source": [
        "cursor.execute('PRAGMA table_info(movie_actors)')\n",
        "cursor.fetchall()"
      ]
    },
    {
      "cell_type": "code",
      "execution_count": null,
      "metadata": {
        "id": "KuezeRU0r35F",
        "outputId": "509a078f-7485-4dea-da89-ac8535a95c95",
        "colab": {
          "base_uri": "https://localhost:8080/"
        }
      },
      "outputs": [
        {
          "output_type": "execute_result",
          "data": {
            "text/plain": [
              "[(0, 'id', 'INTEGER', 0, None, 0),\n",
              " (1, 'movie_id', 'INTEGER', 0, None, 0),\n",
              " (2, 'director_id', 'INTEGER', 0, None, 0)]"
            ]
          },
          "metadata": {},
          "execution_count": 11
        }
      ],
      "source": [
        "cursor.execute('PRAGMA table_info(movie_directors)')\n",
        "cursor.fetchall()"
      ]
    },
    {
      "cell_type": "code",
      "execution_count": null,
      "metadata": {
        "id": "UL0Mnu8Vr35F",
        "outputId": "df02a24d-db1e-4acf-bebe-c75f84db8469",
        "colab": {
          "base_uri": "https://localhost:8080/"
        }
      },
      "outputs": [
        {
          "output_type": "execute_result",
          "data": {
            "text/plain": [
              "[(0, 'id', 'INTEGER', 0, None, 0),\n",
              " (1, 'movie_id', 'INTEGER', 0, None, 0),\n",
              " (2, 'writer_id', 'INTEGER', 0, None, 0)]"
            ]
          },
          "metadata": {},
          "execution_count": 12
        }
      ],
      "source": [
        "cursor.execute('PRAGMA table_info(movie_writers)')\n",
        "cursor.fetchall()"
      ]
    },
    {
      "cell_type": "markdown",
      "metadata": {
        "id": "RBWm-1Ejr35G"
      },
      "source": [
        "Let's start off with some basic one table queries:"
      ]
    },
    {
      "cell_type": "markdown",
      "metadata": {
        "id": "JxjXIQUCr35G"
      },
      "source": [
        "* What is the title, length, and id of the movie with the longest runtime?"
      ]
    },
    {
      "cell_type": "code",
      "execution_count": null,
      "metadata": {
        "id": "jlfEXxB7r35H",
        "outputId": "483558e0-5052-47df-eee6-7499813b90f8",
        "colab": {
          "base_uri": "https://localhost:8080/"
        }
      },
      "outputs": [
        {
          "output_type": "execute_result",
          "data": {
            "text/plain": [
              "[(11415, 'Never Sleep Again: The Elm Street Legacy', 480.0)]"
            ]
          },
          "metadata": {},
          "execution_count": 13
        }
      ],
      "source": [
        "cursor.execute(\"select movies.id, movies.title, movies.runtime from movies where runtime = (select max(movies.runtime) from movies)\")\n",
        "cursor.fetchall()\n",
        "# [('Never Sleep Again: The Elm Street Legacy', 480.0, 11415)]"
      ]
    },
    {
      "cell_type": "markdown",
      "metadata": {
        "id": "xMrxlGKLr35H"
      },
      "source": [
        "* Using your answer from the previous question, how many actors were credited for the movie with the longest runtime? Hint: Use the COUNT function with the movie ID"
      ]
    },
    {
      "cell_type": "code",
      "execution_count": null,
      "metadata": {
        "id": "UZQm1st2r35H",
        "outputId": "200be1bd-437a-43f3-9f1a-de6c7ae83d9c",
        "colab": {
          "base_uri": "https://localhost:8080/"
        }
      },
      "outputs": [
        {
          "output_type": "execute_result",
          "data": {
            "text/plain": [
              "[(11415, 'Never Sleep Again: The Elm Street Legacy', 480.0, 6)]"
            ]
          },
          "metadata": {},
          "execution_count": 14
        }
      ],
      "source": [
        "cursor.execute(\"select movies.id, movies.title, movies.runtime, count(actor_id) from movies join movie_actors on movie_actors.movie_id = movies.id where runtime = (select max(movies.runtime) from movies) \")\n",
        "cursor.fetchall()\n",
        "\n",
        "# [(6,)]"
      ]
    },
    {
      "cell_type": "markdown",
      "metadata": {
        "id": "pseH_KmUr35I"
      },
      "source": [
        "* What was the shortest movie released in 2006?"
      ]
    },
    {
      "cell_type": "code",
      "execution_count": null,
      "metadata": {
        "id": "dZbybnBlr35I",
        "outputId": "702e78bc-377d-4549-b135-52b70ccd3ea2",
        "colab": {
          "base_uri": "https://localhost:8080/"
        }
      },
      "outputs": [
        {
          "output_type": "execute_result",
          "data": {
            "text/plain": [
              "[('12 Strong', None)]"
            ]
          },
          "metadata": {},
          "execution_count": 15
        }
      ],
      "source": [
        "cursor.execute(\"select movies.title, movies.runtime from movies order by movies.runtime asc limit 1\")\n",
        "\n",
        "\n",
        "#cursor.execute(\"select movies.title, movies.runtime from movies where movies.title = 'The Guardian'\")\n",
        "cursor.fetchall()\n",
        "# [('The Guardian',)]"
      ]
    },
    {
      "cell_type": "markdown",
      "metadata": {
        "id": "GSsal_65r35J"
      },
      "source": [
        "### Has Many"
      ]
    },
    {
      "cell_type": "markdown",
      "metadata": {
        "id": "jHZAIG6dr35J"
      },
      "source": [
        "* What are the names of the actors in Toy Story?"
      ]
    },
    {
      "cell_type": "code",
      "execution_count": null,
      "metadata": {
        "id": "Tp6qcebpr35J",
        "outputId": "b11f2021-74a8-45da-93ca-b532860fe21d",
        "colab": {
          "base_uri": "https://localhost:8080/"
        }
      },
      "outputs": [
        {
          "output_type": "execute_result",
          "data": {
            "text/plain": [
              "[('Toy Story', 'Tom Hanks'),\n",
              " ('Toy Story', 'Tim Allen'),\n",
              " ('Toy Story', 'Jim Varney'),\n",
              " ('Toy Story', 'Wallace Shawn'),\n",
              " ('Toy Story', 'Don Rickles'),\n",
              " ('Toy Story', 'John Ratzenberger')]"
            ]
          },
          "metadata": {},
          "execution_count": 16
        }
      ],
      "source": [
        "cursor.execute(\"select movies.title,actors.name from movies join movie_actors on movie_actors.movie_id = movies.id join actors on actors.id = movie_actors.actor_id where movies.title ='Toy Story'\")\n",
        "cursor.fetchall()\n",
        "# [('Tom Hanks',),\n",
        "#  ('Jim Varney',),\n",
        "#  ('Wallace Shawn',),\n",
        "#  ('Don Rickles',),\n",
        "#  ('John Ratzenberger',),\n",
        "#  ('Tim Allen',)]"
      ]
    },
    {
      "cell_type": "markdown",
      "metadata": {
        "id": "HSHgkF-pr35K"
      },
      "source": [
        "* What is the name of the director of Toy Story?"
      ]
    },
    {
      "cell_type": "code",
      "execution_count": null,
      "metadata": {
        "id": "IkxsfXUgr35K",
        "outputId": "f576226d-b227-4f7f-b2f2-4ed1beb8d8f0",
        "colab": {
          "base_uri": "https://localhost:8080/"
        }
      },
      "outputs": [
        {
          "output_type": "execute_result",
          "data": {
            "text/plain": [
              "[(28668,\n",
              "  3648,\n",
              "  141,\n",
              "  3648,\n",
              "  'Toy Story',\n",
              "  'Buena Vista',\n",
              "  80.0,\n",
              "  'Woody, a traditional pull-string talking cowboy, has long enjoyed a place of honor as the favorite among six-year-old Andy\\'s menagerie of toys. Quick to calm their anxieties about being replaced by newer arrivals, Woody finds his own confidence shaken, and his status as top toy in jeopardy, upon the arrival of Buzz Lightyear, simply the coolest space action figure ever made. Woody plots to get rid of Buzz, but things backfire and he finds himself lost in the outside world with Buzz as his only companion. Joining forces to find their way home, the two rivals set out on an adventure that lands them in the clutches of Sid, a sadistic neighborhood kid who is notorious for dismembering and reassembling \"mutant\" toys in his bedroom. As \"guests\" of Sid and his dog, Scud, the two fugitive toys forge a genuine friendship and learn that only through mutual trust and respect do they have any chance of survival.',\n",
              "  '1995-11-22 00:00:00',\n",
              "  1995,\n",
              "  141,\n",
              "  'John Lasseter')]"
            ]
          },
          "metadata": {},
          "execution_count": 17
        }
      ],
      "source": [
        "#cursor.execute(\"\"\"select * from movies \n",
        " #  join  movie_directors on movie_directors.movie_id = movies.id \n",
        " # join directors on directors.id = movie_directors.movie_id \n",
        " # where movies.title = 'Toy Story' \"\"\")\n",
        "\n",
        "cursor.execute(\"\"\"select * from movie_directors \n",
        "  join movies on movies.id = movie_directors.movie_id\n",
        "  join directors on directors.id = movie_directors.director_id\n",
        "  where movies.title = 'Toy Story'\"\"\")\n",
        "cursor.fetchall()\n",
        "\n",
        "# [('John Lasseter',)]"
      ]
    },
    {
      "cell_type": "code",
      "source": [
        "[(3648,\n",
        "  'Toy Story',\n",
        "  'Buena Vista',\n",
        "  80.0,\n",
        "  'Woody, a traditional pull-string talking cowboy, has long enjoyed a place of honor as the favorite among six-year-old Andy\\'s menagerie of toys. Quick to calm their anxieties about being replaced by newer arrivals, Woody finds his own confidence shaken, and his status as top toy in jeopardy, upon the arrival of Buzz Lightyear, simply the coolest space action figure ever made. Woody plots to get rid of Buzz, but things backfire and he finds himself lost in the outside world with Buzz as his only companion. Joining forces to find their way home, the two rivals set out on an adventure that lands them in the clutches of Sid, a sadistic neighborhood kid who is notorious for dismembering and reassembling \"mutant\" toys in his bedroom. As \"guests\" of Sid and his dog, Scud, the two fugitive toys forge a genuine friendship and learn that only through mutual trust and respect do they have any chance of survival.',\n",
        "  '1995-11-22 00:00:00',\n",
        "  1995,\n",
        "  28668,\n",
        "  3648,\n",
        "  141,\n",
        "  3648,\n",
        "  'Penelope Spheeris')]"
      ],
      "metadata": {
        "id": "pIb6RVM_zYS3",
        "outputId": "def1758d-2192-4a9d-ad04-a359445d0101",
        "colab": {
          "base_uri": "https://localhost:8080/"
        }
      },
      "execution_count": null,
      "outputs": [
        {
          "output_type": "execute_result",
          "data": {
            "text/plain": [
              "[(3648,\n",
              "  'Toy Story',\n",
              "  'Buena Vista',\n",
              "  80.0,\n",
              "  'Woody, a traditional pull-string talking cowboy, has long enjoyed a place of honor as the favorite among six-year-old Andy\\'s menagerie of toys. Quick to calm their anxieties about being replaced by newer arrivals, Woody finds his own confidence shaken, and his status as top toy in jeopardy, upon the arrival of Buzz Lightyear, simply the coolest space action figure ever made. Woody plots to get rid of Buzz, but things backfire and he finds himself lost in the outside world with Buzz as his only companion. Joining forces to find their way home, the two rivals set out on an adventure that lands them in the clutches of Sid, a sadistic neighborhood kid who is notorious for dismembering and reassembling \"mutant\" toys in his bedroom. As \"guests\" of Sid and his dog, Scud, the two fugitive toys forge a genuine friendship and learn that only through mutual trust and respect do they have any chance of survival.',\n",
              "  '1995-11-22 00:00:00',\n",
              "  1995,\n",
              "  28668,\n",
              "  3648,\n",
              "  141,\n",
              "  3648,\n",
              "  'Penelope Spheeris')]"
            ]
          },
          "metadata": {},
          "execution_count": 18
        }
      ]
    },
    {
      "cell_type": "markdown",
      "metadata": {
        "id": "aePhOCeRr35K"
      },
      "source": [
        "* What are the names of the writers of Toy Story?"
      ]
    },
    {
      "cell_type": "code",
      "execution_count": null,
      "metadata": {
        "id": "Rj0pvj67r35K",
        "outputId": "e6c6a3f2-2539-4f5e-f924-a62c2eecceda",
        "colab": {
          "base_uri": "https://localhost:8080/"
        }
      },
      "outputs": [
        {
          "output_type": "execute_result",
          "data": {
            "text/plain": [
              "[('Joss Whedon',), ('Joel Cohen',), ('Andrew Stanton',), ('Alec Sokolow',)]"
            ]
          },
          "metadata": {},
          "execution_count": 19
        }
      ],
      "source": [
        "cursor.execute(\"\"\"select writers.name from writers join movie_writers on movie_writers.writer_id = writers.id \n",
        "join movies on movies.id = movie_writers.movie_id\n",
        "where movies.title = 'Toy Story'\"\"\")\n",
        "cursor.fetchall()\n",
        "\n",
        "\n",
        "# [('Joss Whedon',), ('Joel Cohen',), ('Andrew Stanton',), ('Alec Sokolow',)]"
      ]
    },
    {
      "cell_type": "markdown",
      "metadata": {
        "id": "zl1CiBGZr35L"
      },
      "source": [
        "* What is the name and actor id of the actor with the most credits in the database?"
      ]
    },
    {
      "cell_type": "code",
      "execution_count": null,
      "metadata": {
        "id": "F18qneqor35L",
        "outputId": "d992b00c-0f8e-4062-bbbf-67fd2d341cd4",
        "colab": {
          "base_uri": "https://localhost:8080/"
        }
      },
      "outputs": [
        {
          "output_type": "execute_result",
          "data": {
            "text/plain": [
              "[('Robert De Niro', 429, 78)]"
            ]
          },
          "metadata": {},
          "execution_count": 20
        }
      ],
      "source": [
        "cursor.execute(\"\"\"\n",
        "select actors.name, actors.id, count(actors.name) as bob from actors \n",
        "join movie_actors on movie_actors.actor_id = actors.id \n",
        "join movies on movies.id = movie_actors.movie_id\n",
        "group by actors.name\n",
        "order by bob desc\n",
        "limit 1\n",
        "\"\"\")\n",
        "cursor.fetchall()\n",
        "\n",
        "# [('Robert De Niro', 429, 78)]"
      ]
    },
    {
      "cell_type": "markdown",
      "metadata": {
        "id": "hqpt_vhZr35L"
      },
      "source": [
        "* What are the titles of the movies the actor from the previous question has been in, after the year 2005?"
      ]
    },
    {
      "cell_type": "code",
      "execution_count": null,
      "metadata": {
        "id": "omMjO6Swr35M",
        "colab": {
          "base_uri": "https://localhost:8080/"
        },
        "outputId": "2143ac40-38e1-4818-f2d9-2583bf1ff006"
      },
      "outputs": [
        {
          "output_type": "execute_result",
          "data": {
            "text/plain": [
              "[('The Good Shepherd', '2006-12-22 00:00:00'),\n",
              " ('Stardust', '2007-08-10 00:00:00'),\n",
              " ('What Just Happened?', '2008-01-19 00:00:00'),\n",
              " ('Mr. Warmth: The Don Rickles Project', '2008-02-19 00:00:00'),\n",
              " ('Righteous Kill', '2008-09-10 00:00:00'),\n",
              " ('I Knew It Was You: Rediscovering John Cazale', '2009-01-16 00:00:00'),\n",
              " (\"Everybody's Fine\", '2009-12-04 00:00:00'),\n",
              " ('Machete', '2010-09-03 00:00:00'),\n",
              " ('Stone', '2010-10-08 00:00:00'),\n",
              " ('Little Fockers', '2010-12-22 00:00:00'),\n",
              " ('Limitless', '2011-03-18 00:00:00'),\n",
              " ('Killer Elite', '2011-09-23 00:00:00'),\n",
              " (\"New Year's Eve\", '2011-12-09 00:00:00'),\n",
              " ('Being Flynn', '2012-03-02 00:00:00'),\n",
              " ('Red Lights', '2012-07-13 00:00:00'),\n",
              " ('The Big Wedding', '2013-04-26 00:00:00'),\n",
              " ('Killing Season', '2013-07-12 00:00:00'),\n",
              " ('The Family', '2013-09-13 00:00:00'),\n",
              " ('Last Vegas', '2013-11-01 00:00:00'),\n",
              " ('Great Expectations', '2013-11-08 00:00:00'),\n",
              " ('Grudge Match', '2013-12-25 00:00:00'),\n",
              " ('The Bag Man', '2014-02-28 00:00:00'),\n",
              " ('Heist', '2015-11-13 00:00:00'),\n",
              " ('Joy', '2015-12-25 00:00:00'),\n",
              " ('Dirty Grandpa', '2016-01-22 00:00:00'),\n",
              " ('Hands of Stone', '2016-08-26 00:00:00'),\n",
              " ('The Comedian', '2017-02-03 00:00:00'),\n",
              " ('The Wizard of Lies', '2017-05-11 00:00:00')]"
            ]
          },
          "metadata": {},
          "execution_count": 21
        }
      ],
      "source": [
        "cursor.execute(\"\"\"\n",
        "select movies.title, movies.release_date from movies\n",
        "join movie_actors on movie_actors.movie_id = movies.id\n",
        "join actors on actors.id = movie_actors.actor_id\n",
        "where actors.name = \"Robert De Niro\"\n",
        "and movies.release_date >= 2006\n",
        "order by movies.release_date asc\n",
        "\"\"\")\n",
        "cursor.fetchall()\n",
        "\n",
        "\n",
        "# [(\"New Year's Eve\",),\n",
        "#  ('Mr. Warmth: The Don Rickles Project',),\n",
        "#  ('Hands of Stone',),\n",
        "#  ('Last Vegas',),\n",
        "#  ('I Knew It Was You: Rediscovering John Cazale',),\n",
        "#  ('Stardust',),\n",
        "#  ('Killer Elite',),\n",
        "#  (\"Everybody's Fine\",),\n",
        "#  ('Stone',),\n",
        "#  ('Machete',),\n",
        "#  ('Red Lights',),\n",
        "#  ('Righteous Kill',),\n",
        "#  ('The Good Shepherd',),\n",
        "#  ('The Bag Man',),\n",
        "#  ('Being Flynn',),\n",
        "#  ('Joy',),\n",
        "#  ('The Wizard of Lies',),\n",
        "#  ('Limitless',),\n",
        "#  ('Killing Season',),\n",
        "#  ('The Family',),\n",
        "#  ('Heist',),\n",
        "#  ('Great Expectations',),\n",
        "#  ('Little Fockers',),\n",
        "#  ('What Just Happened?',),\n",
        "#  ('The Comedian',),\n",
        "#  ('The Big Wedding',),\n",
        "#  ('Dirty Grandpa',),\n",
        "#  ('Grudge Match',)]"
      ]
    },
    {
      "cell_type": "markdown",
      "metadata": {
        "id": "rz06bJeAr35M"
      },
      "source": [
        "* What are the titles of movies with more than two directors -- order by title ascending and limit to the first five results"
      ]
    },
    {
      "cell_type": "code",
      "execution_count": null,
      "metadata": {
        "id": "K_H7TDBXr35M",
        "colab": {
          "base_uri": "https://localhost:8080/"
        },
        "outputId": "6ba3a2e4-87b2-44ca-a199-6c214b993ecf"
      },
      "outputs": [
        {
          "output_type": "execute_result",
          "data": {
            "text/plain": [
              "[('...So Goes the Nation', 'James D. Stern', 2),\n",
              " ('100 Bloody Acres', 'Colin Cairnes', 2),\n",
              " ('101 Dalmatians', 'Stephen Herek', 4),\n",
              " (\"101 Dalmatians II: Patch's London Adventure\", 'Jim Kammerud', 2),\n",
              " ('11/8/2016', 'Yung Chang', 3)]"
            ]
          },
          "metadata": {},
          "execution_count": 22
        }
      ],
      "source": [
        "cursor.execute(\"\"\"select movies.title, directors.name, count(movies.title) from movies\n",
        "  join movie_directors on movies.id = movie_directors.movie_id\n",
        "  join directors on directors.id = movie_directors.director_id\n",
        "  group by movies.title\n",
        "  having count(movies.title) >1\n",
        "  order by movies.title asc\n",
        "  limit 5\n",
        " \"\"\")\n",
        "cursor.fetchall()\n",
        "\n",
        "\n",
        "# [('101 Dalmatians',),\n",
        "#  ('11/8/2016',),\n",
        "#  ('A Crude Awakening: The Oil Crash',),\n",
        "#  ('A Farewell To Arms',),\n",
        "#  (\"A Liar's Autobiography - The Untrue Story of Monty Python's Graham Chapman\",)]"
      ]
    },
    {
      "cell_type": "markdown",
      "metadata": {
        "id": "eDHnShj8r35N"
      },
      "source": [
        "### Has Many Through"
      ]
    },
    {
      "cell_type": "markdown",
      "metadata": {
        "id": "lucDf0-mr35N"
      },
      "source": [
        "* What is the name of the writer in the database that has been credited the most times during the year 2018?"
      ]
    },
    {
      "cell_type": "code",
      "execution_count": null,
      "metadata": {
        "id": "WgsO8KBnr35N",
        "colab": {
          "base_uri": "https://localhost:8080/"
        },
        "outputId": "99988114-34a7-4e2b-84d8-58d4fccbfed8"
      },
      "outputs": [
        {
          "output_type": "execute_result",
          "data": {
            "text/plain": [
              "[('Ryan Engle', 3)]"
            ]
          },
          "metadata": {},
          "execution_count": 54
        }
      ],
      "source": [
        "cursor.execute(\"\"\" select writers.name, count(writers.id) from writers\n",
        "join movie_writers on movie_writers.writer_id = writers.id\n",
        "join movies on movies.id = movie_writers.movie_id\n",
        "where movies.year = 2018\n",
        "\n",
        "group by writers.id\n",
        "\n",
        "order by count(writers.id) desc\n",
        "limit 1\n",
        "\"\"\")\n",
        "cursor.fetchall()\n",
        "\n",
        "\n",
        "# [('Ryan Engle', 3)]"
      ]
    },
    {
      "cell_type": "markdown",
      "metadata": {
        "id": "9sNxdIaCr35N"
      },
      "source": [
        "* What is the name of the actor or actress in the database that has been credited the most between 2010 and 2015 (inclusive)?"
      ]
    },
    {
      "cell_type": "code",
      "execution_count": null,
      "metadata": {
        "id": "A26bzoQnr35O",
        "colab": {
          "base_uri": "https://localhost:8080/"
        },
        "outputId": "0407092e-a64b-4e1d-8cb0-d51461d738b0"
      },
      "outputs": [
        {
          "output_type": "execute_result",
          "data": {
            "text/plain": [
              "[('James Franco', 22)]"
            ]
          },
          "metadata": {},
          "execution_count": 58
        }
      ],
      "source": [
        "cursor.execute(\"\"\" select actors.name, count(actors.id) from actors\n",
        "join movie_actors on movie_actors.actor_id = actors.id \n",
        "join movies on movies.id = movie_actors.movie_id \n",
        "where movies.year >=2010 and movies.year <=2015\n",
        "group by actors.id\n",
        "order by count(actors.id) desc\n",
        "limit 1\n",
        "\n",
        "\"\"\")\n",
        "cursor.fetchall()\n",
        "# [('James Franco', 22)]"
      ]
    },
    {
      "cell_type": "markdown",
      "metadata": {
        "id": "c_9pFAimr35O"
      },
      "source": [
        "* What are the names of all actors who performed in more than 3 movies in 2010?"
      ]
    },
    {
      "cell_type": "code",
      "execution_count": null,
      "metadata": {
        "id": "EvWSAS6Br35O",
        "colab": {
          "base_uri": "https://localhost:8080/"
        },
        "outputId": "4b7e90a3-4d9c-4445-bbf4-312e60051280"
      },
      "outputs": [
        {
          "output_type": "execute_result",
          "data": {
            "text/plain": [
              "[('Liam Neeson', 7),\n",
              " ('Ben Stiller', 4),\n",
              " ('Pierce Brosnan', 5),\n",
              " ('Patricia Clarkson', 4),\n",
              " ('Barry Pepper', 4),\n",
              " ('Matt Damon', 4),\n",
              " ('Josh Brolin', 5),\n",
              " ('Ralph Fiennes', 5),\n",
              " ('Jonah Hill', 4),\n",
              " ('Jay Baruchel', 4),\n",
              " ('Helen Mirren', 4),\n",
              " ('Danny Huston', 4),\n",
              " ('Gemma Arterton', 4),\n",
              " ('Aaron Taylor-Johnson', 4),\n",
              " ('Susan Sarandon', 5),\n",
              " ('Josh Duhamel', 4),\n",
              " ('Jessica Alba', 4),\n",
              " ('Adam Scott', 5),\n",
              " ('Zach Galifianakis', 5),\n",
              " ('Melissa Leo', 5),\n",
              " ('Keith David', 4)]"
            ]
          },
          "metadata": {},
          "execution_count": 60
        }
      ],
      "source": [
        "cursor.execute(\"\"\" select actors.name, count(actors.id) from actors\n",
        "join movie_actors on movie_actors.actor_id = actors.id \n",
        "join movies on movies.id = movie_actors.movie_id \n",
        "where movies.year = 2010\n",
        "group by actors.id\n",
        "having count(actors.id) >3\n",
        "\n",
        "\n",
        "\"\"\")\n",
        "cursor.fetchall()\n",
        "\n",
        "# [('Aaron Taylor-Johnson',),\n",
        "#  ('Adam Scott',),\n",
        "#  ('Barry Pepper',),\n",
        "#  ('Ben Stiller',),\n",
        "#  ('Danny Huston',),\n",
        "#  ('Gemma Arterton',),\n",
        "#  ('Helen Mirren',),\n",
        "#  ('Jay Baruchel',),\n",
        "#  ('Jessica Alba',),\n",
        "#  ('Jonah Hill',),\n",
        "#  ('Josh Brolin',),\n",
        "#  ('Josh Duhamel',),\n",
        "#  ('Keith David',),\n",
        "#  ('Liam Neeson',),\n",
        "#  ('Matt Damon',),\n",
        "#  ('Melissa Leo',),\n",
        "#  ('Patricia Clarkson',),\n",
        "#  ('Pierce Brosnan',),\n",
        "#  ('Ralph Fiennes',),\n",
        "#  ('Susan Sarandon',),\n",
        "#  ('Zach Galifianakis',)]"
      ]
    },
    {
      "cell_type": "markdown",
      "metadata": {
        "id": "egcNsbB0r35P"
      },
      "source": [
        "* What studio has Steven Spielberg worked with the most?"
      ]
    },
    {
      "cell_type": "code",
      "execution_count": null,
      "metadata": {
        "id": "HEimfHb9r35P",
        "colab": {
          "base_uri": "https://localhost:8080/"
        },
        "outputId": "d4002ea6-0b90-440d-ef0d-ffc19e9450bb"
      },
      "outputs": [
        {
          "output_type": "execute_result",
          "data": {
            "text/plain": [
              "[('Universal Pictures', 7)]"
            ]
          },
          "metadata": {},
          "execution_count": 67
        }
      ],
      "source": [
        "cursor.execute(\"\"\" select studio, count(studio) from movies\n",
        "\n",
        "join movie_directors on movies.id = movie_directors.movie_id \n",
        "join directors on movie_directors.director_id = directors.id \n",
        "\n",
        "where directors.name = \"Steven Spielberg\"\n",
        "group by studio\n",
        "order by count(studio) desc\n",
        "limit 1\n",
        "\n",
        "\"\"\")\n",
        "cursor.fetchall()\n",
        "\n",
        "# [('Universal Pictures', 7)]"
      ]
    },
    {
      "cell_type": "markdown",
      "metadata": {
        "id": "oxJTIkdCr35P"
      },
      "source": [
        "* What years did Steven Spielberg direct 2 movies?"
      ]
    },
    {
      "cell_type": "code",
      "execution_count": null,
      "metadata": {
        "id": "m3xLarPJr35Q",
        "colab": {
          "base_uri": "https://localhost:8080/"
        },
        "outputId": "f17ee637-4f0f-4876-d8f2-47c0decd18df"
      },
      "outputs": [
        {
          "output_type": "execute_result",
          "data": {
            "text/plain": [
              "[(1989, 2), (1993, 2), (1997, 2), (2002, 2), (2005, 2), (2011, 2), (2018, 2)]"
            ]
          },
          "metadata": {},
          "execution_count": 68
        }
      ],
      "source": [
        "cursor.execute(\"\"\" select movies.year, count(movies.year) from movies\n",
        "\n",
        "join movie_directors on movies.id = movie_directors.movie_id \n",
        "join directors on movie_directors.director_id = directors.id \n",
        "\n",
        "where directors.name = \"Steven Spielberg\"\n",
        "group by movies.year\n",
        "having count(movies.year) = 2\n",
        "\"\"\")\n",
        "cursor.fetchall()\n",
        "# [(1989, 2), (1993, 2), (1997, 2), (2002, 2), \n",
        "# (2005, 2), (2011, 2), (2018, 2)]"
      ]
    },
    {
      "cell_type": "markdown",
      "metadata": {
        "id": "DAfDJ2EBr35Q"
      },
      "source": [
        "* How many movies has each of the actors from Toy Story been in? (movie ID is 3648)"
      ]
    },
    {
      "cell_type": "code",
      "execution_count": null,
      "metadata": {
        "id": "YBxZcSmRr35Q",
        "colab": {
          "base_uri": "https://localhost:8080/"
        },
        "outputId": "a5dd8732-4e2f-4e37-b65d-e0483c1a011e"
      },
      "outputs": [
        {
          "output_type": "execute_result",
          "data": {
            "text/plain": [
              "[('The Da Vinci Code', 'Tom Hanks', 46),\n",
              " ('The Princess Bride', 'Wallace Shawn', 27),\n",
              " ('The Santa Clause', 'Tim Allen', 20),\n",
              " (\"Kelly's Heroes\", 'Don Rickles', 10),\n",
              " ('3 Ninjas: High Noon at Mega Mountain', 'Jim Varney', 8),\n",
              " ('Up', 'John Ratzenberger', 7)]"
            ]
          },
          "metadata": {},
          "execution_count": 69
        }
      ],
      "source": [
        "cursor.execute(\"\"\" select movies.title, actors.name, count(actors.name) from actors \n",
        "join movie_actors on movie_actors.actor_id = actors.id\n",
        "join movies on movies.id = movie_actors.movie_id\n",
        "\n",
        "where actors.name in (select actors.name from actors \n",
        "join movie_actors on movie_actors.actor_id = actors.id\n",
        "join movies on movies.id = movie_actors.movie_id\n",
        "where movies.title =\"Toy Story\")\n",
        "\n",
        "group by actors.name\n",
        "order by count(actors.name)desc\n",
        "\"\"\")\n",
        "# cursor.execute(\"\"\"select actors.name from actors \n",
        "# join movie_actors on movie_actors.actor_id = actors.id\n",
        "# join movies on movies.id = movie_actors.movie_id\n",
        "# where movies.title =\"Toy Story\" \"\"\")\n",
        "cursor.fetchall()\n",
        "\n",
        "# [('Tom Hanks', 46),\n",
        " # ('Jim Varney', 8),\n",
        " # ('Wallace Shawn', 27),\n",
        " # ('Don Rickles', 10),\n",
        " # ('John Ratzenberger', 7),\n",
        " # ('Tim Allen', 20)]"
      ]
    },
    {
      "cell_type": "markdown",
      "metadata": {
        "id": "13cO0uIGr35R"
      },
      "source": [
        "* What are the names of other movies the director of Toy Story directed?"
      ]
    },
    {
      "cell_type": "code",
      "execution_count": null,
      "metadata": {
        "id": "afxrsj1sr35S",
        "colab": {
          "base_uri": "https://localhost:8080/"
        },
        "outputId": "39fd405c-9f88-46a2-a566-e35b8ca82af4"
      },
      "outputs": [
        {
          "output_type": "execute_result",
          "data": {
            "text/plain": [
              "[('Cars 2', 'John Lasseter'),\n",
              " ('Cars', 'John Lasseter'),\n",
              " (\"A Bug's Life\", 'John Lasseter'),\n",
              " ('Toy Story 2', 'John Lasseter'),\n",
              " ('Toy Story', 'John Lasseter')]"
            ]
          },
          "metadata": {},
          "execution_count": 76
        }
      ],
      "source": [
        "cursor.execute(\"\"\" select movies.title, directors.name from movies\n",
        "join movie_directors on movie_directors.movie_id = movies.id\n",
        "join directors on directors.id = movie_directors.director_id\n",
        "\n",
        "where directors.name = (select directors.name from directors \n",
        "join movie_directors on movie_directors.director_id = directors.id\n",
        "join movies on movies.id = movie_directors.movie_id\n",
        "where movies.title =\"Toy Story\")\n",
        "\n",
        "\"\"\")\n",
        "cursor.fetchall()\n",
        "\n",
        "# [('Cars 2',), ('Cars',), (\"A Bug's Life\",), ('Toy Story 2',), ('Toy Story',)]"
      ]
    },
    {
      "cell_type": "markdown",
      "metadata": {
        "id": "rmazMtSZr35S"
      },
      "source": [
        "* What are the names of all the directors Tom Hanks has worked with? (Actor ID 189) -- order by the director's name ascending and limit to the first five results."
      ]
    },
    {
      "cell_type": "code",
      "execution_count": null,
      "metadata": {
        "id": "UQjtkbUyr35T",
        "colab": {
          "base_uri": "https://localhost:8080/"
        },
        "outputId": "86577469-ada2-48a2-caf2-b5f2ced62662"
      },
      "outputs": [
        {
          "output_type": "execute_result",
          "data": {
            "text/plain": [
              "[('Alexander Mackendrick',),\n",
              " ('Angus MacLane',),\n",
              " ('Brian DePalma',),\n",
              " ('Chris Paine',),\n",
              " ('Clint Eastwood',)]"
            ]
          },
          "metadata": {},
          "execution_count": 78
        }
      ],
      "source": [
        "cursor.execute(\"\"\" select directors.name from directors\n",
        "join movie_directors on movie_directors.director_id = directors.id\n",
        "join movies on movies.id = movie_directors.movie_id\n",
        "\n",
        "join movie_actors on movie_actors.movie_id = movies.id \n",
        "\n",
        "where movie_actors.actor_id = 189\n",
        "order by directors.name asc \n",
        "limit 5\n",
        "\"\"\")\n",
        "cursor.fetchall()\n",
        "\n",
        "# [('Alexander Mackendrick',),\n",
        "#  ('Angus MacLane',),\n",
        "#  ('Brian DePalma',),\n",
        "#  ('Chris Paine',),\n",
        "#  ('Clint Eastwood',)]"
      ]
    },
    {
      "cell_type": "markdown",
      "metadata": {
        "id": "FIpefPd7r35T"
      },
      "source": [
        "* What is the name of the director Tom Hanks has worked with the most?"
      ]
    },
    {
      "cell_type": "code",
      "execution_count": null,
      "metadata": {
        "id": "etx5u-emr35T",
        "colab": {
          "base_uri": "https://localhost:8080/"
        },
        "outputId": "bcbe6b0a-6575-4a36-b388-676657e63fee"
      },
      "outputs": [
        {
          "output_type": "execute_result",
          "data": {
            "text/plain": [
              "[('Steven Spielberg', 5)]"
            ]
          },
          "metadata": {},
          "execution_count": 79
        }
      ],
      "source": [
        "cursor.execute(\"\"\" select directors.name, count(directors.id) from directors\n",
        "join movie_directors on movie_directors.director_id = directors.id\n",
        "join movies on movies.id = movie_directors.movie_id\n",
        "\n",
        "join movie_actors on movie_actors.movie_id = movies.id \n",
        "\n",
        "where movie_actors.actor_id = 189\n",
        "group by directors.id\n",
        "order by count(directors.id) desc\n",
        "limit 1\n",
        "\"\"\")\n",
        "cursor.fetchall()\n",
        "\n",
        "# [('Steven Spielberg', 5)]"
      ]
    },
    {
      "cell_type": "markdown",
      "metadata": {
        "id": "YufFgtWor35U"
      },
      "source": [
        "* What are the names of all the writers Tom Hanks has worked with?"
      ]
    },
    {
      "cell_type": "code",
      "execution_count": null,
      "metadata": {
        "id": "FSlybVIVr35U",
        "colab": {
          "base_uri": "https://localhost:8080/"
        },
        "outputId": "850c7464-bc58-4d08-ebeb-ecca29a651dc"
      },
      "outputs": [
        {
          "output_type": "execute_result",
          "data": {
            "text/plain": [
              "[('Eric Roth',),\n",
              " ('Scott Frank',),\n",
              " ('David Koepp',),\n",
              " ('Joss Whedon',),\n",
              " ('Michael Blodgett',),\n",
              " ('John Lasseter',),\n",
              " ('Robert Zemeckis',),\n",
              " ('Akiva Goldsman',),\n",
              " ('Todd Komarnicki',),\n",
              " ('Lilly Wachowski',),\n",
              " ('Jeff Nathanson',),\n",
              " ('Robert Rodat',),\n",
              " ('Tom Mankiewicz',),\n",
              " ('Al Reinert',),\n",
              " ('Dan Aykroyd',),\n",
              " ('Lana Wachowski',),\n",
              " ('William Broyles',),\n",
              " ('John Patrick Shanley',),\n",
              " ('Joel Coen',),\n",
              " ('Ethan Coen',),\n",
              " ('Gary Ross',),\n",
              " ('Joel Cohen',),\n",
              " ('Dave Eggers',),\n",
              " ('Dennis Shryack',),\n",
              " ('David Seltzer',),\n",
              " ('Steve Purcell (II)',),\n",
              " ('Billy Ray',),\n",
              " ('Daniel Petrie Jr.',),\n",
              " ('Tom Tykwer',),\n",
              " ('Andrew Stanton',),\n",
              " ('Lee Unkrich',),\n",
              " ('Dario Argento',),\n",
              " ('Sacha Gervasi',),\n",
              " ('William Rose',),\n",
              " ('David S. Ward',),\n",
              " ('Alan Zweibel',),\n",
              " ('Lowell Ganz',),\n",
              " ('Nora Ephron',),\n",
              " ('Nia Vardalos',),\n",
              " ('Robert Klane',),\n",
              " ('Bruce Jay Friedman',),\n",
              " ('James Ponsoldt',),\n",
              " ('Timothy Harris',),\n",
              " ('Aaron Sorkin',),\n",
              " ('Kevin Pollak',),\n",
              " ('Dana Olsen',),\n",
              " ('Michael Preminger',),\n",
              " ('Kelly Marcel',),\n",
              " ('Michael Cristofer',),\n",
              " ('Robert Collector',),\n",
              " ('Babaloo Mandel',),\n",
              " ('Tom Hanks',),\n",
              " ('Mitch Markowitz',),\n",
              " ('Anne Spielberg',),\n",
              " ('Alec Sokolow',),\n",
              " ('Chris Paine',),\n",
              " ('Josh Singer',),\n",
              " ('Max Allan Collins',),\n",
              " ('David Self',),\n",
              " ('Delia Ephron',),\n",
              " ('Matt Charman',),\n",
              " ('Frank Darabont',),\n",
              " ('Larry Grusin',),\n",
              " ('Erik Jendresen',),\n",
              " ('Liz Hannah',),\n",
              " ('Norman Steinberg',),\n",
              " ('John Varhous',),\n",
              " ('Rick Podell',),\n",
              " ('Sue Smith',),\n",
              " ('Richard Piers Rayner',),\n",
              " ('Brian Grazer',),\n",
              " ('Michael Arndt',),\n",
              " ('Kim Wilson',),\n",
              " ('John Vorhaus',),\n",
              " ('Jeff Arch',),\n",
              " ('Mikls Lszl',),\n",
              " ('Larry Atlas',),\n",
              " ('Matthew Charman',)]"
            ]
          },
          "metadata": {},
          "execution_count": 81
        }
      ],
      "source": [
        "cursor.execute(\"\"\" select writers.name from writers\n",
        "join movie_writers on movie_writers.writer_id = writers.id \n",
        "join movies on movies.id = movie_writers.movie_id\n",
        "\n",
        "join movie_actors on movie_actors.movie_id = movies.id \n",
        "\n",
        "where movie_actors.actor_id = 189\n",
        "group by writers.id\n",
        "\n",
        "\"\"\")\n",
        "cursor.fetchall()\n",
        "\n",
        "# [('Eric Roth',),\n",
        "#  ('Nia Vardalos',),\n",
        "#  ('Tom Hanks',),\n",
        "#  ('Gary Ross',),\n",
        "#  ('Anne Spielberg',),\n",
        "#  ('Chris Paine',),\n",
        "#  ('Scott Frank',),\n",
        "#  ('Robert Rodat',),\n",
        "#  ('Frank Darabont',),\n",
        "#  ('Tom Tykwer',)]"
      ]
    },
    {
      "cell_type": "markdown",
      "metadata": {
        "id": "Vdi_MSFhr35U"
      },
      "source": [
        "### Conclusion\n",
        "The movie database we queried during this lab had a multitude of relationships between the tables. We saw how we could use JOIN to connect the tables, in order query information about entities in different tables. "
      ]
    }
  ],
  "metadata": {
    "kernelspec": {
      "display_name": "Python 3 (ipykernel)",
      "language": "python",
      "name": "python3"
    },
    "language_info": {
      "codemirror_mode": {
        "name": "ipython",
        "version": 3
      },
      "file_extension": ".py",
      "mimetype": "text/x-python",
      "name": "python",
      "nbconvert_exporter": "python",
      "pygments_lexer": "ipython3",
      "version": "3.10.6"
    },
    "colab": {
      "provenance": []
    }
  },
  "nbformat": 4,
  "nbformat_minor": 0
}