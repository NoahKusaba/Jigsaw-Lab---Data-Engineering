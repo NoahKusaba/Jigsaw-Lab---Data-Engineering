{
  "cells": [
    {
      "cell_type": "markdown",
      "metadata": {
        "id": "Dj7WuByfhpKr"
      },
      "source": [
        "# Belongs To High School Data"
      ]
    },
    {
      "cell_type": "markdown",
      "metadata": {
        "id": "iQQ8UGGihpKt"
      },
      "source": [
        "### Introduction\n",
        "The database we are looking at in this lab has two tables, `sat_records` and `high_schools`. Each row of the `sat_records` table represents a school also found in the `high_schools` table. The records in the `sat_records` table \"belong to\" the schools in the `high_schools` table. Both tables have a key in the column \"dbn\" that is a unique identifier for each school, and will be our way of connecting the data between the two tables. We do this by using a JOIN clause."
      ]
    },
    {
      "cell_type": "markdown",
      "metadata": {
        "id": "oe2lOhIxhpKv"
      },
      "source": [
        "Let's begin by connecting to the database and reviewing the structure of the tables:"
      ]
    },
    {
      "cell_type": "code",
      "execution_count": 1,
      "metadata": {
        "id": "XjKKmDV1hpKw"
      },
      "outputs": [],
      "source": [
        "import sqlite3\n",
        "conn = sqlite3.connect('schools.db')\n",
        "cursor = conn.cursor()"
      ]
    },
    {
      "cell_type": "code",
      "execution_count": 2,
      "metadata": {
        "id": "k8EuLMwvhpKx",
        "colab": {
          "base_uri": "https://localhost:8080/"
        },
        "outputId": "708f7430-7292-46bb-a461-b4556505b76e"
      },
      "outputs": [
        {
          "output_type": "execute_result",
          "data": {
            "text/plain": [
              "478"
            ]
          },
          "metadata": {},
          "execution_count": 2
        }
      ],
      "source": [
        "import pandas as pd\n",
        "highschools_url = \"https://raw.githubusercontent.com/sql-fundamentals-jigsaw/mod-1-sql-curriculum/master/2-sql-relations/2-belongs-to-hs/data/highschools.csv\"\n",
        "sat_records_url = \"https://raw.githubusercontent.com/sql-fundamentals-jigsaw/mod-1-sql-curriculum/master/2-sql-relations/2-belongs-to-hs/data/sat_records.csv\"\n",
        "df_hs = pd.read_csv(highschools_url)\n",
        "df_sat = pd.read_csv(sat_records_url)\n",
        "df_hs.to_sql('high_schools' ,conn, index = False, if_exists = 'replace')\n",
        "df_sat.to_sql('sat_records' ,conn, index = False, if_exists = 'replace')"
      ]
    },
    {
      "cell_type": "code",
      "execution_count": 3,
      "metadata": {
        "id": "lSte0zb8hpKy",
        "outputId": "533ed5b4-61ed-485b-853b-f8badc2c2f71",
        "colab": {
          "base_uri": "https://localhost:8080/",
          "height": 197
        }
      },
      "outputs": [
        {
          "output_type": "execute_result",
          "data": {
            "text/plain": [
              "   id     dbn                                  school_name boro  \\\n",
              "0   0  16K498  Brooklyn High School for Law and Technology    K   \n",
              "\n",
              "   total_students  graduation_rate  attendance_rate  college_career_rate  \n",
              "0             594             0.74             0.85                 0.49  "
            ],
            "text/html": [
              "\n",
              "  <div id=\"df-e54a30b4-bbf9-4797-9a22-128677cd2a69\">\n",
              "    <div class=\"colab-df-container\">\n",
              "      <div>\n",
              "<style scoped>\n",
              "    .dataframe tbody tr th:only-of-type {\n",
              "        vertical-align: middle;\n",
              "    }\n",
              "\n",
              "    .dataframe tbody tr th {\n",
              "        vertical-align: top;\n",
              "    }\n",
              "\n",
              "    .dataframe thead th {\n",
              "        text-align: right;\n",
              "    }\n",
              "</style>\n",
              "<table border=\"1\" class=\"dataframe\">\n",
              "  <thead>\n",
              "    <tr style=\"text-align: right;\">\n",
              "      <th></th>\n",
              "      <th>id</th>\n",
              "      <th>dbn</th>\n",
              "      <th>school_name</th>\n",
              "      <th>boro</th>\n",
              "      <th>total_students</th>\n",
              "      <th>graduation_rate</th>\n",
              "      <th>attendance_rate</th>\n",
              "      <th>college_career_rate</th>\n",
              "    </tr>\n",
              "  </thead>\n",
              "  <tbody>\n",
              "    <tr>\n",
              "      <th>0</th>\n",
              "      <td>0</td>\n",
              "      <td>16K498</td>\n",
              "      <td>Brooklyn High School for Law and Technology</td>\n",
              "      <td>K</td>\n",
              "      <td>594</td>\n",
              "      <td>0.74</td>\n",
              "      <td>0.85</td>\n",
              "      <td>0.49</td>\n",
              "    </tr>\n",
              "  </tbody>\n",
              "</table>\n",
              "</div>\n",
              "      <button class=\"colab-df-convert\" onclick=\"convertToInteractive('df-e54a30b4-bbf9-4797-9a22-128677cd2a69')\"\n",
              "              title=\"Convert this dataframe to an interactive table.\"\n",
              "              style=\"display:none;\">\n",
              "        \n",
              "  <svg xmlns=\"http://www.w3.org/2000/svg\" height=\"24px\"viewBox=\"0 0 24 24\"\n",
              "       width=\"24px\">\n",
              "    <path d=\"M0 0h24v24H0V0z\" fill=\"none\"/>\n",
              "    <path d=\"M18.56 5.44l.94 2.06.94-2.06 2.06-.94-2.06-.94-.94-2.06-.94 2.06-2.06.94zm-11 1L8.5 8.5l.94-2.06 2.06-.94-2.06-.94L8.5 2.5l-.94 2.06-2.06.94zm10 10l.94 2.06.94-2.06 2.06-.94-2.06-.94-.94-2.06-.94 2.06-2.06.94z\"/><path d=\"M17.41 7.96l-1.37-1.37c-.4-.4-.92-.59-1.43-.59-.52 0-1.04.2-1.43.59L10.3 9.45l-7.72 7.72c-.78.78-.78 2.05 0 2.83L4 21.41c.39.39.9.59 1.41.59.51 0 1.02-.2 1.41-.59l7.78-7.78 2.81-2.81c.8-.78.8-2.07 0-2.86zM5.41 20L4 18.59l7.72-7.72 1.47 1.35L5.41 20z\"/>\n",
              "  </svg>\n",
              "      </button>\n",
              "      \n",
              "  <style>\n",
              "    .colab-df-container {\n",
              "      display:flex;\n",
              "      flex-wrap:wrap;\n",
              "      gap: 12px;\n",
              "    }\n",
              "\n",
              "    .colab-df-convert {\n",
              "      background-color: #E8F0FE;\n",
              "      border: none;\n",
              "      border-radius: 50%;\n",
              "      cursor: pointer;\n",
              "      display: none;\n",
              "      fill: #1967D2;\n",
              "      height: 32px;\n",
              "      padding: 0 0 0 0;\n",
              "      width: 32px;\n",
              "    }\n",
              "\n",
              "    .colab-df-convert:hover {\n",
              "      background-color: #E2EBFA;\n",
              "      box-shadow: 0px 1px 2px rgba(60, 64, 67, 0.3), 0px 1px 3px 1px rgba(60, 64, 67, 0.15);\n",
              "      fill: #174EA6;\n",
              "    }\n",
              "\n",
              "    [theme=dark] .colab-df-convert {\n",
              "      background-color: #3B4455;\n",
              "      fill: #D2E3FC;\n",
              "    }\n",
              "\n",
              "    [theme=dark] .colab-df-convert:hover {\n",
              "      background-color: #434B5C;\n",
              "      box-shadow: 0px 1px 3px 1px rgba(0, 0, 0, 0.15);\n",
              "      filter: drop-shadow(0px 1px 2px rgba(0, 0, 0, 0.3));\n",
              "      fill: #FFFFFF;\n",
              "    }\n",
              "  </style>\n",
              "\n",
              "      <script>\n",
              "        const buttonEl =\n",
              "          document.querySelector('#df-e54a30b4-bbf9-4797-9a22-128677cd2a69 button.colab-df-convert');\n",
              "        buttonEl.style.display =\n",
              "          google.colab.kernel.accessAllowed ? 'block' : 'none';\n",
              "\n",
              "        async function convertToInteractive(key) {\n",
              "          const element = document.querySelector('#df-e54a30b4-bbf9-4797-9a22-128677cd2a69');\n",
              "          const dataTable =\n",
              "            await google.colab.kernel.invokeFunction('convertToInteractive',\n",
              "                                                     [key], {});\n",
              "          if (!dataTable) return;\n",
              "\n",
              "          const docLinkHtml = 'Like what you see? Visit the ' +\n",
              "            '<a target=\"_blank\" href=https://colab.research.google.com/notebooks/data_table.ipynb>data table notebook</a>'\n",
              "            + ' to learn more about interactive tables.';\n",
              "          element.innerHTML = '';\n",
              "          dataTable['output_type'] = 'display_data';\n",
              "          await google.colab.output.renderOutput(dataTable, element);\n",
              "          const docLink = document.createElement('div');\n",
              "          docLink.innerHTML = docLinkHtml;\n",
              "          element.appendChild(docLink);\n",
              "        }\n",
              "      </script>\n",
              "    </div>\n",
              "  </div>\n",
              "  "
            ]
          },
          "metadata": {},
          "execution_count": 3
        }
      ],
      "source": [
        "pd.read_sql('select * from high_schools limit 1;',conn)"
      ]
    },
    {
      "cell_type": "code",
      "execution_count": 4,
      "metadata": {
        "id": "d3kb0J7vhpKz",
        "outputId": "89b1bbda-c9e9-4663-93b6-2007f89039d6",
        "colab": {
          "base_uri": "https://localhost:8080/",
          "height": 197
        }
      },
      "outputs": [
        {
          "output_type": "execute_result",
          "data": {
            "text/plain": [
              "   id     dbn                                           name  num_test_takers  \\\n",
              "0   0  01M292  HENRY STREET SCHOOL FOR INTERNATIONAL STUDIES             29.0   \n",
              "\n",
              "   reading_avg  math_avg  writing_score  \n",
              "0        355.0     404.0          363.0  "
            ],
            "text/html": [
              "\n",
              "  <div id=\"df-44bfe610-a7aa-4634-a121-a75dcf69728d\">\n",
              "    <div class=\"colab-df-container\">\n",
              "      <div>\n",
              "<style scoped>\n",
              "    .dataframe tbody tr th:only-of-type {\n",
              "        vertical-align: middle;\n",
              "    }\n",
              "\n",
              "    .dataframe tbody tr th {\n",
              "        vertical-align: top;\n",
              "    }\n",
              "\n",
              "    .dataframe thead th {\n",
              "        text-align: right;\n",
              "    }\n",
              "</style>\n",
              "<table border=\"1\" class=\"dataframe\">\n",
              "  <thead>\n",
              "    <tr style=\"text-align: right;\">\n",
              "      <th></th>\n",
              "      <th>id</th>\n",
              "      <th>dbn</th>\n",
              "      <th>name</th>\n",
              "      <th>num_test_takers</th>\n",
              "      <th>reading_avg</th>\n",
              "      <th>math_avg</th>\n",
              "      <th>writing_score</th>\n",
              "    </tr>\n",
              "  </thead>\n",
              "  <tbody>\n",
              "    <tr>\n",
              "      <th>0</th>\n",
              "      <td>0</td>\n",
              "      <td>01M292</td>\n",
              "      <td>HENRY STREET SCHOOL FOR INTERNATIONAL STUDIES</td>\n",
              "      <td>29.0</td>\n",
              "      <td>355.0</td>\n",
              "      <td>404.0</td>\n",
              "      <td>363.0</td>\n",
              "    </tr>\n",
              "  </tbody>\n",
              "</table>\n",
              "</div>\n",
              "      <button class=\"colab-df-convert\" onclick=\"convertToInteractive('df-44bfe610-a7aa-4634-a121-a75dcf69728d')\"\n",
              "              title=\"Convert this dataframe to an interactive table.\"\n",
              "              style=\"display:none;\">\n",
              "        \n",
              "  <svg xmlns=\"http://www.w3.org/2000/svg\" height=\"24px\"viewBox=\"0 0 24 24\"\n",
              "       width=\"24px\">\n",
              "    <path d=\"M0 0h24v24H0V0z\" fill=\"none\"/>\n",
              "    <path d=\"M18.56 5.44l.94 2.06.94-2.06 2.06-.94-2.06-.94-.94-2.06-.94 2.06-2.06.94zm-11 1L8.5 8.5l.94-2.06 2.06-.94-2.06-.94L8.5 2.5l-.94 2.06-2.06.94zm10 10l.94 2.06.94-2.06 2.06-.94-2.06-.94-.94-2.06-.94 2.06-2.06.94z\"/><path d=\"M17.41 7.96l-1.37-1.37c-.4-.4-.92-.59-1.43-.59-.52 0-1.04.2-1.43.59L10.3 9.45l-7.72 7.72c-.78.78-.78 2.05 0 2.83L4 21.41c.39.39.9.59 1.41.59.51 0 1.02-.2 1.41-.59l7.78-7.78 2.81-2.81c.8-.78.8-2.07 0-2.86zM5.41 20L4 18.59l7.72-7.72 1.47 1.35L5.41 20z\"/>\n",
              "  </svg>\n",
              "      </button>\n",
              "      \n",
              "  <style>\n",
              "    .colab-df-container {\n",
              "      display:flex;\n",
              "      flex-wrap:wrap;\n",
              "      gap: 12px;\n",
              "    }\n",
              "\n",
              "    .colab-df-convert {\n",
              "      background-color: #E8F0FE;\n",
              "      border: none;\n",
              "      border-radius: 50%;\n",
              "      cursor: pointer;\n",
              "      display: none;\n",
              "      fill: #1967D2;\n",
              "      height: 32px;\n",
              "      padding: 0 0 0 0;\n",
              "      width: 32px;\n",
              "    }\n",
              "\n",
              "    .colab-df-convert:hover {\n",
              "      background-color: #E2EBFA;\n",
              "      box-shadow: 0px 1px 2px rgba(60, 64, 67, 0.3), 0px 1px 3px 1px rgba(60, 64, 67, 0.15);\n",
              "      fill: #174EA6;\n",
              "    }\n",
              "\n",
              "    [theme=dark] .colab-df-convert {\n",
              "      background-color: #3B4455;\n",
              "      fill: #D2E3FC;\n",
              "    }\n",
              "\n",
              "    [theme=dark] .colab-df-convert:hover {\n",
              "      background-color: #434B5C;\n",
              "      box-shadow: 0px 1px 3px 1px rgba(0, 0, 0, 0.15);\n",
              "      filter: drop-shadow(0px 1px 2px rgba(0, 0, 0, 0.3));\n",
              "      fill: #FFFFFF;\n",
              "    }\n",
              "  </style>\n",
              "\n",
              "      <script>\n",
              "        const buttonEl =\n",
              "          document.querySelector('#df-44bfe610-a7aa-4634-a121-a75dcf69728d button.colab-df-convert');\n",
              "        buttonEl.style.display =\n",
              "          google.colab.kernel.accessAllowed ? 'block' : 'none';\n",
              "\n",
              "        async function convertToInteractive(key) {\n",
              "          const element = document.querySelector('#df-44bfe610-a7aa-4634-a121-a75dcf69728d');\n",
              "          const dataTable =\n",
              "            await google.colab.kernel.invokeFunction('convertToInteractive',\n",
              "                                                     [key], {});\n",
              "          if (!dataTable) return;\n",
              "\n",
              "          const docLinkHtml = 'Like what you see? Visit the ' +\n",
              "            '<a target=\"_blank\" href=https://colab.research.google.com/notebooks/data_table.ipynb>data table notebook</a>'\n",
              "            + ' to learn more about interactive tables.';\n",
              "          element.innerHTML = '';\n",
              "          dataTable['output_type'] = 'display_data';\n",
              "          await google.colab.output.renderOutput(dataTable, element);\n",
              "          const docLink = document.createElement('div');\n",
              "          docLink.innerHTML = docLinkHtml;\n",
              "          element.appendChild(docLink);\n",
              "        }\n",
              "      </script>\n",
              "    </div>\n",
              "  </div>\n",
              "  "
            ]
          },
          "metadata": {},
          "execution_count": 4
        }
      ],
      "source": [
        "pd.read_sql('select * from sat_records limit 1;',conn)"
      ]
    },
    {
      "cell_type": "markdown",
      "metadata": {
        "id": "lIX0g2TXhpKz"
      },
      "source": [
        "### Exploring the Data"
      ]
    },
    {
      "cell_type": "code",
      "execution_count": 5,
      "metadata": {
        "id": "C-7g8r3bhpKz",
        "outputId": "64ee6b5d-d311-450f-9a2b-f6d09e3ab2fe",
        "colab": {
          "base_uri": "https://localhost:8080/"
        }
      },
      "outputs": [
        {
          "output_type": "execute_result",
          "data": {
            "text/plain": [
              "[('high_schools',), ('sat_records',)]"
            ]
          },
          "metadata": {},
          "execution_count": 5
        }
      ],
      "source": [
        "cursor.execute('SELECT name from sqlite_master where type= \"table\"')\n",
        "cursor.fetchall()"
      ]
    },
    {
      "cell_type": "code",
      "execution_count": 6,
      "metadata": {
        "id": "an_ZJsDjhpKz",
        "outputId": "470e84c7-1c05-4a83-e2ac-0655f555f225",
        "colab": {
          "base_uri": "https://localhost:8080/"
        }
      },
      "outputs": [
        {
          "output_type": "execute_result",
          "data": {
            "text/plain": [
              "[(0, 'id', 'INTEGER', 0, None, 0),\n",
              " (1, 'dbn', 'TEXT', 0, None, 0),\n",
              " (2, 'school_name', 'TEXT', 0, None, 0),\n",
              " (3, 'boro', 'TEXT', 0, None, 0),\n",
              " (4, 'total_students', 'INTEGER', 0, None, 0),\n",
              " (5, 'graduation_rate', 'REAL', 0, None, 0),\n",
              " (6, 'attendance_rate', 'REAL', 0, None, 0),\n",
              " (7, 'college_career_rate', 'REAL', 0, None, 0)]"
            ]
          },
          "metadata": {},
          "execution_count": 6
        }
      ],
      "source": [
        "cursor.execute('PRAGMA table_info(high_schools)')\n",
        "cursor.fetchall()"
      ]
    },
    {
      "cell_type": "code",
      "execution_count": 7,
      "metadata": {
        "id": "LAKyBL1EhpK0",
        "outputId": "7dde9a13-d751-46f8-e76f-1965de982c00",
        "colab": {
          "base_uri": "https://localhost:8080/"
        }
      },
      "outputs": [
        {
          "output_type": "execute_result",
          "data": {
            "text/plain": [
              "[(0, 'id', 'INTEGER', 0, None, 0),\n",
              " (1, 'dbn', 'TEXT', 0, None, 0),\n",
              " (2, 'name', 'TEXT', 0, None, 0),\n",
              " (3, 'num_test_takers', 'REAL', 0, None, 0),\n",
              " (4, 'reading_avg', 'REAL', 0, None, 0),\n",
              " (5, 'math_avg', 'REAL', 0, None, 0),\n",
              " (6, 'writing_score', 'REAL', 0, None, 0)]"
            ]
          },
          "metadata": {},
          "execution_count": 7
        }
      ],
      "source": [
        "cursor.execute('PRAGMA table_info(sat_records)')\n",
        "cursor.fetchall()"
      ]
    },
    {
      "cell_type": "markdown",
      "metadata": {
        "id": "i5rK0uHahpK0"
      },
      "source": [
        "Each of the following questions require information in both of the tables in the database. Use the JOIN clause to find the solution."
      ]
    },
    {
      "cell_type": "markdown",
      "metadata": {
        "id": "UtxHTNOChpK0"
      },
      "source": [
        "* In which boro is the school that has the highest writing score?"
      ]
    },
    {
      "cell_type": "code",
      "execution_count": 8,
      "metadata": {
        "id": "2G6mgw1_hpK0",
        "outputId": "7b6fc84a-4786-4dc4-93cc-7caa08c7903c",
        "colab": {
          "base_uri": "https://localhost:8080/"
        }
      },
      "outputs": [
        {
          "output_type": "execute_result",
          "data": {
            "text/plain": [
              "[('M', 682.0)]"
            ]
          },
          "metadata": {},
          "execution_count": 8
        }
      ],
      "source": [
        "cursor.execute(\"SELECT high_schools.boro, max(sat_records.writing_score) from high_schools JOIN sat_records ON high_schools.dbn  =  sat_records.dbn\")\n",
        "cursor.fetchall()\n",
        "\n",
        "# [('M', 682.0)]"
      ]
    },
    {
      "cell_type": "markdown",
      "metadata": {
        "id": "URmaOXLMhpK1"
      },
      "source": [
        "* In which boro is the school with the lowest math average?"
      ]
    },
    {
      "cell_type": "code",
      "execution_count": 9,
      "metadata": {
        "id": "F2WRCEdqhpK1",
        "outputId": "acd44344-2ed0-45c5-f6f1-817a65d81ffe",
        "colab": {
          "base_uri": "https://localhost:8080/"
        }
      },
      "outputs": [
        {
          "output_type": "execute_result",
          "data": {
            "text/plain": [
              "[('K', 286.0)]"
            ]
          },
          "metadata": {},
          "execution_count": 9
        }
      ],
      "source": [
        "cursor.execute(\"SELECT high_schools.boro, min(sat_records.writing_score) from high_schools JOIN sat_records ON high_schools.dbn  =  sat_records.dbn\")\n",
        "cursor.fetchall()\n",
        "\n",
        "# [('X', 312.0)]"
      ]
    },
    {
      "cell_type": "markdown",
      "metadata": {
        "id": "axeF-e0IhpK1"
      },
      "source": [
        "* What is the highest math_avg for schools with more than 1000 students?"
      ]
    },
    {
      "cell_type": "code",
      "execution_count": 10,
      "metadata": {
        "id": "2jcoaJ_ghpK1",
        "outputId": "c7209fbf-2b3c-4553-99ad-ec0377fa33ab",
        "colab": {
          "base_uri": "https://localhost:8080/"
        }
      },
      "outputs": [
        {
          "output_type": "execute_result",
          "data": {
            "text/plain": [
              "[('M', 735.0)]"
            ]
          },
          "metadata": {},
          "execution_count": 10
        }
      ],
      "source": [
        "cursor.execute(\"SELECT high_schools.boro, max(sat_records.math_avg) from high_schools JOIN sat_records ON high_schools.dbn  =  sat_records.dbn where total_students > 1000\")\n",
        "cursor.fetchall()\n",
        "\n",
        "# [(735.0,)]"
      ]
    },
    {
      "cell_type": "markdown",
      "metadata": {
        "id": "gsD7Ju5KhpK1"
      },
      "source": [
        "* What is the average number of test takers in each boro?"
      ]
    },
    {
      "cell_type": "code",
      "execution_count": null,
      "metadata": {
        "id": "zf0C9-iyhpK2",
        "outputId": "091cd1a7-ffce-4fcf-f9df-130ff52e0945",
        "colab": {
          "base_uri": "https://localhost:8080/"
        }
      },
      "outputs": [
        {
          "output_type": "execute_result",
          "data": {
            "text/plain": [
              "[('K', 126.33673469387755),\n",
              " ('M', 110.34177215189874),\n",
              " ('Q', 199.51666666666668),\n",
              " ('R', 300.5),\n",
              " ('X', 80.3875)]"
            ]
          },
          "metadata": {},
          "execution_count": 47
        }
      ],
      "source": [
        "cursor.execute(\"SELECT boro, avg(num_test_takers) from high_schools JOIN sat_records ON high_schools.dbn  =  sat_records.dbn group by boro\")\n",
        "cursor.fetchall()\n",
        "\n",
        "# [('K', 126.33673469387755),\n",
        "#  ('M', 110.34177215189874),\n",
        "#  ('Q', 199.51666666666668),\n",
        "#  ('R', 300.5),\n",
        "#  ('X', 80.3875)]"
      ]
    },
    {
      "cell_type": "markdown",
      "metadata": {
        "id": "ribY4lQGhpK2"
      },
      "source": [
        "* What is the attendance rate of schools with math_avg greater than 500? Order your results by the attendance rate (descending) limit to the first five results"
      ]
    },
    {
      "cell_type": "code",
      "execution_count": null,
      "metadata": {
        "id": "5c3slgu9hpK2",
        "outputId": "a8b3acef-f908-4ee5-9195-19066db808c0",
        "colab": {
          "base_uri": "https://localhost:8080/"
        }
      },
      "outputs": [
        {
          "output_type": "execute_result",
          "data": {
            "text/plain": [
              "[(0.98,), (0.97,), (0.97,), (0.97,), (0.97,)]"
            ]
          },
          "metadata": {},
          "execution_count": 57
        }
      ],
      "source": [
        "cursor.execute(\"\"\"SELECT attendance_rate from high_schools \n",
        "JOIN sat_records ON high_schools.dbn  =  sat_records.dbn \n",
        "where math_avg >500\n",
        "order by attendance_rate \n",
        "desc limit 5\"\"\")\n",
        "cursor.fetchall()\n",
        "\n",
        "\n",
        "\n",
        "# [(0.98,), (0.97,), (0.97,), (0.97,), (0.97,)]\n"
      ]
    },
    {
      "cell_type": "markdown",
      "metadata": {
        "id": "NSuratqghpK2"
      },
      "source": [
        "* What is the graduation rate of schools with a math_avg less than 500? Order your results by the graduation rate (ascending) limit to ten results"
      ]
    },
    {
      "cell_type": "code",
      "execution_count": null,
      "metadata": {
        "id": "YF7Z5_E8hpK2",
        "outputId": "bc3831f9-cd1c-4162-c8bb-f76bfb1bac4d",
        "colab": {
          "base_uri": "https://localhost:8080/"
        }
      },
      "outputs": [
        {
          "output_type": "execute_result",
          "data": {
            "text/plain": [
              "[(None,),\n",
              " (None,),\n",
              " (None,),\n",
              " (None,),\n",
              " (0.39,),\n",
              " (0.46,),\n",
              " (0.47,),\n",
              " (0.49,),\n",
              " (0.5,),\n",
              " (0.5,)]"
            ]
          },
          "metadata": {},
          "execution_count": 60
        }
      ],
      "source": [
        "cursor.execute(\"\"\"SELECT graduation_rate from high_schools \n",
        "JOIN sat_records ON high_schools.dbn  =  sat_records.dbn \n",
        "where math_avg <500\n",
        "order by graduation_rate \n",
        "asc limit 10\"\"\")\n",
        "cursor.fetchall()\n",
        "\n",
        "\n",
        "# [(None,),\n",
        "#  (None,),\n",
        "#  (None,),\n",
        "#  (None,),\n",
        "#  (0.39,),\n",
        "#  (0.46,),\n",
        "#  (0.47,),\n",
        "#  (0.49,),\n",
        "#  (0.5,),\n",
        "#  (0.5,)]"
      ]
    },
    {
      "cell_type": "markdown",
      "metadata": {
        "id": "-qUhF3XghpK3"
      },
      "source": [
        "* For schools with a math avg greater than 500, what is the average graduation rate?"
      ]
    },
    {
      "cell_type": "code",
      "execution_count": null,
      "metadata": {
        "id": "O45ahk3UhpK3",
        "outputId": "cba967d7-68f7-4d03-963b-1942fc42c8d2",
        "colab": {
          "base_uri": "https://localhost:8080/"
        }
      },
      "outputs": [
        {
          "output_type": "execute_result",
          "data": {
            "text/plain": [
              "[(0.9769999999999999,)]"
            ]
          },
          "metadata": {},
          "execution_count": 66
        }
      ],
      "source": [
        "cursor.execute(\"select avg(graduation_rate) from high_schools join sat_records on high_schools.dbn = sat_records.dbn where math_avg > 500\")\n",
        "cursor.fetchall()\n",
        "# [(0.9769999999999999,)]"
      ]
    },
    {
      "cell_type": "markdown",
      "metadata": {
        "id": "G1BpXz2zhpK3"
      },
      "source": [
        "* What is the total number of test takers in each boro?"
      ]
    },
    {
      "cell_type": "code",
      "execution_count": null,
      "metadata": {
        "id": "bD5W35iDhpK3",
        "outputId": "0c9503cf-0adc-41e2-fcb0-4f23078dd848",
        "colab": {
          "base_uri": "https://localhost:8080/"
        }
      },
      "outputs": [
        {
          "output_type": "execute_result",
          "data": {
            "text/plain": [
              "[('K', 12381.0), ('M', 8717.0), ('Q', 11971.0), ('R', 3005.0), ('X', 6431.0)]"
            ]
          },
          "metadata": {},
          "execution_count": 78
        }
      ],
      "source": [
        "cursor.execute(\"select boro, sum(num_test_takers) from high_schools join sat_records on high_schools.dbn = sat_records.dbn group by boro\")\n",
        "cursor.fetchall()\n",
        "# [('K', 12381.0), ('M', 8717.0), ('Q', 11971.0), ('R', 3005.0), ('X', 6431.0)]"
      ]
    },
    {
      "cell_type": "markdown",
      "metadata": {
        "id": "x5GBEIx5hpK3"
      },
      "source": [
        "* What is the average combined reading and math scores for each boro?"
      ]
    },
    {
      "cell_type": "code",
      "execution_count": null,
      "metadata": {
        "id": "BKyf1ZD4hpK3",
        "outputId": "772b8e2d-a105-4dfb-bd7a-0193d99c5193",
        "colab": {
          "base_uri": "https://localhost:8080/"
        }
      },
      "outputs": [
        {
          "output_type": "execute_result",
          "data": {
            "text/plain": [
              "[(795.2857142857143,),\n",
              " (869.5822784810126,),\n",
              " (874.5666666666667,),\n",
              " (930.0,),\n",
              " (778.2375,)]"
            ]
          },
          "metadata": {},
          "execution_count": 81
        }
      ],
      "source": [
        "cursor.execute(\"select avg(reading_avg + math_avg) from high_schools join sat_records on high_schools.dbn = sat_records.dbn group by boro\")\n",
        "cursor.fetchall()\n",
        "# [('K', 795.2857142857143),\n",
        "#  ('M', 869.5822784810126),\n",
        "#  ('Q', 874.5666666666667),\n",
        "#  ('R', 930.0),\n",
        "#  ('X', 778.2375)]"
      ]
    },
    {
      "cell_type": "markdown",
      "metadata": {
        "id": "U618wS-FhpK3"
      },
      "source": [
        "* Find the top five schools that have the largest differences between num_test_takers and total_students"
      ]
    },
    {
      "cell_type": "code",
      "execution_count": null,
      "metadata": {
        "id": "Rj9IbwERhpK4",
        "outputId": "e629b3d7-d8d2-42a3-a213-c929ee188c65",
        "colab": {
          "base_uri": "https://localhost:8080/"
        }
      },
      "outputs": [
        {
          "output_type": "execute_result",
          "data": {
            "text/plain": [
              "[('Brooklyn Technical High School', 4561.0),\n",
              " ('Fort Hamilton High School', 3888.0),\n",
              " ('Francis Lewis High School', 3623.0),\n",
              " ('Midwood High School', 3234.0),\n",
              " ('James Madison High School', 3139.0)]"
            ]
          },
          "metadata": {},
          "execution_count": 91
        }
      ],
      "source": [
        "cursor.execute(\"\"\"select school_name, (total_students - num_test_takers  ) as dif \n",
        "from high_schools \n",
        "join sat_records on high_schools.dbn = sat_records.dbn \n",
        "order by  dif desc \n",
        "limit 5 \"\"\")\n",
        "cursor.fetchall()\n",
        "\n",
        "# [('Brooklyn Technical High School', 4561.0),\n",
        "#  ('Fort Hamilton High School', 3888.0),\n",
        "#  ('Francis Lewis High School', 3623.0),\n",
        "#  ('Midwood High School', 3234.0),\n",
        "#  ('James Madison High School', 3139.0)]"
      ]
    },
    {
      "cell_type": "markdown",
      "metadata": {
        "id": "UkNGT6_ShpK4"
      },
      "source": [
        "* What is the difference between total students and number of test takers for each boro? Order your answer in ascending order "
      ]
    },
    {
      "cell_type": "code",
      "execution_count": null,
      "metadata": {
        "id": "HeVVDYPHhpK4",
        "outputId": "3067fb4b-212e-4c0c-88f7-e08fe38ba4df",
        "colab": {
          "base_uri": "https://localhost:8080/"
        }
      },
      "outputs": [
        {
          "output_type": "execute_result",
          "data": {
            "text/plain": [
              "[('R', 15627.0),\n",
              " ('X', 35972.0),\n",
              " ('M', 41118.0),\n",
              " ('Q', 58712.0),\n",
              " ('K', 61192.0)]"
            ]
          },
          "metadata": {},
          "execution_count": 93
        }
      ],
      "source": [
        "cursor.execute(\"\"\"select boro, sum(total_students - num_test_takers  ) as dif \n",
        "from high_schools \n",
        "join sat_records on high_schools.dbn = sat_records.dbn \n",
        "group by boro\n",
        "order by  dif asc\n",
        "limit 5 \"\"\")\n",
        "cursor.fetchall()\n",
        "\n",
        "# [('R', 15627.0),\n",
        "#  ('X', 35972.0),\n",
        "#  ('M', 41118.0),\n",
        "#  ('Q', 58712.0),\n",
        "#  ('K', 61192.0)]"
      ]
    },
    {
      "cell_type": "markdown",
      "metadata": {
        "id": "lGhN__2VhpK4"
      },
      "source": [
        "### Conclusion\n",
        "This lab presented us with a database in which records from one table \"belong to\" records from another table. Specifically, we saw that the data in the `sat_records` table belonged to the schools in the `high_schools` table. We used JOIN clauses to combine the data in both tables to find solutions to questions that required information in both tables. "
      ]
    },
    {
      "cell_type": "markdown",
      "metadata": {
        "id": "beFXfkpahpK4"
      },
      "source": [
        "### Resources\n",
        "\n",
        "[School District Breakdown](https://data.cityofnewyork.us/Education/School-District-Breakdowns/g3vh-kbnw)"
      ]
    },
    {
      "cell_type": "markdown",
      "metadata": {
        "id": "Q1SJQsEihpK4"
      },
      "source": [
        "[SAT Results](https://data.cityofnewyork.us/Education/2012-SAT-Results/f9bf-2cp4)"
      ]
    }
  ],
  "metadata": {
    "kernelspec": {
      "display_name": "Python 3 (ipykernel)",
      "language": "python",
      "name": "python3"
    },
    "language_info": {
      "codemirror_mode": {
        "name": "ipython",
        "version": 3
      },
      "file_extension": ".py",
      "mimetype": "text/x-python",
      "name": "python",
      "nbconvert_exporter": "python",
      "pygments_lexer": "ipython3",
      "version": "3.10.6"
    },
    "colab": {
      "provenance": []
    }
  },
  "nbformat": 4,
  "nbformat_minor": 0
}