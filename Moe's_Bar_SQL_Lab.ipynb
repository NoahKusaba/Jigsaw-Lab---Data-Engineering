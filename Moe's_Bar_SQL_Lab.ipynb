{
  "cells": [
    {
      "cell_type": "markdown",
      "metadata": {
        "id": "fL4HNVLgjW4B"
      },
      "source": [
        "# Moe's Bar Lab"
      ]
    },
    {
      "cell_type": "markdown",
      "metadata": {
        "id": "LqgiL__VjW4C"
      },
      "source": [
        "### Introduction"
      ]
    },
    {
      "cell_type": "markdown",
      "metadata": {
        "id": "p9koqNiijW4D"
      },
      "source": [
        "In this lesson, we'll apply our knowledge of querying tables with has many through to ask questions of customers and bartenders at a bar."
      ]
    },
    {
      "cell_type": "markdown",
      "metadata": {
        "id": "J1Tw7_UqjW4D"
      },
      "source": [
        "### Loading Our Data"
      ]
    },
    {
      "cell_type": "markdown",
      "metadata": {
        "id": "6rLhos27jW4D"
      },
      "source": [
        "Then we can connect to our database with the following."
      ]
    },
    {
      "cell_type": "code",
      "execution_count": null,
      "metadata": {
        "id": "kfQXewK-jW4D"
      },
      "outputs": [],
      "source": [
        "import sqlite3\n",
        "conn = sqlite3.connect('./moes_bar.db')\n",
        "cursor = conn.cursor()"
      ]
    },
    {
      "cell_type": "markdown",
      "metadata": {
        "id": "tYQZcZQVjW4E"
      },
      "source": [
        "Next we load our data."
      ]
    },
    {
      "cell_type": "code",
      "execution_count": null,
      "metadata": {
        "id": "jgc03qpOjW4E"
      },
      "outputs": [],
      "source": [
        "import pandas as pd\n",
        "root_url = \"https://raw.githubusercontent.com/jigsawlabs-student/curriculum-images/main/has-many-through-bar/data/\"\n",
        "names = ['bartenders', 'customers', 'drinks', 'orders', 'ingredients', 'ingredients_drinks']\n",
        "loaded_dfs = [pd.read_csv(f'{root_url}{name}.csv') for name in names]"
      ]
    },
    {
      "cell_type": "code",
      "source": [
        "cursor."
      ],
      "metadata": {
        "id": "voenCqcgmrLm"
      },
      "execution_count": null,
      "outputs": []
    },
    {
      "cell_type": "code",
      "execution_count": null,
      "metadata": {
        "id": "UaaUFtzNjW4E"
      },
      "outputs": [],
      "source": [
        "for index, name in enumerate(names):\n",
        "    loaded_dfs[index].to_sql(f'{name}', conn, index = False)"
      ]
    },
    {
      "cell_type": "code",
      "execution_count": null,
      "metadata": {
        "id": "sOxI_JzejW4F",
        "outputId": "1c165551-95d4-4196-d54f-93bf9cf98da4",
        "colab": {
          "base_uri": "https://localhost:8080/"
        }
      },
      "outputs": [
        {
          "output_type": "execute_result",
          "data": {
            "text/plain": [
              "[('table',\n",
              "  'bartenders',\n",
              "  'bartenders',\n",
              "  2,\n",
              "  'CREATE TABLE \"bartenders\" (\\n\"id\" INTEGER,\\n  \"name\" TEXT,\\n  \"hometown\" TEXT,\\n  \"birthyear\" INTEGER\\n)'),\n",
              " ('table',\n",
              "  'customers',\n",
              "  'customers',\n",
              "  3,\n",
              "  'CREATE TABLE \"customers\" (\\n\"id\" INTEGER,\\n  \"name\" TEXT,\\n  \"hometown\" TEXT,\\n  \"birthyear\" INTEGER\\n)'),\n",
              " ('table',\n",
              "  'drinks',\n",
              "  'drinks',\n",
              "  4,\n",
              "  'CREATE TABLE \"drinks\" (\\n\"id\" INTEGER,\\n  \"name\" TEXT,\\n  \"calories\" INTEGER,\\n  \"price\" INTEGER,\\n  \"alcoholic\" INTEGER\\n)'),\n",
              " ('table',\n",
              "  'orders',\n",
              "  'orders',\n",
              "  5,\n",
              "  'CREATE TABLE \"orders\" (\\n\"id\" INTEGER,\\n  \"customer_id\" INTEGER,\\n  \"drink_id\" INTEGER,\\n  \"bartender_id\" INTEGER\\n)'),\n",
              " ('table',\n",
              "  'ingredients',\n",
              "  'ingredients',\n",
              "  6,\n",
              "  'CREATE TABLE \"ingredients\" (\\n\"id\" INTEGER,\\n  \"name\" TEXT,\\n  \"price\" INTEGER\\n)'),\n",
              " ('table',\n",
              "  'ingredients_drinks',\n",
              "  'ingredients_drinks',\n",
              "  7,\n",
              "  'CREATE TABLE \"ingredients_drinks\" (\\n\"id\" INTEGER,\\n  \"drink_id\" INTEGER,\\n  \"ingredient_id\" INTEGER\\n)')]"
            ]
          },
          "metadata": {},
          "execution_count": 8
        }
      ],
      "source": [
        "cursor.execute(\"SELECT * FROM sqlite_master;\")\n",
        "cursor.fetchall()"
      ]
    },
    {
      "cell_type": "markdown",
      "metadata": {
        "id": "RLXpKsH6jW4F"
      },
      "source": [
        "### Exploring our Database"
      ]
    },
    {
      "cell_type": "markdown",
      "metadata": {
        "id": "R9ZIQ_85jW4G"
      },
      "source": [
        "Now we list of all of the tables with the following."
      ]
    },
    {
      "cell_type": "code",
      "execution_count": null,
      "metadata": {
        "id": "UzRjjwtEjW4G",
        "outputId": "c8172c38-1ee9-4c70-97e9-7070eceb0cf7",
        "colab": {
          "base_uri": "https://localhost:8080/"
        }
      },
      "outputs": [
        {
          "output_type": "execute_result",
          "data": {
            "text/plain": [
              "[('bartenders',),\n",
              " ('customers',),\n",
              " ('drinks',),\n",
              " ('orders',),\n",
              " ('ingredients',),\n",
              " ('ingredients_drinks',)]"
            ]
          },
          "metadata": {},
          "execution_count": 5
        }
      ],
      "source": [
        "cursor.execute(\"SELECT name FROM sqlite_master WHERE type='table';\")\n",
        "cursor.fetchall()"
      ]
    },
    {
      "cell_type": "markdown",
      "metadata": {
        "id": "8IC2SBqwjW4G"
      },
      "source": [
        "And then we can see the details of a particular table with the following."
      ]
    },
    {
      "cell_type": "code",
      "execution_count": null,
      "metadata": {
        "id": "gifnIn88jW4G",
        "outputId": "167e7e0c-1505-4df1-e8cc-e2f647d315a9",
        "colab": {
          "base_uri": "https://localhost:8080/"
        }
      },
      "outputs": [
        {
          "output_type": "execute_result",
          "data": {
            "text/plain": [
              "[(0, 'id', 'INTEGER', 0, None, 0),\n",
              " (1, 'name', 'TEXT', 0, None, 0),\n",
              " (2, 'calories', 'INTEGER', 0, None, 0),\n",
              " (3, 'price', 'INTEGER', 0, None, 0),\n",
              " (4, 'alcoholic', 'INTEGER', 0, None, 0)]"
            ]
          },
          "metadata": {},
          "execution_count": 16
        }
      ],
      "source": [
        "cursor.execute(\"pragma table_info(drinks)\")\n",
        "cursor.fetchall()"
      ]
    },
    {
      "cell_type": "code",
      "source": [
        "cursor.execute(\"pragma table_info(orders)\")\n",
        "cursor.fetchall()"
      ],
      "metadata": {
        "id": "vtPkCbL3oqj9",
        "outputId": "5c5ccc8e-1259-4594-c071-32eecb85c5e5",
        "colab": {
          "base_uri": "https://localhost:8080/"
        }
      },
      "execution_count": null,
      "outputs": [
        {
          "output_type": "execute_result",
          "data": {
            "text/plain": [
              "[(0, 'id', 'INTEGER', 0, None, 0),\n",
              " (1, 'customer_id', 'INTEGER', 0, None, 0),\n",
              " (2, 'drink_id', 'INTEGER', 0, None, 0),\n",
              " (3, 'bartender_id', 'INTEGER', 0, None, 0)]"
            ]
          },
          "metadata": {},
          "execution_count": 19
        }
      ]
    },
    {
      "cell_type": "markdown",
      "metadata": {
        "id": "LwtalgmhjW4G"
      },
      "source": [
        "### Making our queries"
      ]
    },
    {
      "cell_type": "markdown",
      "metadata": {
        "id": "WiR8z2mtjW4G"
      },
      "source": [
        "* Find the name of the youngest customer "
      ]
    },
    {
      "cell_type": "code",
      "source": [
        "youngest_customer = \"pragma table_info(customers) \"\n",
        "\n",
        "cursor.execute(youngest_customer)\n",
        "cursor.fetchall()"
      ],
      "metadata": {
        "id": "vq_PGpqnnbTA",
        "outputId": "a65ae12c-f75a-4452-a8c4-999f1e50af95",
        "colab": {
          "base_uri": "https://localhost:8080/"
        }
      },
      "execution_count": null,
      "outputs": [
        {
          "output_type": "execute_result",
          "data": {
            "text/plain": [
              "[(0, 'id', 'INTEGER', 0, None, 0),\n",
              " (1, 'name', 'TEXT', 0, None, 0),\n",
              " (2, 'hometown', 'TEXT', 0, None, 0),\n",
              " (3, 'birthyear', 'INTEGER', 0, None, 0)]"
            ]
          },
          "metadata": {},
          "execution_count": 11
        }
      ]
    },
    {
      "cell_type": "code",
      "execution_count": null,
      "metadata": {
        "id": "Sxg93XOxjW4H",
        "outputId": "94951331-84c0-42e2-b287-73bf3c7e807b",
        "colab": {
          "base_uri": "https://localhost:8080/"
        }
      },
      "outputs": [
        {
          "output_type": "execute_result",
          "data": {
            "text/plain": [
              "[('lisa simpson', 2006), ('bart simpson', 2008), ('maggie simpson', 2016)]"
            ]
          },
          "metadata": {},
          "execution_count": 20
        }
      ],
      "source": [
        "youngest_customer = \"select name, birthyear from customers order by birthyear asc limit 1 \"\n",
        "\n",
        "cursor.execute(youngest_customer)\n",
        "cursor.fetchall()\n",
        "# # [('lisa simpson', 2006)]"
      ]
    },
    {
      "cell_type": "markdown",
      "metadata": {
        "id": "2szV8o_ljW4H"
      },
      "source": [
        "* Order the drinks from most to least expensive"
      ]
    },
    {
      "cell_type": "code",
      "execution_count": null,
      "metadata": {
        "id": "jRxROZFejW4H",
        "outputId": "ab89a76a-2b93-485c-9b03-5b9778c4b1c5",
        "colab": {
          "base_uri": "https://localhost:8080/"
        }
      },
      "outputs": [
        {
          "output_type": "execute_result",
          "data": {
            "text/plain": [
              "[('ice cream float', 8),\n",
              " ('duff beer', 7),\n",
              " ('gin and tonic', 7),\n",
              " ('rootbeer', 6),\n",
              " ('milkshake', 5),\n",
              " ('egg cream soda', 3)]"
            ]
          },
          "metadata": {},
          "execution_count": 18
        }
      ],
      "source": [
        "cheapest_drinks = None\n",
        "\n",
        "cursor.execute(\"\"\" select name, price from drinks \n",
        "order by price desc\n",
        "\n",
        "\"\"\")\n",
        "cursor.fetchall()\n",
        "# cursor.execute(cheapest_drinks)\n",
        "# cursor.fetchall()\n",
        "# [('ice cream float', 8),\n",
        "#  ('duff beer', 7),\n",
        "#  ('gin and tonic', 7),\n",
        "#  ('rootbeer', 6),\n",
        "#  ('milkshake', 5),\n",
        "#  ('egg cream soda', 3)]"
      ]
    },
    {
      "cell_type": "markdown",
      "metadata": {
        "id": "Y9pIVQPojW4H"
      },
      "source": [
        "* Find the most expensive drink that bart simpson ordered"
      ]
    },
    {
      "cell_type": "code",
      "execution_count": null,
      "metadata": {
        "id": "IVYk7X2RjW4H",
        "outputId": "87cef4fe-3938-493e-fb18-60ce89d8518b",
        "colab": {
          "base_uri": "https://localhost:8080/"
        }
      },
      "outputs": [
        {
          "output_type": "execute_result",
          "data": {
            "text/plain": [
              "[('milkshake', 5)]"
            ]
          },
          "metadata": {},
          "execution_count": 21
        }
      ],
      "source": [
        "\n",
        "cursor.execute(\"\"\" select drinks.name, drinks.price from drinks \n",
        "join orders on orders.drink_id = drinks.id\n",
        "join customers on customers.id = orders.customer_id\n",
        "where customers.name = \"bart simpson\"\n",
        "order by price desc limit 1\n",
        "\"\"\")\n",
        "cursor.fetchall()\n",
        "# cursor.execute()\n",
        "# cursor.fetchall()\n",
        "# [('milkshake', 5)]"
      ]
    },
    {
      "cell_type": "markdown",
      "metadata": {
        "id": "_skKnezkjW4I"
      },
      "source": [
        "* Find a list of all of the customers of moe"
      ]
    },
    {
      "cell_type": "code",
      "execution_count": null,
      "metadata": {
        "id": "jkDOJw-ajW4I",
        "outputId": "f4e5d34f-41e2-42f0-a163-7845588aaf95",
        "colab": {
          "base_uri": "https://localhost:8080/"
        }
      },
      "outputs": [
        {
          "output_type": "execute_result",
          "data": {
            "text/plain": [
              "[('bart simpson',), ('maggie simpson',), ('lisa simpson',)]"
            ]
          },
          "metadata": {},
          "execution_count": 27
        }
      ],
      "source": [
        "# moes_customers = None\n",
        "cursor.execute(\"\"\" select customers.name from customers\n",
        "join orders on customers.id = orders.customer_id\n",
        "group by customers.id\n",
        "\"\"\")\n",
        "cursor.fetchall()\n",
        "# cursor.execute(moes_customers)\n",
        "# cursor.fetchall()\n",
        "# [('bart simpson',), ('maggie simpson',)]"
      ]
    }
  ],
  "metadata": {
    "kernelspec": {
      "display_name": "Python 3 (ipykernel)",
      "language": "python",
      "name": "python3"
    },
    "language_info": {
      "codemirror_mode": {
        "name": "ipython",
        "version": 3
      },
      "file_extension": ".py",
      "mimetype": "text/x-python",
      "name": "python",
      "nbconvert_exporter": "python",
      "pygments_lexer": "ipython3",
      "version": "3.10.6"
    },
    "colab": {
      "provenance": []
    }
  },
  "nbformat": 4,
  "nbformat_minor": 0
}