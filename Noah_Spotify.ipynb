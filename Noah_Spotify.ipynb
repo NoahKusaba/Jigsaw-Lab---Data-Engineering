{
  "cells": [
    {
      "cell_type": "markdown",
      "metadata": {
        "id": "D2pCnhyxO3OF"
      },
      "source": [
        "# Spotify Signup"
      ]
    },
    {
      "cell_type": "markdown",
      "metadata": {
        "id": "c8fBDi6lO3OO"
      },
      "source": [
        "### Introduction"
      ]
    },
    {
      "cell_type": "markdown",
      "metadata": {
        "id": "F9deI4FLO3OQ"
      },
      "source": [
        "In this lesson we'll work with the spotify web API.  As we'll see, uses a different authentication flow than we have previously seen."
      ]
    },
    {
      "cell_type": "markdown",
      "metadata": {
        "id": "n9IN0jouO3OS"
      },
      "source": [
        "### Signing Up with Spotify"
      ]
    },
    {
      "cell_type": "markdown",
      "metadata": {
        "id": "QWGyLpfdO3OT"
      },
      "source": [
        "To start, go to the [Spotify Developer Login](https://developer.spotify.com/dashboard/login) and login with your Spotify account, or create a new one."
      ]
    },
    {
      "cell_type": "markdown",
      "metadata": {
        "id": "dUsOy0BAO3OU"
      },
      "source": [
        "<img src=\"https://github.com/jigsawlabs-student/github-apis/blob/master/4-spotify-web-api/spotify-login.png?raw=1\">"
      ]
    },
    {
      "cell_type": "markdown",
      "metadata": {
        "id": "ylED8HjhO3OW"
      },
      "source": [
        "Once logged in, click on Create a New App, and then signup for non-commercial use."
      ]
    },
    {
      "cell_type": "markdown",
      "metadata": {
        "id": "AHfhRtthO3OY"
      },
      "source": [
        "Afterwards, you will be directed to the client id and secret pages."
      ]
    },
    {
      "cell_type": "markdown",
      "metadata": {
        "id": "S4xAB9PpO3OZ"
      },
      "source": [
        "### Authenticating with the API"
      ]
    },
    {
      "cell_type": "markdown",
      "metadata": {
        "id": "iFzy7aeGO3Oa"
      },
      "source": [
        "By now you should have your client id and client secret codes."
      ]
    },
    {
      "cell_type": "markdown",
      "metadata": {
        "id": "3qoxz-WcO3Ob"
      },
      "source": [
        "To see how to use them, read through the [client credentials flow on Spotify](https://developer.spotify.com/documentation/general/guides/authorization-guide/#client-credentials-flow).  Don't worry, we'll wait."
      ]
    },
    {
      "cell_type": "markdown",
      "metadata": {
        "id": "nuQ3NOXyO3Oc"
      },
      "source": [
        "> It explains that before making a request, we need to use the `client_id` and `client_secret` to retreive an auth token."
      ]
    },
    {
      "cell_type": "markdown",
      "metadata": {
        "id": "CUGu6LttO3Oc"
      },
      "source": [
        "The documentation does not explicitly show us how to get an auth token using Python.  But lucky for us, this [this stackoverflow post](https://stackoverflow.com/questions/30557409/spotify-api-post-call-response-415) does."
      ]
    },
    {
      "cell_type": "markdown",
      "metadata": {
        "id": "2wk5z8cIO3Od"
      },
      "source": [
        "Copy the code below and confirm that you can return an access token with the code."
      ]
    },
    {
      "cell_type": "code",
      "execution_count": null,
      "metadata": {
        "id": "ZtpIE40MO3Oe"
      },
      "outputs": [],
      "source": [
        "import requests\n",
        "\n",
        "client_id = \"080445e02011451ca11596ac7f40065b\"\n",
        "client_secret = \"ab00a0ed29a84bbeafd2adbae9a5f2e1\"\n",
        "\n"
      ]
    },
    {
      "cell_type": "markdown",
      "metadata": {
        "id": "JebThhjFO3Oh"
      },
      "source": [
        "After confirming that you can retrieve an access token, turn the code into a function called `get_access_token` that takes in arguments of `client_id` and `client_secret` and returns the access token. "
      ]
    },
    {
      "cell_type": "code",
      "execution_count": null,
      "metadata": {
        "id": "RcMStYYzO3Oi"
      },
      "outputs": [],
      "source": [
        "import requests\n",
        "url = \"https://api.spotify.com\"\n",
        "def get_access_token(client_id, client_secret):\n",
        "  grant_type = 'client_credentials'\n",
        "\n",
        "#Request based on Client Credentials Flow from https://developer.spotify.com/web-api/authorization-guide/\n",
        "\n",
        "#Request body parameter: grant_type Value: Required. Set it to client_credentials\n",
        "  body_params = {'grant_type' : grant_type}\n",
        "\n",
        "  url='https://accounts.spotify.com/api/token'\n",
        "\n",
        "  response=requests.post(url, data=body_params, auth = (client_id, client_secret)) \n",
        "\n",
        "  return response.json()[\"access_token\"]\n"
      ]
    },
    {
      "cell_type": "code",
      "source": [
        "get_access_token(client_id, client_secret)"
      ],
      "metadata": {
        "colab": {
          "base_uri": "https://localhost:8080/",
          "height": 35
        },
        "id": "ozar5GvtTbov",
        "outputId": "a93aa80a-5acb-4fbe-861f-2d8a67e26584"
      },
      "execution_count": null,
      "outputs": [
        {
          "output_type": "execute_result",
          "data": {
            "text/plain": [
              "'BQDN8fJMpZ24YtuaOgoaV8MXydznlhMSEwj0PbN6aR8byk9tnxVL8RnMbiGqcTSXM_pKFcwrPeq5LXm3S89C3TeXioZG_3gs_clRPCmnECc7DG2v6AfA'"
            ],
            "application/vnd.google.colaboratory.intrinsic+json": {
              "type": "string"
            }
          },
          "metadata": {},
          "execution_count": 3
        }
      ]
    },
    {
      "cell_type": "markdown",
      "source": [],
      "metadata": {
        "id": "_Q9R4bG4TQYP"
      }
    },
    {
      "cell_type": "markdown",
      "source": [],
      "metadata": {
        "id": "dDtLBJzoS-rV"
      }
    },
    {
      "cell_type": "code",
      "execution_count": null,
      "metadata": {
        "id": "4aqgsY6qO3Oj",
        "outputId": "e2cf2b32-4907-4ec5-fb8f-b470c7403331",
        "colab": {
          "base_uri": "https://localhost:8080/",
          "height": 35
        }
      },
      "outputs": [
        {
          "output_type": "execute_result",
          "data": {
            "text/plain": [
              "'BQCfVxW9P9jacPDSU-l7X6ZnMoTjppr92hZR-JihlRVr-MnpqlRTF5nJXURSkYvdjPXg3t7WXlx6DLEK1iAkQvAjFEbpbOJ7Dku84l0aDixq9LHwC6ma'"
            ],
            "application/vnd.google.colaboratory.intrinsic+json": {
              "type": "string"
            }
          },
          "metadata": {},
          "execution_count": 4
        }
      ],
      "source": [
        "token = get_access_token(client_id, client_secret)\n",
        "\n",
        "\n",
        "token\n",
        "# Your access token will be different\n",
        "# 'BQAXehpLzlIKmW5MPQfLaCbyOO-VJAUl6Sgl-jpkYNwHONFXycKso59RR_qt5XNnhNK77I1wdj1drERSiEI'"
      ]
    },
    {
      "cell_type": "markdown",
      "metadata": {
        "id": "K-iMb_EZO3Ok"
      },
      "source": [
        "### Making a search"
      ]
    },
    {
      "cell_type": "markdown",
      "metadata": {
        "id": "ET61uE5zO3Ol"
      },
      "source": [
        "Now that we have an access token, it's time for us to use the Spotify API to get some information about music.  The main component that we would like to use in the API is the [discover page](https://developer.spotify.com/discover/#search).\n",
        "\n",
        "We can start by making a request for information about an musical artist.  Look at the [search documents for an artist](https://developer.spotify.com/documentation/web-api/reference/search/search/) to see how."
      ]
    },
    {
      "cell_type": "markdown",
      "metadata": {
        "id": "DXl6egzPO3On"
      },
      "source": [
        "Write a function called `artist_search_url` that takes in an `artist_name`, and returns the corresponding correct url to search for the artist. "
      ]
    },
    {
      "cell_type": "code",
      "execution_count": null,
      "metadata": {
        "id": "61Dryv6pO3Os"
      },
      "outputs": [],
      "source": [
        "def artist_search_url(artist_name):\n",
        "    return f\"https://api.spotify.com/v1/search?q={artist_name}&type=artist\""
      ]
    },
    {
      "cell_type": "code",
      "execution_count": null,
      "metadata": {
        "id": "TI9fIEqCO3Ot",
        "outputId": "6a110bdf-d19f-43db-e4cf-9b4078aa0149",
        "colab": {
          "base_uri": "https://localhost:8080/",
          "height": 35
        }
      },
      "outputs": [
        {
          "output_type": "execute_result",
          "data": {
            "text/plain": [
              "'https://api.spotify.com/v1/search?q=paul simon&type=artist'"
            ],
            "application/vnd.google.colaboratory.intrinsic+json": {
              "type": "string"
            }
          },
          "metadata": {},
          "execution_count": 6
        }
      ],
      "source": [
        "paul_simon_request_url = artist_search_url('paul simon')\n",
        "paul_simon_request_url\n",
        "# 'https://api.spotify.com/v1/search?q=paul simon&type=artist'"
      ]
    },
    {
      "cell_type": "markdown",
      "metadata": {
        "id": "CfyFNlWVO3Ou"
      },
      "source": [
        "Write a function called `make_request` that takes in the token, and url and makes the request.  You can reference [this stackoverflow post](https://stackoverflow.com/questions/29931671/making-an-api-call-in-python-with-an-api-that-requires-a-bearer-token) to see how to provide the access token into headers.  Just use a `get` request instead of a post request."
      ]
    },
    {
      "cell_type": "code",
      "execution_count": null,
      "metadata": {
        "id": "A2SrlW1tO3Ou"
      },
      "outputs": [],
      "source": [
        "import requests\n",
        "\n",
        "\n",
        "def make_request(token, url):\n",
        "  headers = {\"Authorization\":\"Bearer \" + token}\n",
        "  return requests.get(url, headers=headers).json()\n"
      ]
    },
    {
      "cell_type": "markdown",
      "metadata": {
        "id": "9oeb-iBdO3Ov"
      },
      "source": [
        "You can check that you write the functin correctly with the following by checking the return value of the function below."
      ]
    },
    {
      "cell_type": "code",
      "execution_count": null,
      "metadata": {
        "id": "BJ9lXtlzO3Ov",
        "outputId": "007cc71e-2be8-415c-9053-6021cc6e9513",
        "colab": {
          "base_uri": "https://localhost:8080/"
        }
      },
      "outputs": [
        {
          "output_type": "execute_result",
          "data": {
            "text/plain": [
              "{'artists': {'href': 'https://api.spotify.com/v1/search?query=paul+simon&type=artist&offset=0&limit=20',\n",
              "  'items': [{'external_urls': {'spotify': 'https://open.spotify.com/artist/2CvCyf1gEVhI0mX6aFXmVI'},\n",
              "    'followers': {'href': None, 'total': 2050296},\n",
              "    'genres': ['classic rock',\n",
              "     'folk',\n",
              "     'folk rock',\n",
              "     'mellow gold',\n",
              "     'permanent wave',\n",
              "     'rock',\n",
              "     'roots rock',\n",
              "     'singer-songwriter',\n",
              "     'soft rock'],\n",
              "    'href': 'https://api.spotify.com/v1/artists/2CvCyf1gEVhI0mX6aFXmVI',\n",
              "    'id': '2CvCyf1gEVhI0mX6aFXmVI',\n",
              "    'images': [{'height': 640,\n",
              "      'url': 'https://i.scdn.co/image/ab6761610000e5eb1f764c8f69b595efe77e1c45',\n",
              "      'width': 640},\n",
              "     {'height': 320,\n",
              "      'url': 'https://i.scdn.co/image/ab676161000051741f764c8f69b595efe77e1c45',\n",
              "      'width': 320},\n",
              "     {'height': 160,\n",
              "      'url': 'https://i.scdn.co/image/ab6761610000f1781f764c8f69b595efe77e1c45',\n",
              "      'width': 160}],\n",
              "    'name': 'Paul Simon',\n",
              "    'popularity': 71,\n",
              "    'type': 'artist',\n",
              "    'uri': 'spotify:artist:2CvCyf1gEVhI0mX6aFXmVI'},\n",
              "   {'external_urls': {'spotify': 'https://open.spotify.com/artist/62bYKAZ5EdmG5Aca9dtVan'},\n",
              "    'followers': {'href': None, 'total': 1831},\n",
              "    'genres': [],\n",
              "    'href': 'https://api.spotify.com/v1/artists/62bYKAZ5EdmG5Aca9dtVan',\n",
              "    'id': '62bYKAZ5EdmG5Aca9dtVan',\n",
              "    'images': [{'height': 667,\n",
              "      'url': 'https://i.scdn.co/image/2f9a342682973ca63a7f12bc338050cf5138cef5',\n",
              "      'width': 1000},\n",
              "     {'height': 427,\n",
              "      'url': 'https://i.scdn.co/image/4a8212e656e6c314fb4cc1b64e7f3ae2ec3add61',\n",
              "      'width': 640},\n",
              "     {'height': 133,\n",
              "      'url': 'https://i.scdn.co/image/95f35faf41f79bd7bde14e2de08c62de00bbe36e',\n",
              "      'width': 199},\n",
              "     {'height': 43,\n",
              "      'url': 'https://i.scdn.co/image/1e34e65dfae55a0932754cab40153e7bce8c5649',\n",
              "      'width': 64}],\n",
              "    'name': 'Paul Simonon',\n",
              "    'popularity': 52,\n",
              "    'type': 'artist',\n",
              "    'uri': 'spotify:artist:62bYKAZ5EdmG5Aca9dtVan'},\n",
              "   {'external_urls': {'spotify': 'https://open.spotify.com/artist/70cRZdQywnSFp9pnc2WTCE'},\n",
              "    'followers': {'href': None, 'total': 4524134},\n",
              "    'genres': ['classic rock',\n",
              "     'folk',\n",
              "     'folk rock',\n",
              "     'melancholia',\n",
              "     'mellow gold',\n",
              "     'rock'],\n",
              "    'href': 'https://api.spotify.com/v1/artists/70cRZdQywnSFp9pnc2WTCE',\n",
              "    'id': '70cRZdQywnSFp9pnc2WTCE',\n",
              "    'images': [{'height': 1241,\n",
              "      'url': 'https://i.scdn.co/image/afde2fdd14f8c8ca23393f257e3a369a234a24b6',\n",
              "      'width': 1000},\n",
              "     {'height': 794,\n",
              "      'url': 'https://i.scdn.co/image/3bffe5e67788e9e64a4f8368f1010f20c269d518',\n",
              "      'width': 640},\n",
              "     {'height': 248,\n",
              "      'url': 'https://i.scdn.co/image/852145f3972cb8b6c431ca7b1c9d5bc839a8a06a',\n",
              "      'width': 200},\n",
              "     {'height': 79,\n",
              "      'url': 'https://i.scdn.co/image/b32f349333d0710b002b0439fc504558e46bcb07',\n",
              "      'width': 64}],\n",
              "    'name': 'Simon & Garfunkel',\n",
              "    'popularity': 74,\n",
              "    'type': 'artist',\n",
              "    'uri': 'spotify:artist:70cRZdQywnSFp9pnc2WTCE'},\n",
              "   {'external_urls': {'spotify': 'https://open.spotify.com/artist/3eu9Ik2LKO3pIWb5S0RNyu'},\n",
              "    'followers': {'href': None, 'total': 34},\n",
              "    'genres': [],\n",
              "    'href': 'https://api.spotify.com/v1/artists/3eu9Ik2LKO3pIWb5S0RNyu',\n",
              "    'id': '3eu9Ik2LKO3pIWb5S0RNyu',\n",
              "    'images': [],\n",
              "    'name': 'Marc Paul Simon',\n",
              "    'popularity': 25,\n",
              "    'type': 'artist',\n",
              "    'uri': 'spotify:artist:3eu9Ik2LKO3pIWb5S0RNyu'},\n",
              "   {'external_urls': {'spotify': 'https://open.spotify.com/artist/7saY0ZRzZgJJJgRw4yn7Vo'},\n",
              "    'followers': {'href': None, 'total': 1209},\n",
              "    'genres': [],\n",
              "    'href': 'https://api.spotify.com/v1/artists/7saY0ZRzZgJJJgRw4yn7Vo',\n",
              "    'id': '7saY0ZRzZgJJJgRw4yn7Vo',\n",
              "    'images': [{'height': 640,\n",
              "      'url': 'https://i.scdn.co/image/ab67616d0000b273f7c7e9a4e545ee03f216fdee',\n",
              "      'width': 640},\n",
              "     {'height': 300,\n",
              "      'url': 'https://i.scdn.co/image/ab67616d00001e02f7c7e9a4e545ee03f216fdee',\n",
              "      'width': 300},\n",
              "     {'height': 64,\n",
              "      'url': 'https://i.scdn.co/image/ab67616d00004851f7c7e9a4e545ee03f216fdee',\n",
              "      'width': 64}],\n",
              "    'name': 'Paul Simon',\n",
              "    'popularity': 3,\n",
              "    'type': 'artist',\n",
              "    'uri': 'spotify:artist:7saY0ZRzZgJJJgRw4yn7Vo'},\n",
              "   {'external_urls': {'spotify': 'https://open.spotify.com/artist/6kEsKkXuE4olX7m3mNLZkS'},\n",
              "    'followers': {'href': None, 'total': 512596},\n",
              "    'genres': ['adult standards',\n",
              "     'folk',\n",
              "     'folk rock',\n",
              "     'mellow gold',\n",
              "     'soft rock'],\n",
              "    'href': 'https://api.spotify.com/v1/artists/6kEsKkXuE4olX7m3mNLZkS',\n",
              "    'id': '6kEsKkXuE4olX7m3mNLZkS',\n",
              "    'images': [{'height': 1539,\n",
              "      'url': 'https://i.scdn.co/image/a83ec5dc782d63b0ff98af793f018012d0b5ecf7',\n",
              "      'width': 1000},\n",
              "     {'height': 985,\n",
              "      'url': 'https://i.scdn.co/image/225d07c2114bf7b48176a02037c3eedf5f854c17',\n",
              "      'width': 640},\n",
              "     {'height': 308,\n",
              "      'url': 'https://i.scdn.co/image/c24c38d406713f784884914a1095e566591e8913',\n",
              "      'width': 200},\n",
              "     {'height': 99,\n",
              "      'url': 'https://i.scdn.co/image/c41eacb3dd27d32166bc2554b03a6aeeafdd7e04',\n",
              "      'width': 64}],\n",
              "    'name': 'Art Garfunkel',\n",
              "    'popularity': 52,\n",
              "    'type': 'artist',\n",
              "    'uri': 'spotify:artist:6kEsKkXuE4olX7m3mNLZkS'},\n",
              "   {'external_urls': {'spotify': 'https://open.spotify.com/artist/3Ddeyxg9yFmwu1aOULQ850'},\n",
              "    'followers': {'href': None, 'total': 1188},\n",
              "    'genres': [],\n",
              "    'href': 'https://api.spotify.com/v1/artists/3Ddeyxg9yFmwu1aOULQ850',\n",
              "    'id': '3Ddeyxg9yFmwu1aOULQ850',\n",
              "    'images': [{'height': 640,\n",
              "      'url': 'https://i.scdn.co/image/ab67616d0000b273199f928ddf9a2d46938b46f3',\n",
              "      'width': 640},\n",
              "     {'height': 300,\n",
              "      'url': 'https://i.scdn.co/image/ab67616d00001e02199f928ddf9a2d46938b46f3',\n",
              "      'width': 300},\n",
              "     {'height': 64,\n",
              "      'url': 'https://i.scdn.co/image/ab67616d00004851199f928ddf9a2d46938b46f3',\n",
              "      'width': 64}],\n",
              "    'name': 'Paul Simpson',\n",
              "    'popularity': 37,\n",
              "    'type': 'artist',\n",
              "    'uri': 'spotify:artist:3Ddeyxg9yFmwu1aOULQ850'},\n",
              "   {'external_urls': {'spotify': 'https://open.spotify.com/artist/14Kgfk7680cgnnhTXDIKR3'},\n",
              "    'followers': {'href': None, 'total': 6},\n",
              "    'genres': [],\n",
              "    'href': 'https://api.spotify.com/v1/artists/14Kgfk7680cgnnhTXDIKR3',\n",
              "    'id': '14Kgfk7680cgnnhTXDIKR3',\n",
              "    'images': [{'height': 640,\n",
              "      'url': 'https://i.scdn.co/image/ab67616d0000b273981e2ae58a19ea322408a83a',\n",
              "      'width': 640},\n",
              "     {'height': 300,\n",
              "      'url': 'https://i.scdn.co/image/ab67616d00001e02981e2ae58a19ea322408a83a',\n",
              "      'width': 300},\n",
              "     {'height': 64,\n",
              "      'url': 'https://i.scdn.co/image/ab67616d00004851981e2ae58a19ea322408a83a',\n",
              "      'width': 64}],\n",
              "    'name': 'Paul Simon Brown',\n",
              "    'popularity': 0,\n",
              "    'type': 'artist',\n",
              "    'uri': 'spotify:artist:14Kgfk7680cgnnhTXDIKR3'},\n",
              "   {'external_urls': {'spotify': 'https://open.spotify.com/artist/414TS3VqZf1XPCBixdmX9n'},\n",
              "    'followers': {'href': None, 'total': 17190},\n",
              "    'genres': [],\n",
              "    'href': 'https://api.spotify.com/v1/artists/414TS3VqZf1XPCBixdmX9n',\n",
              "    'id': '414TS3VqZf1XPCBixdmX9n',\n",
              "    'images': [{'height': 640,\n",
              "      'url': 'https://i.scdn.co/image/ab6761610000e5eb08d8eccd8ab0cd2666dd421f',\n",
              "      'width': 640},\n",
              "     {'height': 320,\n",
              "      'url': 'https://i.scdn.co/image/ab6761610000517408d8eccd8ab0cd2666dd421f',\n",
              "      'width': 320},\n",
              "     {'height': 160,\n",
              "      'url': 'https://i.scdn.co/image/ab6761610000f17808d8eccd8ab0cd2666dd421f',\n",
              "      'width': 160}],\n",
              "    'name': 'Jack Antonoff',\n",
              "    'popularity': 27,\n",
              "    'type': 'artist',\n",
              "    'uri': 'spotify:artist:414TS3VqZf1XPCBixdmX9n'},\n",
              "   {'external_urls': {'spotify': 'https://open.spotify.com/artist/5ktiG2i4Gv54oDKNMJvgmk'},\n",
              "    'followers': {'href': None, 'total': 151368},\n",
              "    'genres': ['contemporary gospel', 'gospel'],\n",
              "    'href': 'https://api.spotify.com/v1/artists/5ktiG2i4Gv54oDKNMJvgmk',\n",
              "    'id': '5ktiG2i4Gv54oDKNMJvgmk',\n",
              "    'images': [{'height': 640,\n",
              "      'url': 'https://i.scdn.co/image/ab6761610000e5eb5efb18d4c0d23ad5a7eff439',\n",
              "      'width': 640},\n",
              "     {'height': 320,\n",
              "      'url': 'https://i.scdn.co/image/ab676161000051745efb18d4c0d23ad5a7eff439',\n",
              "      'width': 320},\n",
              "     {'height': 160,\n",
              "      'url': 'https://i.scdn.co/image/ab6761610000f1785efb18d4c0d23ad5a7eff439',\n",
              "      'width': 160}],\n",
              "    'name': 'Bishop Paul S. Morton, Sr.',\n",
              "    'popularity': 44,\n",
              "    'type': 'artist',\n",
              "    'uri': 'spotify:artist:5ktiG2i4Gv54oDKNMJvgmk'},\n",
              "   {'external_urls': {'spotify': 'https://open.spotify.com/artist/1bHjla8RVENeS2LjcMtFsK'},\n",
              "    'followers': {'href': None, 'total': 6},\n",
              "    'genres': [],\n",
              "    'href': 'https://api.spotify.com/v1/artists/1bHjla8RVENeS2LjcMtFsK',\n",
              "    'id': '1bHjla8RVENeS2LjcMtFsK',\n",
              "    'images': [],\n",
              "    'name': 'Paul Simon',\n",
              "    'popularity': 0,\n",
              "    'type': 'artist',\n",
              "    'uri': 'spotify:artist:1bHjla8RVENeS2LjcMtFsK'},\n",
              "   {'external_urls': {'spotify': 'https://open.spotify.com/artist/3FdLhnmXynPvZkbILPpB6d'},\n",
              "    'followers': {'href': None, 'total': 104482},\n",
              "    'genres': ['afropop', 'south african choral', 'world'],\n",
              "    'href': 'https://api.spotify.com/v1/artists/3FdLhnmXynPvZkbILPpB6d',\n",
              "    'id': '3FdLhnmXynPvZkbILPpB6d',\n",
              "    'images': [{'height': 640,\n",
              "      'url': 'https://i.scdn.co/image/ab6761610000e5eb75cf0827b3e31d174e24470e',\n",
              "      'width': 640},\n",
              "     {'height': 320,\n",
              "      'url': 'https://i.scdn.co/image/ab6761610000517475cf0827b3e31d174e24470e',\n",
              "      'width': 320},\n",
              "     {'height': 160,\n",
              "      'url': 'https://i.scdn.co/image/ab6761610000f17875cf0827b3e31d174e24470e',\n",
              "      'width': 160}],\n",
              "    'name': 'Ladysmith Black Mambazo',\n",
              "    'popularity': 51,\n",
              "    'type': 'artist',\n",
              "    'uri': 'spotify:artist:3FdLhnmXynPvZkbILPpB6d'},\n",
              "   {'external_urls': {'spotify': 'https://open.spotify.com/artist/7JIOOT8CdHyeJy0Dvv7eE7'},\n",
              "    'followers': {'href': None, 'total': 1273},\n",
              "    'genres': ['judaica', \"muzika l'yeladim\"],\n",
              "    'href': 'https://api.spotify.com/v1/artists/7JIOOT8CdHyeJy0Dvv7eE7',\n",
              "    'id': '7JIOOT8CdHyeJy0Dvv7eE7',\n",
              "    'images': [{'height': 640,\n",
              "      'url': 'https://i.scdn.co/image/ab67616d0000b273c89784a83ae97537c15e6b7a',\n",
              "      'width': 640},\n",
              "     {'height': 300,\n",
              "      'url': 'https://i.scdn.co/image/ab67616d00001e02c89784a83ae97537c15e6b7a',\n",
              "      'width': 300},\n",
              "     {'height': 64,\n",
              "      'url': 'https://i.scdn.co/image/ab67616d00004851c89784a83ae97537c15e6b7a',\n",
              "      'width': 64}],\n",
              "    'name': 'Paul Zim',\n",
              "    'popularity': 29,\n",
              "    'type': 'artist',\n",
              "    'uri': 'spotify:artist:7JIOOT8CdHyeJy0Dvv7eE7'},\n",
              "   {'external_urls': {'spotify': 'https://open.spotify.com/artist/0QkGLLmpRT5fdkmhXJYbfP'},\n",
              "    'followers': {'href': None, 'total': 0},\n",
              "    'genres': [],\n",
              "    'href': 'https://api.spotify.com/v1/artists/0QkGLLmpRT5fdkmhXJYbfP',\n",
              "    'id': '0QkGLLmpRT5fdkmhXJYbfP',\n",
              "    'images': [],\n",
              "    'name': 'Paul Simonon',\n",
              "    'popularity': 0,\n",
              "    'type': 'artist',\n",
              "    'uri': 'spotify:artist:0QkGLLmpRT5fdkmhXJYbfP'},\n",
              "   {'external_urls': {'spotify': 'https://open.spotify.com/artist/18RkLKfeoUgZflWv9os25W'},\n",
              "    'followers': {'href': None, 'total': 150191},\n",
              "    'genres': ['afropop', 'south african jazz', 'world', 'xhosa'],\n",
              "    'href': 'https://api.spotify.com/v1/artists/18RkLKfeoUgZflWv9os25W',\n",
              "    'id': '18RkLKfeoUgZflWv9os25W',\n",
              "    'images': [{'height': 1124,\n",
              "      'url': 'https://i.scdn.co/image/32c45bfb6695ca4f4715edccd6c928b8b2827b7a',\n",
              "      'width': 1000},\n",
              "     {'height': 719,\n",
              "      'url': 'https://i.scdn.co/image/14b2b2f737e24274128634a341c082cf8028f15b',\n",
              "      'width': 640},\n",
              "     {'height': 225,\n",
              "      'url': 'https://i.scdn.co/image/2b386d31cf9c42eaba191e1a77ddd4e32e5ac831',\n",
              "      'width': 200},\n",
              "     {'height': 72,\n",
              "      'url': 'https://i.scdn.co/image/c0f0ae78272edae1e7a18af4038971111edad8a9',\n",
              "      'width': 64}],\n",
              "    'name': 'Miriam Makeba',\n",
              "    'popularity': 49,\n",
              "    'type': 'artist',\n",
              "    'uri': 'spotify:artist:18RkLKfeoUgZflWv9os25W'},\n",
              "   {'external_urls': {'spotify': 'https://open.spotify.com/artist/4NMvFd8sW0SmenKHzfj1HG'},\n",
              "    'followers': {'href': None, 'total': 731},\n",
              "    'genres': [],\n",
              "    'href': 'https://api.spotify.com/v1/artists/4NMvFd8sW0SmenKHzfj1HG',\n",
              "    'id': '4NMvFd8sW0SmenKHzfj1HG',\n",
              "    'images': [],\n",
              "    'name': 'Ladysmith Black Mambazo with Paul Simon',\n",
              "    'popularity': 6,\n",
              "    'type': 'artist',\n",
              "    'uri': 'spotify:artist:4NMvFd8sW0SmenKHzfj1HG'},\n",
              "   {'external_urls': {'spotify': 'https://open.spotify.com/artist/2hO4YtXUFJiUYS2uYFvHNK'},\n",
              "    'followers': {'href': None, 'total': 1050736},\n",
              "    'genres': ['album rock',\n",
              "     'art rock',\n",
              "     'beatlesque',\n",
              "     'blues rock',\n",
              "     'classic rock',\n",
              "     'country rock',\n",
              "     'folk rock',\n",
              "     'heartland rock',\n",
              "     'mellow gold',\n",
              "     'rock',\n",
              "     'roots rock',\n",
              "     'soft rock',\n",
              "     'supergroup'],\n",
              "    'href': 'https://api.spotify.com/v1/artists/2hO4YtXUFJiUYS2uYFvHNK',\n",
              "    'id': '2hO4YtXUFJiUYS2uYFvHNK',\n",
              "    'images': [{'height': 640,\n",
              "      'url': 'https://i.scdn.co/image/ab6761610000e5ebabde33de707730af52c01bb0',\n",
              "      'width': 640},\n",
              "     {'height': 320,\n",
              "      'url': 'https://i.scdn.co/image/ab67616100005174abde33de707730af52c01bb0',\n",
              "      'width': 320},\n",
              "     {'height': 160,\n",
              "      'url': 'https://i.scdn.co/image/ab6761610000f178abde33de707730af52c01bb0',\n",
              "      'width': 160}],\n",
              "    'name': 'Traveling Wilburys',\n",
              "    'popularity': 63,\n",
              "    'type': 'artist',\n",
              "    'uri': 'spotify:artist:2hO4YtXUFJiUYS2uYFvHNK'},\n",
              "   {'external_urls': {'spotify': 'https://open.spotify.com/artist/41YhUjxNi1XomOm2YfCMcQ'},\n",
              "    'followers': {'href': None, 'total': 64},\n",
              "    'genres': [],\n",
              "    'href': 'https://api.spotify.com/v1/artists/41YhUjxNi1XomOm2YfCMcQ',\n",
              "    'id': '41YhUjxNi1XomOm2YfCMcQ',\n",
              "    'images': [{'height': 640,\n",
              "      'url': 'https://i.scdn.co/image/ab6761610000e5eb32516b8eed283488f1eca182',\n",
              "      'width': 640},\n",
              "     {'height': 320,\n",
              "      'url': 'https://i.scdn.co/image/ab6761610000517432516b8eed283488f1eca182',\n",
              "      'width': 320},\n",
              "     {'height': 160,\n",
              "      'url': 'https://i.scdn.co/image/ab6761610000f17832516b8eed283488f1eca182',\n",
              "      'width': 160}],\n",
              "    'name': 'Paul Silva',\n",
              "    'popularity': 25,\n",
              "    'type': 'artist',\n",
              "    'uri': 'spotify:artist:41YhUjxNi1XomOm2YfCMcQ'},\n",
              "   {'external_urls': {'spotify': 'https://open.spotify.com/artist/5XXiqsUudxYvanNbcB7vlf'},\n",
              "    'followers': {'href': None, 'total': 243},\n",
              "    'genres': [],\n",
              "    'href': 'https://api.spotify.com/v1/artists/5XXiqsUudxYvanNbcB7vlf',\n",
              "    'id': '5XXiqsUudxYvanNbcB7vlf',\n",
              "    'images': [],\n",
              "    'name': 'Paul Simon and Art Garfunkel',\n",
              "    'popularity': 0,\n",
              "    'type': 'artist',\n",
              "    'uri': 'spotify:artist:5XXiqsUudxYvanNbcB7vlf'},\n",
              "   {'external_urls': {'spotify': 'https://open.spotify.com/artist/4iInbXPV2oHo7XPJzXlkuX'},\n",
              "    'followers': {'href': None, 'total': 31},\n",
              "    'genres': [],\n",
              "    'href': 'https://api.spotify.com/v1/artists/4iInbXPV2oHo7XPJzXlkuX',\n",
              "    'id': '4iInbXPV2oHo7XPJzXlkuX',\n",
              "    'images': [{'height': 640,\n",
              "      'url': 'https://i.scdn.co/image/ab67616d0000b273060ea916f71befe74d5bb33c',\n",
              "      'width': 640},\n",
              "     {'height': 300,\n",
              "      'url': 'https://i.scdn.co/image/ab67616d00001e02060ea916f71befe74d5bb33c',\n",
              "      'width': 300},\n",
              "     {'height': 64,\n",
              "      'url': 'https://i.scdn.co/image/ab67616d00004851060ea916f71befe74d5bb33c',\n",
              "      'width': 64}],\n",
              "    'name': 'Miracle and Wonder',\n",
              "    'popularity': 1,\n",
              "    'type': 'artist',\n",
              "    'uri': 'spotify:artist:4iInbXPV2oHo7XPJzXlkuX'}],\n",
              "  'limit': 20,\n",
              "  'next': 'https://api.spotify.com/v1/search?query=paul+simon&type=artist&offset=20&limit=20',\n",
              "  'offset': 0,\n",
              "  'previous': None,\n",
              "  'total': 171}}"
            ]
          },
          "metadata": {},
          "execution_count": 8
        }
      ],
      "source": [
        "paul_simon_data = make_request(token, paul_simon_request_url)\n",
        "paul_simon_data"
      ]
    },
    {
      "cell_type": "code",
      "execution_count": null,
      "metadata": {
        "id": "z3ywB3HpO3Ov"
      },
      "outputs": [],
      "source": [
        "# paul_simon_data\n",
        "\n",
        "# {'artists': {'href': 'https://api.spotify.com/v1/search?query=paul+simon&type=artist&offset=0&limit=20',\n",
        "#   'items': [{'external_urls': {'spotify': 'https://open.spotify.com/artist/2CvCyf1gEVhI0mX6aFXmVI'},\n",
        "#     'followers': {'href': None, 'total': 1219295},\n",
        "#     'genres': ['classic rock',\n",
        "#      'folk',\n",
        "#      'folk rock',\n",
        "#      'mellow gold',\n",
        "#      'permanent wave',\n",
        "#      'rock',\n",
        "#      'roots rock'"
      ]
    },
    {
      "cell_type": "markdown",
      "metadata": {
        "id": "Hl1UIYHeO3Ow"
      },
      "source": [
        "> When you see that it's correct, feel free to comment out the output."
      ]
    },
    {
      "cell_type": "markdown",
      "metadata": {
        "id": "vxmv1jfTO3Ox"
      },
      "source": [
        "Next write a method that extracts the `name`, `id` and popularity from the json response for an artist."
      ]
    },
    {
      "cell_type": "code",
      "execution_count": null,
      "metadata": {
        "id": "Ko560SefO3Ox"
      },
      "outputs": [],
      "source": [
        "def extract_artist_info(search_resp):\n",
        "  artist_name = search_resp[\"artists\"][\"items\"][0][\"name\"]\n",
        "  id = search_resp[\"artists\"][\"items\"][0][\"id\"]\n",
        "  popularity = search_resp[\"artists\"][\"items\"][0][\"popularity\"]\n",
        "  return {\"name\":artist_name, \"id\": id, \"popularity\": popularity}"
      ]
    },
    {
      "cell_type": "code",
      "execution_count": null,
      "metadata": {
        "id": "NL5baoGpO3Ox",
        "outputId": "17d954c8-8147-4c53-8686-c854057ef32f",
        "colab": {
          "base_uri": "https://localhost:8080/"
        }
      },
      "outputs": [
        {
          "output_type": "execute_result",
          "data": {
            "text/plain": [
              "{'name': 'Paul Simon', 'id': '2CvCyf1gEVhI0mX6aFXmVI', 'popularity': 71}"
            ]
          },
          "metadata": {},
          "execution_count": 11
        }
      ],
      "source": [
        "paul_simon_info = extract_artist_info(paul_simon_data)\n",
        "paul_simon_info\n",
        "# {'name': 'Paul Simon', 'id': '2CvCyf1gEVhI0mX6aFXmVI', 'popularity': 74}"
      ]
    },
    {
      "cell_type": "markdown",
      "metadata": {
        "id": "N4RQGH2NO3Oy"
      },
      "source": [
        "## Digging Deeper"
      ]
    },
    {
      "cell_type": "markdown",
      "metadata": {
        "id": "KzvxDZVcO3Oy"
      },
      "source": [
        "Now that we have successfully requested and extracted information from the Spotify API, it's time to go deeper.  \n",
        "\n",
        "Let's use the artist's `id`, to search for more information about the artist."
      ]
    },
    {
      "cell_type": "markdown",
      "metadata": {
        "id": "m_9ejoLiO3Oz"
      },
      "source": [
        "* Finding the `top_tracks`"
      ]
    },
    {
      "cell_type": "markdown",
      "metadata": {
        "id": "G4KlArgwO3Oz"
      },
      "source": [
        "With the Spotify API, we can find the top tracks of an artist.  Write a method that takes in an `artist_id`, and returns url to request an artist's top tracks. "
      ]
    },
    {
      "cell_type": "code",
      "execution_count": null,
      "metadata": {
        "id": "s8VEWv-FO3O0"
      },
      "outputs": [],
      "source": [
        "def top_tracks_url(artist_id,token):\n",
        "  url = f'https://api.spotify.com/v1/artists/{artist_id}/top-tracks?market=US'\n",
        " \n",
        "  return url\n"
      ]
    },
    {
      "cell_type": "code",
      "execution_count": null,
      "metadata": {
        "id": "pNKOhTA_O3O1",
        "outputId": "7d3e096f-5903-4b6c-cc68-0ab7e09c14be",
        "colab": {
          "base_uri": "https://localhost:8080/",
          "height": 53
        }
      },
      "outputs": [
        {
          "output_type": "stream",
          "name": "stdout",
          "text": [
            "2CvCyf1gEVhI0mX6aFXmVI\n"
          ]
        },
        {
          "output_type": "execute_result",
          "data": {
            "text/plain": [
              "'https://api.spotify.com/v1/artists/2CvCyf1gEVhI0mX6aFXmVI/top-tracks?market=US'"
            ],
            "application/vnd.google.colaboratory.intrinsic+json": {
              "type": "string"
            }
          },
          "metadata": {},
          "execution_count": 13
        }
      ],
      "source": [
        "simon_id = paul_simon_info['id']\n",
        "\n",
        "print(simon_id)\n",
        "simon_artist_url = top_tracks_url(simon_id,token)\n",
        "simon_artist_url\n",
        "# 'https://api.spotify.com/v1/artists/2CvCyf1gEVhI0mX6aFXmVI/top-tracks?market=US'"
      ]
    },
    {
      "cell_type": "markdown",
      "metadata": {
        "id": "orDBYoqlO3O1"
      },
      "source": [
        "Now use the url to make the request to the API."
      ]
    },
    {
      "cell_type": "code",
      "execution_count": null,
      "metadata": {
        "id": "jeTc_IBdO3O2"
      },
      "outputs": [],
      "source": [
        "simon_tracks = make_request(token, simon_artist_url)"
      ]
    },
    {
      "cell_type": "code",
      "execution_count": null,
      "metadata": {
        "id": "PyFpj1yfO3O2",
        "colab": {
          "base_uri": "https://localhost:8080/"
        },
        "outputId": "c8582ea8-fe70-4626-fd1a-5096a84f6feb"
      },
      "outputs": [
        {
          "output_type": "execute_result",
          "data": {
            "text/plain": [
              "{'tracks': [{'album': {'album_group': 'album',\n",
              "    'album_type': 'album',\n",
              "    'artists': [{'external_urls': {'spotify': 'https://open.spotify.com/artist/2CvCyf1gEVhI0mX6aFXmVI'},\n",
              "      'href': 'https://api.spotify.com/v1/artists/2CvCyf1gEVhI0mX6aFXmVI',\n",
              "      'id': '2CvCyf1gEVhI0mX6aFXmVI',\n",
              "      'name': 'Paul Simon',\n",
              "      'type': 'artist',\n",
              "      'uri': 'spotify:artist:2CvCyf1gEVhI0mX6aFXmVI'}],\n",
              "    'external_urls': {'spotify': 'https://open.spotify.com/album/6WgGWYw6XXQyLTsWt7tXky'},\n",
              "    'href': 'https://api.spotify.com/v1/albums/6WgGWYw6XXQyLTsWt7tXky',\n",
              "    'id': '6WgGWYw6XXQyLTsWt7tXky',\n",
              "    'images': [{'height': 640,\n",
              "      'url': 'https://i.scdn.co/image/ab67616d0000b27309880a7b8636c5a0615dc0c8',\n",
              "      'width': 640},\n",
              "     {'height': 300,\n",
              "      'url': 'https://i.scdn.co/image/ab67616d00001e0209880a7b8636c5a0615dc0c8',\n",
              "      'width': 300},\n",
              "     {'height': 64,\n",
              "      'url': 'https://i.scdn.co/image/ab67616d0000485109880a7b8636c5a0615dc0c8',\n",
              "      'width': 64}],\n",
              "    'is_playable': True,\n",
              "    'name': 'Graceland (25th Anniversary Deluxe Edition)',\n",
              "    'release_date': '1986-08-12',\n",
              "    'release_date_precision': 'day',\n",
              "    'total_tracks': 17,\n",
              "    'type': 'album',\n",
              "    'uri': 'spotify:album:6WgGWYw6XXQyLTsWt7tXky'},\n",
              "   'artists': [{'external_urls': {'spotify': 'https://open.spotify.com/artist/2CvCyf1gEVhI0mX6aFXmVI'},\n",
              "     'href': 'https://api.spotify.com/v1/artists/2CvCyf1gEVhI0mX6aFXmVI',\n",
              "     'id': '2CvCyf1gEVhI0mX6aFXmVI',\n",
              "     'name': 'Paul Simon',\n",
              "     'type': 'artist',\n",
              "     'uri': 'spotify:artist:2CvCyf1gEVhI0mX6aFXmVI'}],\n",
              "   'disc_number': 1,\n",
              "   'duration_ms': 280000,\n",
              "   'explicit': False,\n",
              "   'external_ids': {'isrc': 'USSM11002274'},\n",
              "   'external_urls': {'spotify': 'https://open.spotify.com/track/0qxYx4F3vm1AOnfux6dDxP'},\n",
              "   'href': 'https://api.spotify.com/v1/tracks/0qxYx4F3vm1AOnfux6dDxP',\n",
              "   'id': '0qxYx4F3vm1AOnfux6dDxP',\n",
              "   'is_local': False,\n",
              "   'is_playable': True,\n",
              "   'name': 'You Can Call Me Al',\n",
              "   'popularity': 73,\n",
              "   'preview_url': 'https://p.scdn.co/mp3-preview/6a17ed2e1ee8d45a933c4a86dd268ba8f12299a4?cid=080445e02011451ca11596ac7f40065b',\n",
              "   'track_number': 6,\n",
              "   'type': 'track',\n",
              "   'uri': 'spotify:track:0qxYx4F3vm1AOnfux6dDxP'},\n",
              "  {'album': {'album_group': 'album',\n",
              "    'album_type': 'album',\n",
              "    'artists': [{'external_urls': {'spotify': 'https://open.spotify.com/artist/2CvCyf1gEVhI0mX6aFXmVI'},\n",
              "      'href': 'https://api.spotify.com/v1/artists/2CvCyf1gEVhI0mX6aFXmVI',\n",
              "      'id': '2CvCyf1gEVhI0mX6aFXmVI',\n",
              "      'name': 'Paul Simon',\n",
              "      'type': 'artist',\n",
              "      'uri': 'spotify:artist:2CvCyf1gEVhI0mX6aFXmVI'}],\n",
              "    'external_urls': {'spotify': 'https://open.spotify.com/album/7npBPiCHjPj8PVIGPuHXep'},\n",
              "    'href': 'https://api.spotify.com/v1/albums/7npBPiCHjPj8PVIGPuHXep',\n",
              "    'id': '7npBPiCHjPj8PVIGPuHXep',\n",
              "    'images': [{'height': 640,\n",
              "      'url': 'https://i.scdn.co/image/ab67616d0000b27337a40ab12a4fb96319a9d96f',\n",
              "      'width': 640},\n",
              "     {'height': 300,\n",
              "      'url': 'https://i.scdn.co/image/ab67616d00001e0237a40ab12a4fb96319a9d96f',\n",
              "      'width': 300},\n",
              "     {'height': 64,\n",
              "      'url': 'https://i.scdn.co/image/ab67616d0000485137a40ab12a4fb96319a9d96f',\n",
              "      'width': 64}],\n",
              "    'is_playable': True,\n",
              "    'name': 'Paul Simon',\n",
              "    'release_date': '1972-01-14',\n",
              "    'release_date_precision': 'day',\n",
              "    'total_tracks': 14,\n",
              "    'type': 'album',\n",
              "    'uri': 'spotify:album:7npBPiCHjPj8PVIGPuHXep'},\n",
              "   'artists': [{'external_urls': {'spotify': 'https://open.spotify.com/artist/2CvCyf1gEVhI0mX6aFXmVI'},\n",
              "     'href': 'https://api.spotify.com/v1/artists/2CvCyf1gEVhI0mX6aFXmVI',\n",
              "     'id': '2CvCyf1gEVhI0mX6aFXmVI',\n",
              "     'name': 'Paul Simon',\n",
              "     'type': 'artist',\n",
              "     'uri': 'spotify:artist:2CvCyf1gEVhI0mX6aFXmVI'}],\n",
              "   'disc_number': 1,\n",
              "   'duration_ms': 164813,\n",
              "   'explicit': False,\n",
              "   'external_ids': {'isrc': 'USSM11002239'},\n",
              "   'external_urls': {'spotify': 'https://open.spotify.com/track/6vxHp3CDNo0afgKGp2yi1E'},\n",
              "   'href': 'https://api.spotify.com/v1/tracks/6vxHp3CDNo0afgKGp2yi1E',\n",
              "   'id': '6vxHp3CDNo0afgKGp2yi1E',\n",
              "   'is_local': False,\n",
              "   'is_playable': True,\n",
              "   'name': 'Me and Julio Down by the Schoolyard',\n",
              "   'popularity': 70,\n",
              "   'preview_url': 'https://p.scdn.co/mp3-preview/b55e308df04f344e76cf9ebd010392f3a329ab8b?cid=080445e02011451ca11596ac7f40065b',\n",
              "   'track_number': 6,\n",
              "   'type': 'track',\n",
              "   'uri': 'spotify:track:6vxHp3CDNo0afgKGp2yi1E'},\n",
              "  {'album': {'album_group': 'album',\n",
              "    'album_type': 'album',\n",
              "    'artists': [{'external_urls': {'spotify': 'https://open.spotify.com/artist/2CvCyf1gEVhI0mX6aFXmVI'},\n",
              "      'href': 'https://api.spotify.com/v1/artists/2CvCyf1gEVhI0mX6aFXmVI',\n",
              "      'id': '2CvCyf1gEVhI0mX6aFXmVI',\n",
              "      'name': 'Paul Simon',\n",
              "      'type': 'artist',\n",
              "      'uri': 'spotify:artist:2CvCyf1gEVhI0mX6aFXmVI'}],\n",
              "    'external_urls': {'spotify': 'https://open.spotify.com/album/4A366gjTrYQwmRtkTezF2W'},\n",
              "    'href': 'https://api.spotify.com/v1/albums/4A366gjTrYQwmRtkTezF2W',\n",
              "    'id': '4A366gjTrYQwmRtkTezF2W',\n",
              "    'images': [{'height': 640,\n",
              "      'url': 'https://i.scdn.co/image/ab67616d0000b2733879ef4375b97d2b58bf0768',\n",
              "      'width': 640},\n",
              "     {'height': 300,\n",
              "      'url': 'https://i.scdn.co/image/ab67616d00001e023879ef4375b97d2b58bf0768',\n",
              "      'width': 300},\n",
              "     {'height': 64,\n",
              "      'url': 'https://i.scdn.co/image/ab67616d000048513879ef4375b97d2b58bf0768',\n",
              "      'width': 64}],\n",
              "    'is_playable': True,\n",
              "    'name': 'Still Crazy After All These Years',\n",
              "    'release_date': '1975-10-25',\n",
              "    'release_date_precision': 'day',\n",
              "    'total_tracks': 12,\n",
              "    'type': 'album',\n",
              "    'uri': 'spotify:album:4A366gjTrYQwmRtkTezF2W'},\n",
              "   'artists': [{'external_urls': {'spotify': 'https://open.spotify.com/artist/2CvCyf1gEVhI0mX6aFXmVI'},\n",
              "     'href': 'https://api.spotify.com/v1/artists/2CvCyf1gEVhI0mX6aFXmVI',\n",
              "     'id': '2CvCyf1gEVhI0mX6aFXmVI',\n",
              "     'name': 'Paul Simon',\n",
              "     'type': 'artist',\n",
              "     'uri': 'spotify:artist:2CvCyf1gEVhI0mX6aFXmVI'}],\n",
              "   'disc_number': 1,\n",
              "   'duration_ms': 217346,\n",
              "   'explicit': False,\n",
              "   'external_ids': {'isrc': 'USSM11002304'},\n",
              "   'external_urls': {'spotify': 'https://open.spotify.com/track/6Qb7gtV6Q4MnUjSbkFcopl'},\n",
              "   'href': 'https://api.spotify.com/v1/tracks/6Qb7gtV6Q4MnUjSbkFcopl',\n",
              "   'id': '6Qb7gtV6Q4MnUjSbkFcopl',\n",
              "   'is_local': False,\n",
              "   'is_playable': True,\n",
              "   'name': '50 Ways to Leave Your Lover',\n",
              "   'popularity': 67,\n",
              "   'preview_url': 'https://p.scdn.co/mp3-preview/41aa0ddb2632aa1939ecbaa3bed10b28c47c5a0b?cid=080445e02011451ca11596ac7f40065b',\n",
              "   'track_number': 4,\n",
              "   'type': 'track',\n",
              "   'uri': 'spotify:track:6Qb7gtV6Q4MnUjSbkFcopl'},\n",
              "  {'album': {'album_group': 'album',\n",
              "    'album_type': 'album',\n",
              "    'artists': [{'external_urls': {'spotify': 'https://open.spotify.com/artist/2CvCyf1gEVhI0mX6aFXmVI'},\n",
              "      'href': 'https://api.spotify.com/v1/artists/2CvCyf1gEVhI0mX6aFXmVI',\n",
              "      'id': '2CvCyf1gEVhI0mX6aFXmVI',\n",
              "      'name': 'Paul Simon',\n",
              "      'type': 'artist',\n",
              "      'uri': 'spotify:artist:2CvCyf1gEVhI0mX6aFXmVI'}],\n",
              "    'external_urls': {'spotify': 'https://open.spotify.com/album/50pzpI17hwQj7LKcOiLMFD'},\n",
              "    'href': 'https://api.spotify.com/v1/albums/50pzpI17hwQj7LKcOiLMFD',\n",
              "    'id': '50pzpI17hwQj7LKcOiLMFD',\n",
              "    'images': [{'height': 640,\n",
              "      'url': 'https://i.scdn.co/image/ab67616d0000b2730b3dcd1fd0d85f3721625c03',\n",
              "      'width': 640},\n",
              "     {'height': 300,\n",
              "      'url': 'https://i.scdn.co/image/ab67616d00001e020b3dcd1fd0d85f3721625c03',\n",
              "      'width': 300},\n",
              "     {'height': 64,\n",
              "      'url': 'https://i.scdn.co/image/ab67616d000048510b3dcd1fd0d85f3721625c03',\n",
              "      'width': 64}],\n",
              "    'is_playable': True,\n",
              "    'name': \"There Goes Rhymin' Simon\",\n",
              "    'release_date': '1973-05-05',\n",
              "    'release_date_precision': 'day',\n",
              "    'total_tracks': 14,\n",
              "    'type': 'album',\n",
              "    'uri': 'spotify:album:50pzpI17hwQj7LKcOiLMFD'},\n",
              "   'artists': [{'external_urls': {'spotify': 'https://open.spotify.com/artist/2CvCyf1gEVhI0mX6aFXmVI'},\n",
              "     'href': 'https://api.spotify.com/v1/artists/2CvCyf1gEVhI0mX6aFXmVI',\n",
              "     'id': '2CvCyf1gEVhI0mX6aFXmVI',\n",
              "     'name': 'Paul Simon',\n",
              "     'type': 'artist',\n",
              "     'uri': 'spotify:artist:2CvCyf1gEVhI0mX6aFXmVI'}],\n",
              "   'disc_number': 1,\n",
              "   'duration_ms': 215400,\n",
              "   'explicit': False,\n",
              "   'external_ids': {'isrc': 'USSM11002044'},\n",
              "   'external_urls': {'spotify': 'https://open.spotify.com/track/3f0U5NaD1bCk8nmKpn2ZJY'},\n",
              "   'href': 'https://api.spotify.com/v1/tracks/3f0U5NaD1bCk8nmKpn2ZJY',\n",
              "   'id': '3f0U5NaD1bCk8nmKpn2ZJY',\n",
              "   'is_local': False,\n",
              "   'is_playable': True,\n",
              "   'name': 'Kodachrome',\n",
              "   'popularity': 63,\n",
              "   'preview_url': 'https://p.scdn.co/mp3-preview/6bde86a8f5e42f2538b20b3a36b57f67e660d51a?cid=080445e02011451ca11596ac7f40065b',\n",
              "   'track_number': 1,\n",
              "   'type': 'track',\n",
              "   'uri': 'spotify:track:3f0U5NaD1bCk8nmKpn2ZJY'},\n",
              "  {'album': {'album_group': 'album',\n",
              "    'album_type': 'album',\n",
              "    'artists': [{'external_urls': {'spotify': 'https://open.spotify.com/artist/2CvCyf1gEVhI0mX6aFXmVI'},\n",
              "      'href': 'https://api.spotify.com/v1/artists/2CvCyf1gEVhI0mX6aFXmVI',\n",
              "      'id': '2CvCyf1gEVhI0mX6aFXmVI',\n",
              "      'name': 'Paul Simon',\n",
              "      'type': 'artist',\n",
              "      'uri': 'spotify:artist:2CvCyf1gEVhI0mX6aFXmVI'}],\n",
              "    'external_urls': {'spotify': 'https://open.spotify.com/album/6WgGWYw6XXQyLTsWt7tXky'},\n",
              "    'href': 'https://api.spotify.com/v1/albums/6WgGWYw6XXQyLTsWt7tXky',\n",
              "    'id': '6WgGWYw6XXQyLTsWt7tXky',\n",
              "    'images': [{'height': 640,\n",
              "      'url': 'https://i.scdn.co/image/ab67616d0000b27309880a7b8636c5a0615dc0c8',\n",
              "      'width': 640},\n",
              "     {'height': 300,\n",
              "      'url': 'https://i.scdn.co/image/ab67616d00001e0209880a7b8636c5a0615dc0c8',\n",
              "      'width': 300},\n",
              "     {'height': 64,\n",
              "      'url': 'https://i.scdn.co/image/ab67616d0000485109880a7b8636c5a0615dc0c8',\n",
              "      'width': 64}],\n",
              "    'is_playable': True,\n",
              "    'name': 'Graceland (25th Anniversary Deluxe Edition)',\n",
              "    'release_date': '1986-08-12',\n",
              "    'release_date_precision': 'day',\n",
              "    'total_tracks': 17,\n",
              "    'type': 'album',\n",
              "    'uri': 'spotify:album:6WgGWYw6XXQyLTsWt7tXky'},\n",
              "   'artists': [{'external_urls': {'spotify': 'https://open.spotify.com/artist/2CvCyf1gEVhI0mX6aFXmVI'},\n",
              "     'href': 'https://api.spotify.com/v1/artists/2CvCyf1gEVhI0mX6aFXmVI',\n",
              "     'id': '2CvCyf1gEVhI0mX6aFXmVI',\n",
              "     'name': 'Paul Simon',\n",
              "     'type': 'artist',\n",
              "     'uri': 'spotify:artist:2CvCyf1gEVhI0mX6aFXmVI'}],\n",
              "   'disc_number': 1,\n",
              "   'duration_ms': 291200,\n",
              "   'explicit': False,\n",
              "   'external_ids': {'isrc': 'USSM11002255'},\n",
              "   'external_urls': {'spotify': 'https://open.spotify.com/track/51KKQAgYFoJHgVIuJWHdHb'},\n",
              "   'href': 'https://api.spotify.com/v1/tracks/51KKQAgYFoJHgVIuJWHdHb',\n",
              "   'id': '51KKQAgYFoJHgVIuJWHdHb',\n",
              "   'is_local': False,\n",
              "   'is_playable': True,\n",
              "   'name': 'Graceland',\n",
              "   'popularity': 61,\n",
              "   'preview_url': 'https://p.scdn.co/mp3-preview/4d69bea494d59d4617b52e7b28eee159f1214448?cid=080445e02011451ca11596ac7f40065b',\n",
              "   'track_number': 2,\n",
              "   'type': 'track',\n",
              "   'uri': 'spotify:track:51KKQAgYFoJHgVIuJWHdHb'},\n",
              "  {'album': {'album_group': 'album',\n",
              "    'album_type': 'album',\n",
              "    'artists': [{'external_urls': {'spotify': 'https://open.spotify.com/artist/2CvCyf1gEVhI0mX6aFXmVI'},\n",
              "      'href': 'https://api.spotify.com/v1/artists/2CvCyf1gEVhI0mX6aFXmVI',\n",
              "      'id': '2CvCyf1gEVhI0mX6aFXmVI',\n",
              "      'name': 'Paul Simon',\n",
              "      'type': 'artist',\n",
              "      'uri': 'spotify:artist:2CvCyf1gEVhI0mX6aFXmVI'}],\n",
              "    'external_urls': {'spotify': 'https://open.spotify.com/album/6WgGWYw6XXQyLTsWt7tXky'},\n",
              "    'href': 'https://api.spotify.com/v1/albums/6WgGWYw6XXQyLTsWt7tXky',\n",
              "    'id': '6WgGWYw6XXQyLTsWt7tXky',\n",
              "    'images': [{'height': 640,\n",
              "      'url': 'https://i.scdn.co/image/ab67616d0000b27309880a7b8636c5a0615dc0c8',\n",
              "      'width': 640},\n",
              "     {'height': 300,\n",
              "      'url': 'https://i.scdn.co/image/ab67616d00001e0209880a7b8636c5a0615dc0c8',\n",
              "      'width': 300},\n",
              "     {'height': 64,\n",
              "      'url': 'https://i.scdn.co/image/ab67616d0000485109880a7b8636c5a0615dc0c8',\n",
              "      'width': 64}],\n",
              "    'is_playable': True,\n",
              "    'name': 'Graceland (25th Anniversary Deluxe Edition)',\n",
              "    'release_date': '1986-08-12',\n",
              "    'release_date_precision': 'day',\n",
              "    'total_tracks': 17,\n",
              "    'type': 'album',\n",
              "    'uri': 'spotify:album:6WgGWYw6XXQyLTsWt7tXky'},\n",
              "   'artists': [{'external_urls': {'spotify': 'https://open.spotify.com/artist/2CvCyf1gEVhI0mX6aFXmVI'},\n",
              "     'href': 'https://api.spotify.com/v1/artists/2CvCyf1gEVhI0mX6aFXmVI',\n",
              "     'id': '2CvCyf1gEVhI0mX6aFXmVI',\n",
              "     'name': 'Paul Simon',\n",
              "     'type': 'artist',\n",
              "     'uri': 'spotify:artist:2CvCyf1gEVhI0mX6aFXmVI'}],\n",
              "   'disc_number': 1,\n",
              "   'duration_ms': 349280,\n",
              "   'explicit': False,\n",
              "   'external_ids': {'isrc': 'USSM11002273'},\n",
              "   'external_urls': {'spotify': 'https://open.spotify.com/track/71GvlH0VdeClloLIkHrAVu'},\n",
              "   'href': 'https://api.spotify.com/v1/tracks/71GvlH0VdeClloLIkHrAVu',\n",
              "   'id': '71GvlH0VdeClloLIkHrAVu',\n",
              "   'is_local': False,\n",
              "   'is_playable': True,\n",
              "   'name': 'Diamonds on the Soles of Her Shoes',\n",
              "   'popularity': 59,\n",
              "   'preview_url': 'https://p.scdn.co/mp3-preview/aeb9d6f893680051efb1938ec56c855a40a3062a?cid=080445e02011451ca11596ac7f40065b',\n",
              "   'track_number': 5,\n",
              "   'type': 'track',\n",
              "   'uri': 'spotify:track:71GvlH0VdeClloLIkHrAVu'},\n",
              "  {'album': {'album_group': 'album',\n",
              "    'album_type': 'album',\n",
              "    'artists': [{'external_urls': {'spotify': 'https://open.spotify.com/artist/2CvCyf1gEVhI0mX6aFXmVI'},\n",
              "      'href': 'https://api.spotify.com/v1/artists/2CvCyf1gEVhI0mX6aFXmVI',\n",
              "      'id': '2CvCyf1gEVhI0mX6aFXmVI',\n",
              "      'name': 'Paul Simon',\n",
              "      'type': 'artist',\n",
              "      'uri': 'spotify:artist:2CvCyf1gEVhI0mX6aFXmVI'}],\n",
              "    'external_urls': {'spotify': 'https://open.spotify.com/album/5Be2SD7NA17AVhzq3elNVX'},\n",
              "    'href': 'https://api.spotify.com/v1/albums/5Be2SD7NA17AVhzq3elNVX',\n",
              "    'id': '5Be2SD7NA17AVhzq3elNVX',\n",
              "    'images': [{'height': 640,\n",
              "      'url': 'https://i.scdn.co/image/ab67616d0000b27329fa77b3d921298cb0f0934f',\n",
              "      'width': 640},\n",
              "     {'height': 300,\n",
              "      'url': 'https://i.scdn.co/image/ab67616d00001e0229fa77b3d921298cb0f0934f',\n",
              "      'width': 300},\n",
              "     {'height': 64,\n",
              "      'url': 'https://i.scdn.co/image/ab67616d0000485129fa77b3d921298cb0f0934f',\n",
              "      'width': 64}],\n",
              "    'is_playable': True,\n",
              "    'name': 'One-Trick Pony',\n",
              "    'release_date': '1980-08-01',\n",
              "    'release_date_precision': 'day',\n",
              "    'total_tracks': 14,\n",
              "    'type': 'album',\n",
              "    'uri': 'spotify:album:5Be2SD7NA17AVhzq3elNVX'},\n",
              "   'artists': [{'external_urls': {'spotify': 'https://open.spotify.com/artist/2CvCyf1gEVhI0mX6aFXmVI'},\n",
              "     'href': 'https://api.spotify.com/v1/artists/2CvCyf1gEVhI0mX6aFXmVI',\n",
              "     'id': '2CvCyf1gEVhI0mX6aFXmVI',\n",
              "     'name': 'Paul Simon',\n",
              "     'type': 'artist',\n",
              "     'uri': 'spotify:artist:2CvCyf1gEVhI0mX6aFXmVI'}],\n",
              "   'disc_number': 1,\n",
              "   'duration_ms': 242706,\n",
              "   'explicit': False,\n",
              "   'external_ids': {'isrc': 'USSM11002258'},\n",
              "   'external_urls': {'spotify': 'https://open.spotify.com/track/2h23bjG8B3bcD47HBu6bHG'},\n",
              "   'href': 'https://api.spotify.com/v1/tracks/2h23bjG8B3bcD47HBu6bHG',\n",
              "   'id': '2h23bjG8B3bcD47HBu6bHG',\n",
              "   'is_local': False,\n",
              "   'is_playable': True,\n",
              "   'name': 'Late in the Evening',\n",
              "   'popularity': 58,\n",
              "   'preview_url': 'https://p.scdn.co/mp3-preview/3aeae8a11b506fb24bb4755e5bc86b9dabbeed51?cid=080445e02011451ca11596ac7f40065b',\n",
              "   'track_number': 1,\n",
              "   'type': 'track',\n",
              "   'uri': 'spotify:track:2h23bjG8B3bcD47HBu6bHG'},\n",
              "  {'album': {'album_group': 'album',\n",
              "    'album_type': 'album',\n",
              "    'artists': [{'external_urls': {'spotify': 'https://open.spotify.com/artist/2CvCyf1gEVhI0mX6aFXmVI'},\n",
              "      'href': 'https://api.spotify.com/v1/artists/2CvCyf1gEVhI0mX6aFXmVI',\n",
              "      'id': '2CvCyf1gEVhI0mX6aFXmVI',\n",
              "      'name': 'Paul Simon',\n",
              "      'type': 'artist',\n",
              "      'uri': 'spotify:artist:2CvCyf1gEVhI0mX6aFXmVI'}],\n",
              "    'external_urls': {'spotify': 'https://open.spotify.com/album/50pzpI17hwQj7LKcOiLMFD'},\n",
              "    'href': 'https://api.spotify.com/v1/albums/50pzpI17hwQj7LKcOiLMFD',\n",
              "    'id': '50pzpI17hwQj7LKcOiLMFD',\n",
              "    'images': [{'height': 640,\n",
              "      'url': 'https://i.scdn.co/image/ab67616d0000b2730b3dcd1fd0d85f3721625c03',\n",
              "      'width': 640},\n",
              "     {'height': 300,\n",
              "      'url': 'https://i.scdn.co/image/ab67616d00001e020b3dcd1fd0d85f3721625c03',\n",
              "      'width': 300},\n",
              "     {'height': 64,\n",
              "      'url': 'https://i.scdn.co/image/ab67616d000048510b3dcd1fd0d85f3721625c03',\n",
              "      'width': 64}],\n",
              "    'is_playable': True,\n",
              "    'name': \"There Goes Rhymin' Simon\",\n",
              "    'release_date': '1973-05-05',\n",
              "    'release_date_precision': 'day',\n",
              "    'total_tracks': 14,\n",
              "    'type': 'album',\n",
              "    'uri': 'spotify:album:50pzpI17hwQj7LKcOiLMFD'},\n",
              "   'artists': [{'external_urls': {'spotify': 'https://open.spotify.com/artist/2CvCyf1gEVhI0mX6aFXmVI'},\n",
              "     'href': 'https://api.spotify.com/v1/artists/2CvCyf1gEVhI0mX6aFXmVI',\n",
              "     'id': '2CvCyf1gEVhI0mX6aFXmVI',\n",
              "     'name': 'Paul Simon',\n",
              "     'type': 'artist',\n",
              "     'uri': 'spotify:artist:2CvCyf1gEVhI0mX6aFXmVI'}],\n",
              "   'disc_number': 1,\n",
              "   'duration_ms': 213453,\n",
              "   'explicit': False,\n",
              "   'external_ids': {'isrc': 'USSM11002206'},\n",
              "   'external_urls': {'spotify': 'https://open.spotify.com/track/5F4ksIKmuXEtgBf6SfEQRr'},\n",
              "   'href': 'https://api.spotify.com/v1/tracks/5F4ksIKmuXEtgBf6SfEQRr',\n",
              "   'id': '5F4ksIKmuXEtgBf6SfEQRr',\n",
              "   'is_local': False,\n",
              "   'is_playable': True,\n",
              "   'name': 'Loves Me Like a Rock',\n",
              "   'popularity': 57,\n",
              "   'preview_url': 'https://p.scdn.co/mp3-preview/a0f62d5dfd8fe9327b2c94eee2112fd8f4940fd8?cid=080445e02011451ca11596ac7f40065b',\n",
              "   'track_number': 10,\n",
              "   'type': 'track',\n",
              "   'uri': 'spotify:track:5F4ksIKmuXEtgBf6SfEQRr'},\n",
              "  {'album': {'album_group': 'album',\n",
              "    'album_type': 'album',\n",
              "    'artists': [{'external_urls': {'spotify': 'https://open.spotify.com/artist/2CvCyf1gEVhI0mX6aFXmVI'},\n",
              "      'href': 'https://api.spotify.com/v1/artists/2CvCyf1gEVhI0mX6aFXmVI',\n",
              "      'id': '2CvCyf1gEVhI0mX6aFXmVI',\n",
              "      'name': 'Paul Simon',\n",
              "      'type': 'artist',\n",
              "      'uri': 'spotify:artist:2CvCyf1gEVhI0mX6aFXmVI'}],\n",
              "    'external_urls': {'spotify': 'https://open.spotify.com/album/7npBPiCHjPj8PVIGPuHXep'},\n",
              "    'href': 'https://api.spotify.com/v1/albums/7npBPiCHjPj8PVIGPuHXep',\n",
              "    'id': '7npBPiCHjPj8PVIGPuHXep',\n",
              "    'images': [{'height': 640,\n",
              "      'url': 'https://i.scdn.co/image/ab67616d0000b27337a40ab12a4fb96319a9d96f',\n",
              "      'width': 640},\n",
              "     {'height': 300,\n",
              "      'url': 'https://i.scdn.co/image/ab67616d00001e0237a40ab12a4fb96319a9d96f',\n",
              "      'width': 300},\n",
              "     {'height': 64,\n",
              "      'url': 'https://i.scdn.co/image/ab67616d0000485137a40ab12a4fb96319a9d96f',\n",
              "      'width': 64}],\n",
              "    'is_playable': True,\n",
              "    'name': 'Paul Simon',\n",
              "    'release_date': '1972-01-14',\n",
              "    'release_date_precision': 'day',\n",
              "    'total_tracks': 14,\n",
              "    'type': 'album',\n",
              "    'uri': 'spotify:album:7npBPiCHjPj8PVIGPuHXep'},\n",
              "   'artists': [{'external_urls': {'spotify': 'https://open.spotify.com/artist/2CvCyf1gEVhI0mX6aFXmVI'},\n",
              "     'href': 'https://api.spotify.com/v1/artists/2CvCyf1gEVhI0mX6aFXmVI',\n",
              "     'id': '2CvCyf1gEVhI0mX6aFXmVI',\n",
              "     'name': 'Paul Simon',\n",
              "     'type': 'artist',\n",
              "     'uri': 'spotify:artist:2CvCyf1gEVhI0mX6aFXmVI'}],\n",
              "   'disc_number': 1,\n",
              "   'duration_ms': 187400,\n",
              "   'explicit': False,\n",
              "   'external_ids': {'isrc': 'USSM11002231'},\n",
              "   'external_urls': {'spotify': 'https://open.spotify.com/track/5vZ1BKMSLgrxxPYGMR904n'},\n",
              "   'href': 'https://api.spotify.com/v1/tracks/5vZ1BKMSLgrxxPYGMR904n',\n",
              "   'id': '5vZ1BKMSLgrxxPYGMR904n',\n",
              "   'is_local': False,\n",
              "   'is_playable': True,\n",
              "   'name': 'Mother and Child Reunion',\n",
              "   'popularity': 56,\n",
              "   'preview_url': 'https://p.scdn.co/mp3-preview/79fdb700125716b4f9d38eb0848b2cff2c9054f1?cid=080445e02011451ca11596ac7f40065b',\n",
              "   'track_number': 1,\n",
              "   'type': 'track',\n",
              "   'uri': 'spotify:track:5vZ1BKMSLgrxxPYGMR904n'},\n",
              "  {'album': {'album_group': 'album',\n",
              "    'album_type': 'album',\n",
              "    'artists': [{'external_urls': {'spotify': 'https://open.spotify.com/artist/2CvCyf1gEVhI0mX6aFXmVI'},\n",
              "      'href': 'https://api.spotify.com/v1/artists/2CvCyf1gEVhI0mX6aFXmVI',\n",
              "      'id': '2CvCyf1gEVhI0mX6aFXmVI',\n",
              "      'name': 'Paul Simon',\n",
              "      'type': 'artist',\n",
              "      'uri': 'spotify:artist:2CvCyf1gEVhI0mX6aFXmVI'}],\n",
              "    'external_urls': {'spotify': 'https://open.spotify.com/album/4A366gjTrYQwmRtkTezF2W'},\n",
              "    'href': 'https://api.spotify.com/v1/albums/4A366gjTrYQwmRtkTezF2W',\n",
              "    'id': '4A366gjTrYQwmRtkTezF2W',\n",
              "    'images': [{'height': 640,\n",
              "      'url': 'https://i.scdn.co/image/ab67616d0000b2733879ef4375b97d2b58bf0768',\n",
              "      'width': 640},\n",
              "     {'height': 300,\n",
              "      'url': 'https://i.scdn.co/image/ab67616d00001e023879ef4375b97d2b58bf0768',\n",
              "      'width': 300},\n",
              "     {'height': 64,\n",
              "      'url': 'https://i.scdn.co/image/ab67616d000048513879ef4375b97d2b58bf0768',\n",
              "      'width': 64}],\n",
              "    'is_playable': True,\n",
              "    'name': 'Still Crazy After All These Years',\n",
              "    'release_date': '1975-10-25',\n",
              "    'release_date_precision': 'day',\n",
              "    'total_tracks': 12,\n",
              "    'type': 'album',\n",
              "    'uri': 'spotify:album:4A366gjTrYQwmRtkTezF2W'},\n",
              "   'artists': [{'external_urls': {'spotify': 'https://open.spotify.com/artist/2CvCyf1gEVhI0mX6aFXmVI'},\n",
              "     'href': 'https://api.spotify.com/v1/artists/2CvCyf1gEVhI0mX6aFXmVI',\n",
              "     'id': '2CvCyf1gEVhI0mX6aFXmVI',\n",
              "     'name': 'Paul Simon',\n",
              "     'type': 'artist',\n",
              "     'uri': 'spotify:artist:2CvCyf1gEVhI0mX6aFXmVI'}],\n",
              "   'disc_number': 1,\n",
              "   'duration_ms': 206533,\n",
              "   'explicit': False,\n",
              "   'external_ids': {'isrc': 'USSM11002301'},\n",
              "   'external_urls': {'spotify': 'https://open.spotify.com/track/3gIBSlXYIN1mru35l4LWPB'},\n",
              "   'href': 'https://api.spotify.com/v1/tracks/3gIBSlXYIN1mru35l4LWPB',\n",
              "   'id': '3gIBSlXYIN1mru35l4LWPB',\n",
              "   'is_local': False,\n",
              "   'is_playable': True,\n",
              "   'name': 'Still Crazy After All These Years',\n",
              "   'popularity': 56,\n",
              "   'preview_url': 'https://p.scdn.co/mp3-preview/7fbe5fef4e602c7d3bdb5a9840143cc216731401?cid=080445e02011451ca11596ac7f40065b',\n",
              "   'track_number': 1,\n",
              "   'type': 'track',\n",
              "   'uri': 'spotify:track:3gIBSlXYIN1mru35l4LWPB'}]}"
            ]
          },
          "metadata": {},
          "execution_count": 15
        }
      ],
      "source": [
        "simon_tracks\n",
        "\n",
        "# {'tracks': [{'album': {'album_type': 'album',\n",
        "#     'artists': [{'external_urls': {'spotify': 'https://open.spotify.com/artist/2CvCyf1gEVhI0mX6aFXmVI'},\n",
        "#       'href': 'https://api.spotify.com/v1/artists/2CvCyf1gEVhI0mX6aFXmVI',\n",
        "#       'id': '2CvCyf1gEVhI0mX6aFXmVI',\n",
        "#       'name': 'Paul Simon',\n",
        "#       'type': 'artist',\n",
        "#       'uri': 'spotify:artist:2CvCyf1gEVhI0mX6aFXmVI'}],"
      ]
    },
    {
      "cell_type": "markdown",
      "metadata": {
        "id": "XHphDtWOO3O3"
      },
      "source": [
        "Write a method called `extract_track_info` that takes in a single track from the response, and returns a smaller dictionary of specified keys.  We'll provide a default argument of `keys = ['name', 'id', 'popularity]`, but if provided a list of different keys, it should extract them. \n",
        "\n",
        "> Look up dictionary comprehension to see how to do this."
      ]
    },
    {
      "cell_type": "code",
      "execution_count": null,
      "metadata": {
        "id": "ihEsFvdBO3O3"
      },
      "outputs": [],
      "source": [
        "\n",
        "tracks = simon_tracks['tracks']\n",
        "\n",
        "first_track = tracks[0]\n",
        "first_track\n",
        "\n",
        "\n",
        "# dict_keys(['album', 'artists', 'disc_number', 'duration_ms',\n",
        "# 'explicit', 'external_ids', 'external_urls', 'href', 'id',\n",
        "# 'is_local', 'is_playable', 'name', 'popularity', \n",
        "# 'preview_url', 'track_number', 'type', 'uri'])"
      ]
    },
    {
      "cell_type": "code",
      "execution_count": null,
      "metadata": {
        "id": "PACzw0g5O3O4"
      },
      "outputs": [],
      "source": [
        "def extract_track_info(track_response, keys = ['name', 'id', 'popularity']):\n",
        "  \n",
        "  final_dict = { track:track_response[track] for track in track_response  if track in keys}\n",
        "  return final_dict\n"
      ]
    },
    {
      "cell_type": "code",
      "execution_count": null,
      "metadata": {
        "id": "TH3bz6tQO3O5",
        "colab": {
          "base_uri": "https://localhost:8080/"
        },
        "outputId": "58b6edf0-f43b-4561-e004-e300d7d319ab"
      },
      "outputs": [
        {
          "output_type": "execute_result",
          "data": {
            "text/plain": [
              "{'id': '0qxYx4F3vm1AOnfux6dDxP',\n",
              " 'name': 'You Can Call Me Al',\n",
              " 'popularity': 73}"
            ]
          },
          "metadata": {},
          "execution_count": 24
        }
      ],
      "source": [
        "extract_track_info(first_track)\n",
        "# {'id': '0qxYx4F3vm1AOnfux6dDxP',\n",
        "#  'name': 'You Can Call Me Al',\n",
        "#  'popularity': 73}"
      ]
    },
    {
      "cell_type": "code",
      "execution_count": null,
      "metadata": {
        "id": "H22KBSBZO3O5",
        "colab": {
          "base_uri": "https://localhost:8080/"
        },
        "outputId": "9bf922df-128e-420f-9124-4318f01851fc"
      },
      "outputs": [
        {
          "output_type": "execute_result",
          "data": {
            "text/plain": [
              "{'duration_ms': 280000, 'name': 'You Can Call Me Al', 'popularity': 73}"
            ]
          },
          "metadata": {},
          "execution_count": 25
        }
      ],
      "source": [
        "extract_track_info(first_track, keys = ['name', 'popularity', 'duration_ms'])\n",
        "# {'duration_ms': 280000, 'name': 'You Can Call Me Al', 'popularity': 74}"
      ]
    },
    {
      "cell_type": "markdown",
      "metadata": {
        "id": "zIyQfC9DO3O6"
      },
      "source": [
        "Now write a method called `extract_tracks_info` that takes in an argument of a list of tracks, and has a default argument of `keys = ['name', 'id', 'popularity']` and retrieves the corresponding data for a list of tracks. "
      ]
    },
    {
      "cell_type": "code",
      "source": [
        "def extract_tracks_info(tracks_response, keys = ['name', 'id', 'popularity']):\n",
        "  \n",
        "  final_List = [{ track:track_response[track] for track in track_response  if track in keys} for track_response in tracks_response]\n",
        "\n",
        "  return final_List\n"
      ],
      "metadata": {
        "id": "2F8Oy6KyUgNt"
      },
      "execution_count": null,
      "outputs": []
    },
    {
      "cell_type": "code",
      "execution_count": null,
      "metadata": {
        "id": "H7eX3cMxO3O6",
        "colab": {
          "base_uri": "https://localhost:8080/"
        },
        "outputId": "aaf04b99-ed11-43c8-8dcf-86175382208e"
      },
      "outputs": [
        {
          "output_type": "execute_result",
          "data": {
            "text/plain": [
              "[{'id': '0qxYx4F3vm1AOnfux6dDxP',\n",
              "  'name': 'You Can Call Me Al',\n",
              "  'popularity': 73},\n",
              " {'id': '6vxHp3CDNo0afgKGp2yi1E',\n",
              "  'name': 'Me and Julio Down by the Schoolyard',\n",
              "  'popularity': 70}]"
            ]
          },
          "metadata": {},
          "execution_count": 40
        }
      ],
      "source": [
        "top_songs_info = extract_tracks_info(simon_tracks['tracks'])\n",
        "\n",
        "top_songs_info[:2]\n",
        "# [{'id': '0qxYx4F3vm1AOnfux6dDxP',\n",
        "#   'name': 'You Can Call Me Al',\n",
        "#   'popularity': 73},\n",
        "#  {'id': '6vxHp3CDNo0afgKGp2yi1E',\n",
        "#   'name': 'Me and Julio Down by the Schoolyard',\n",
        "#   'popularity': 70}]"
      ]
    },
    {
      "cell_type": "markdown",
      "metadata": {
        "id": "oipYFmhqO3O7"
      },
      "source": [
        "## Song Analysis "
      ]
    },
    {
      "cell_type": "markdown",
      "metadata": {
        "id": "5D7pnWj1O3O7"
      },
      "source": [
        "Now write a function that takes in a `track_id` and returns the url to retrieve the features of a track."
      ]
    },
    {
      "cell_type": "code",
      "execution_count": null,
      "metadata": {
        "id": "hW02v7oAO3O8"
      },
      "outputs": [],
      "source": [
        "def audio_features(track_id):\n",
        "  return [album[\"href\"] for album in simon_tracks[\"tracks\"] if track_id == album[\"id\"]][0]\n"
      ]
    },
    {
      "cell_type": "code",
      "execution_count": null,
      "metadata": {
        "id": "YxVEJonRO3O8",
        "colab": {
          "base_uri": "https://localhost:8080/",
          "height": 35
        },
        "outputId": "f38b96f8-9228-433a-f904-417173d77f28"
      },
      "outputs": [
        {
          "output_type": "execute_result",
          "data": {
            "text/plain": [
              "'0qxYx4F3vm1AOnfux6dDxP'"
            ],
            "application/vnd.google.colaboratory.intrinsic+json": {
              "type": "string"
            }
          },
          "metadata": {},
          "execution_count": 48
        }
      ],
      "source": [
        "top_song_id = top_songs_info[0]['id']\n",
        "audio_url = audio_features(top_song_id)\n",
        "top_song_id\n",
        "\n"
      ]
    },
    {
      "cell_type": "markdown",
      "metadata": {
        "id": "7VJRWN6gO3O8"
      },
      "source": [
        "Now use this url to retrieve the characteristics of this song."
      ]
    },
    {
      "cell_type": "code",
      "execution_count": null,
      "metadata": {
        "id": "V6vIcLdCO3O9"
      },
      "outputs": [],
      "source": [
        "audio_data = make_request(token, f'https://api.spotify.com/v1/audio-features/{top_song_id}')"
      ]
    },
    {
      "cell_type": "code",
      "execution_count": null,
      "metadata": {
        "id": "k7LzVCZ5O3O9",
        "colab": {
          "base_uri": "https://localhost:8080/"
        },
        "outputId": "1bd3b174-151b-4c79-c8d6-a0bb66a2bb75"
      },
      "outputs": [
        {
          "output_type": "execute_result",
          "data": {
            "text/plain": [
              "{'danceability': 0.776,\n",
              " 'energy': 0.763,\n",
              " 'key': 5,\n",
              " 'loudness': -8.124,\n",
              " 'mode': 1,\n",
              " 'speechiness': 0.0534,\n",
              " 'acousticness': 0.182,\n",
              " 'instrumentalness': 0.00647,\n",
              " 'liveness': 0.077,\n",
              " 'valence': 0.82,\n",
              " 'tempo': 128.433,\n",
              " 'type': 'audio_features',\n",
              " 'id': '0qxYx4F3vm1AOnfux6dDxP',\n",
              " 'uri': 'spotify:track:0qxYx4F3vm1AOnfux6dDxP',\n",
              " 'track_href': 'https://api.spotify.com/v1/tracks/0qxYx4F3vm1AOnfux6dDxP',\n",
              " 'analysis_url': 'https://api.spotify.com/v1/audio-analysis/0qxYx4F3vm1AOnfux6dDxP',\n",
              " 'duration_ms': 280000,\n",
              " 'time_signature': 4}"
            ]
          },
          "metadata": {},
          "execution_count": 44
        }
      ],
      "source": [
        "audio_data\n",
        "# {'danceability': 0.776,\n",
        "#  'energy': 0.763,\n",
        "#  'key': 5,\n",
        "#  'loudness': -8.124,\n",
        "#  'mode': 1,\n",
        "#  'speechiness': 0.0535,\n",
        "#  'acousticness': 0.182,\n",
        "#  'instrumentalness': 0.0065,\n",
        "#  'liveness': 0.077,\n",
        "#  'valence': 0.82,\n",
        "#  'tempo': 128.433,\n",
        "#  'type': 'audio_features',\n",
        "#  'id': '0qxYx4F3vm1AOnfux6dDxP',\n",
        "#  'uri': 'spotify:track:0qxYx4F3vm1AOnfux6dDxP',\n",
        "#  'track_href': 'https://api.spotify.com/v1/tracks/0qxYx4F3vm1AOnfux6dDxP',\n",
        "#  'analysis_url': 'https://api.spotify.com/v1/audio-analysis/0qxYx4F3vm1AOnfux6dDxP',\n",
        "#  'duration_ms': 280000,\n",
        "#  'time_signature': 4}"
      ]
    },
    {
      "cell_type": "markdown",
      "metadata": {
        "id": "_JQ_em_8O3O-"
      },
      "source": [
        "Next write a function called `extract_audio_data` that takes in a track features response, and only returns the following selected attributes by default:\n",
        "\n",
        "`['danceability', 'energy', 'loudness', 'speechiness', 'acousticness', 'instrumentalness', 'liveness', 'valence']`\n",
        "\n",
        "But can also return a list of other attributes if provided."
      ]
    },
    {
      "cell_type": "code",
      "execution_count": null,
      "metadata": {
        "id": "ldA8sv4qO3O-"
      },
      "outputs": [],
      "source": [
        "def extract_audio_data(audio_data, selected_attrs=['danceability', 'energy', 'loudness', 'speechiness', 'acousticness', 'instrumentalness', 'liveness', 'valence']):\n",
        "\n",
        "  return {attr: audio_data[attr] for attr in selected_attrs}\n"
      ]
    },
    {
      "cell_type": "code",
      "execution_count": 69,
      "metadata": {
        "id": "203qpM0eO3O_",
        "colab": {
          "base_uri": "https://localhost:8080/"
        },
        "outputId": "2a25b36b-7249-4f73-be61-8c8b43e3ef30"
      },
      "outputs": [
        {
          "output_type": "execute_result",
          "data": {
            "text/plain": [
              "{'danceability': 0.776,\n",
              " 'energy': 0.763,\n",
              " 'loudness': -8.124,\n",
              " 'speechiness': 0.0534,\n",
              " 'acousticness': 0.182,\n",
              " 'instrumentalness': 0.00647,\n",
              " 'liveness': 0.077,\n",
              " 'valence': 0.82}"
            ]
          },
          "metadata": {},
          "execution_count": 69
        }
      ],
      "source": [
        "extract_audio_data(audio_data)\n",
        "# {'danceability': 0.776,\n",
        "#  'energy': 0.763,\n",
        "#  'loudness': -8.124,\n",
        "#  'speechiness': 0.0535,\n",
        "#  'acousticness': 0.182,\n",
        "#  'instrumentalness': 0.0065,\n",
        "#  'liveness': 0.077,\n",
        "#  'valence': 0.82}"
      ]
    },
    {
      "cell_type": "code",
      "execution_count": null,
      "metadata": {
        "id": "NtulijaEO3O_",
        "colab": {
          "base_uri": "https://localhost:8080/"
        },
        "outputId": "2620d24d-8233-4602-daee-07b721ed47f2"
      },
      "outputs": [
        {
          "output_type": "execute_result",
          "data": {
            "text/plain": [
              "{'danceability': 0.776,\n",
              " 'energy': 0.763,\n",
              " 'loudness': -8.124,\n",
              " 'instrumentalness': 0.00647}"
            ]
          },
          "metadata": {},
          "execution_count": 54
        }
      ],
      "source": [
        "alt_attrs = ['danceability', 'energy', 'loudness', 'instrumentalness']\n",
        "extract_audio_data(audio_data, selected_attrs = alt_attrs)\n",
        "# {'danceability': 0.776,\n",
        "#  'energy': 0.763,\n",
        "#  'loudness': -8.124,\n",
        "#  'instrumentalness': 0.0065}"
      ]
    },
    {
      "cell_type": "markdown",
      "metadata": {
        "id": "HaE5Rzh9O3PA"
      },
      "source": [
        "Now let's work on constructing a request to retreive the song features for a list of songs.  First, let's get a list of the song ids for our top songs."
      ]
    },
    {
      "cell_type": "code",
      "execution_count": null,
      "metadata": {
        "id": "339uh049O3PA",
        "colab": {
          "base_uri": "https://localhost:8080/"
        },
        "outputId": "ff53ffc1-01b8-4f41-8da9-83375c8c703a"
      },
      "outputs": [
        {
          "output_type": "stream",
          "name": "stdout",
          "text": [
            "['0qxYx4F3vm1AOnfux6dDxP', '6vxHp3CDNo0afgKGp2yi1E', '6Qb7gtV6Q4MnUjSbkFcopl', '3f0U5NaD1bCk8nmKpn2ZJY', '51KKQAgYFoJHgVIuJWHdHb', '71GvlH0VdeClloLIkHrAVu', '2h23bjG8B3bcD47HBu6bHG', '5F4ksIKmuXEtgBf6SfEQRr', '5vZ1BKMSLgrxxPYGMR904n', '3gIBSlXYIN1mru35l4LWPB']\n"
          ]
        }
      ],
      "source": [
        "top_song_ids = [top_song['id'] for top_song in top_songs_info]\n",
        "# ['0qxYx4F3vm1AOnfux6dDxP',\n",
        "#  '6vxHp3CDNo0afgKGp2yi1E',\n",
        "#  '6Qb7gtV6Q4MnUjSbkFcopl',\n",
        "#  '51KKQAgYFoJHgVIuJWHdHb',\n",
        "#  '71GvlH0VdeClloLIkHrAVu',\n",
        "#  '3f0U5NaD1bCk8nmKpn2ZJY',\n",
        "#  '3gIBSlXYIN1mru35l4LWPB',\n",
        "#  '2h23bjG8B3bcD47HBu6bHG',\n",
        "#  '0zb2kpEQMnqJPiLACKMiFM',\n",
        "#  '00IrSynHsun7DpDrLkRIjM']\n",
        "print(top_song_ids )"
      ]
    },
    {
      "cell_type": "markdown",
      "metadata": {
        "id": "SKhQjtfFO3PA"
      },
      "source": [
        "From there let's write a function that takes in a list of track ids and constructs the url to retreive each of the provided songs' features -- we can see how to do that [here](https://developer.spotify.com/documentation/web-api/reference/tracks/get-several-audio-features/)."
      ]
    },
    {
      "cell_type": "code",
      "execution_count": null,
      "metadata": {
        "id": "kUgICms2O3PB"
      },
      "outputs": [],
      "source": [
        "import requests\n",
        "import json\n",
        "\n",
        "def audio_data_url(track_ids):\n",
        "  list_Attributes = []\n",
        "  for track_id in track_ids:\n",
        "    \n",
        "    url = f'https://api.spotify.com/v1/audio-features/{track_id}'\n",
        "    list_Attributes.append(url)\n",
        "\n",
        "  return list_Attributes"
      ]
    },
    {
      "cell_type": "code",
      "execution_count": 65,
      "metadata": {
        "id": "HejR5Hn8O3PB",
        "colab": {
          "base_uri": "https://localhost:8080/"
        },
        "outputId": "c609d62b-25c0-4ca8-8b37-87535baeca39"
      },
      "outputs": [
        {
          "output_type": "execute_result",
          "data": {
            "text/plain": [
              "['https://api.spotify.com/v1/audio-features/0qxYx4F3vm1AOnfux6dDxP',\n",
              " 'https://api.spotify.com/v1/audio-features/6vxHp3CDNo0afgKGp2yi1E',\n",
              " 'https://api.spotify.com/v1/audio-features/6Qb7gtV6Q4MnUjSbkFcopl',\n",
              " 'https://api.spotify.com/v1/audio-features/3f0U5NaD1bCk8nmKpn2ZJY',\n",
              " 'https://api.spotify.com/v1/audio-features/51KKQAgYFoJHgVIuJWHdHb',\n",
              " 'https://api.spotify.com/v1/audio-features/71GvlH0VdeClloLIkHrAVu',\n",
              " 'https://api.spotify.com/v1/audio-features/2h23bjG8B3bcD47HBu6bHG',\n",
              " 'https://api.spotify.com/v1/audio-features/5F4ksIKmuXEtgBf6SfEQRr',\n",
              " 'https://api.spotify.com/v1/audio-features/5vZ1BKMSLgrxxPYGMR904n',\n",
              " 'https://api.spotify.com/v1/audio-features/3gIBSlXYIN1mru35l4LWPB']"
            ]
          },
          "metadata": {},
          "execution_count": 65
        }
      ],
      "source": [
        "songs_url = audio_data_url(top_song_ids)\n",
        "songs_url\n",
        "\n",
        "# 'https://api.spotify.com/v1/audio-features/?ids=\n",
        "# 0qxYx4F3vm1AOnfux6dDxP,6vxHp3CDNo0afgKGp2yi1E,\n",
        "# 6Qb7gtV6Q4MnUjSbkFcopl,51KKQAgYFoJHgVIuJWHdHb,71GvlH0VdeClloLIkHrAVu,\n",
        "# 3f0U5NaD1bCk8nmKpn2ZJY,3gIBSlXYIN1mru35l4LWPB,2h23bjG8B3bcD47HBu6bHG,\n",
        "# 0zb2kpEQMnqJPiLACKMiFM,00IrSynHsun7DpDrLkRIjM'"
      ]
    },
    {
      "cell_type": "code",
      "source": [
        "songs_features = [ make_request(token, song) for song in songs_url ]\n",
        "\n",
        "# songs_features\n",
        "\n",
        "# [{'danceability': 0.776,\n",
        "#   'energy': 0.763,\n",
        "#   'key': 5,\n",
        "#   'loudness': -8.124,\n",
        "#   'mode': 1,\n",
        "#   'speechiness': 0.0535,\n",
        "#   'acousticness': 0.182,\n",
        "#   'instrumentalness': 0.0065,\n",
        "#   'liveness': 0.077,\n",
        "#   'valence': 0.82,\n",
        "#   'tempo': 128.433,\n",
        "#   'type': 'audio_features',\n",
        "#   'id': '0qxYx4F3vm1AOnfux6dDxP',\n",
        "#   'uri': 'spotify:track:0qxYx4F3vm1AOnfux6dDxP',\n",
        "#   'track_href': 'https://api.spotify.com/v1/tracks/0qxYx4F3vm1AOnfux6dDxP',\n",
        "#   'analysis_url': 'https://api.spotify.com/v1/audio-analysis/0qxYx4F3vm1AOnfux6dDxP',\n",
        "#   'duration_ms': 280000,\n",
        "#   'time_signature': 4},\n",
        "#  {'danceability': 0.626,\n",
        "#   'energy': 0.816,\n",
        "#   'key': 9,\n",
        "#   'loudness': -10.593,\n",
        "#   'mode': 1,"
      ],
      "metadata": {
        "id": "QWW6pNGiYO0N"
      },
      "execution_count": 68,
      "outputs": []
    },
    {
      "cell_type": "markdown",
      "metadata": {
        "id": "XWouhHA0O3PC"
      },
      "source": [
        "From there, let's request the song information."
      ]
    },
    {
      "cell_type": "markdown",
      "metadata": {
        "id": "gAcHHaBoO3PD"
      },
      "source": [
        "From there, we can use our extract_audio_data function to limit the keys of limit the data for each song."
      ]
    },
    {
      "cell_type": "code",
      "execution_count": 70,
      "metadata": {
        "id": "7GAQrVrKO3PE",
        "colab": {
          "base_uri": "https://localhost:8080/"
        },
        "outputId": "db4f86d5-6a18-480e-f58e-b6fb2285efa7"
      },
      "outputs": [
        {
          "output_type": "execute_result",
          "data": {
            "text/plain": [
              "[{'danceability': 0.776,\n",
              "  'energy': 0.763,\n",
              "  'loudness': -8.124,\n",
              "  'speechiness': 0.0534,\n",
              "  'acousticness': 0.182,\n",
              "  'instrumentalness': 0.00647,\n",
              "  'liveness': 0.077,\n",
              "  'valence': 0.82},\n",
              " {'danceability': 0.626,\n",
              "  'energy': 0.816,\n",
              "  'loudness': -10.593,\n",
              "  'speechiness': 0.131,\n",
              "  'acousticness': 0.237,\n",
              "  'instrumentalness': 1.8e-06,\n",
              "  'liveness': 0.104,\n",
              "  'valence': 0.798},\n",
              " {'danceability': 0.815,\n",
              "  'energy': 0.372,\n",
              "  'loudness': -12.814,\n",
              "  'speechiness': 0.0752,\n",
              "  'acousticness': 0.166,\n",
              "  'instrumentalness': 0.000116,\n",
              "  'liveness': 0.0767,\n",
              "  'valence': 0.293},\n",
              " {'danceability': 0.592,\n",
              "  'energy': 0.705,\n",
              "  'loudness': -10.276,\n",
              "  'speechiness': 0.0287,\n",
              "  'acousticness': 0.0291,\n",
              "  'instrumentalness': 1.97e-05,\n",
              "  'liveness': 0.0456,\n",
              "  'valence': 0.902},\n",
              " {'danceability': 0.732,\n",
              "  'energy': 0.705,\n",
              "  'loudness': -9.271,\n",
              "  'speechiness': 0.0349,\n",
              "  'acousticness': 0.626,\n",
              "  'instrumentalness': 0.00068,\n",
              "  'liveness': 0.0813,\n",
              "  'valence': 0.848},\n",
              " {'danceability': 0.791,\n",
              "  'energy': 0.677,\n",
              "  'loudness': -9.724,\n",
              "  'speechiness': 0.0356,\n",
              "  'acousticness': 0.776,\n",
              "  'instrumentalness': 0.00121,\n",
              "  'liveness': 0.224,\n",
              "  'valence': 0.876},\n",
              " {'danceability': 0.72,\n",
              "  'energy': 0.88,\n",
              "  'loudness': -8.988,\n",
              "  'speechiness': 0.0406,\n",
              "  'acousticness': 0.199,\n",
              "  'instrumentalness': 0.0246,\n",
              "  'liveness': 0.0865,\n",
              "  'valence': 0.961},\n",
              " {'danceability': 0.649,\n",
              "  'energy': 0.584,\n",
              "  'loudness': -10.518,\n",
              "  'speechiness': 0.0674,\n",
              "  'acousticness': 0.256,\n",
              "  'instrumentalness': 0,\n",
              "  'liveness': 0.199,\n",
              "  'valence': 0.75},\n",
              " {'danceability': 0.712,\n",
              "  'energy': 0.632,\n",
              "  'loudness': -7.704,\n",
              "  'speechiness': 0.0334,\n",
              "  'acousticness': 0.112,\n",
              "  'instrumentalness': 0,\n",
              "  'liveness': 0.0648,\n",
              "  'valence': 0.764},\n",
              " {'danceability': 0.267,\n",
              "  'energy': 0.252,\n",
              "  'loudness': -11.687,\n",
              "  'speechiness': 0.0351,\n",
              "  'acousticness': 0.8,\n",
              "  'instrumentalness': 4.43e-05,\n",
              "  'liveness': 0.089,\n",
              "  'valence': 0.13}]"
            ]
          },
          "metadata": {},
          "execution_count": 70
        }
      ],
      "source": [
        "[extract_audio_data(audio_data) for audio_data in songs_features]"
      ]
    },
    {
      "cell_type": "markdown",
      "metadata": {
        "id": "2Jx4sF9kO3PF"
      },
      "source": [
        "### Resources"
      ]
    },
    {
      "cell_type": "markdown",
      "metadata": {
        "id": "98OEs-UbO3PF"
      },
      "source": [
        "[StackOverflow Post](https://stackoverflow.com/questions/30557409/spotify-api-post-call-response-415)"
      ]
    },
    {
      "cell_type": "markdown",
      "metadata": {
        "id": "yD3eHA7UO3PF"
      },
      "source": [
        "[Spotify Tutorial Python](https://kholinlabs.com/how-oauth-works-with-spotify-as-an-example)"
      ]
    }
  ],
  "metadata": {
    "kernelspec": {
      "display_name": "Python 3 (ipykernel)",
      "language": "python",
      "name": "python3"
    },
    "language_info": {
      "codemirror_mode": {
        "name": "ipython",
        "version": 3
      },
      "file_extension": ".py",
      "mimetype": "text/x-python",
      "name": "python",
      "nbconvert_exporter": "python",
      "pygments_lexer": "ipython3",
      "version": "3.10.6"
    },
    "colab": {
      "provenance": []
    }
  },
  "nbformat": 4,
  "nbformat_minor": 0
}