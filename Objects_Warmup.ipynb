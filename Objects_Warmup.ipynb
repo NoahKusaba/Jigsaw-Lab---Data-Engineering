{
  "cells": [
    {
      "cell_type": "markdown",
      "metadata": {
        "id": "9DGi42MI553p"
      },
      "source": [
        "# Objects Warmup"
      ]
    },
    {
      "cell_type": "markdown",
      "metadata": {
        "id": "MPioLUxg553r"
      },
      "source": [
        "### Selecting From an API"
      ]
    },
    {
      "cell_type": "markdown",
      "metadata": {
        "id": "wLALWtBT553r"
      },
      "source": [
        "Let's start with our movies imdb dataset."
      ]
    },
    {
      "cell_type": "code",
      "execution_count": 17,
      "metadata": {
        "id": "7Bsh1b9B553s"
      },
      "outputs": [],
      "source": [
        "import pandas as pd\n",
        "url = \"https://raw.githubusercontent.com/python-fundamentals-jigsaw/mod-1-a-data-structures/master/3-coercing-filtering-data/imdb_movies.csv\"\n",
        "movies_df = pd.read_csv(url)\n",
        "movies = movies_df.to_dict('records')\n"
      ]
    },
    {
      "cell_type": "markdown",
      "metadata": {
        "id": "2AylMSPx553t"
      },
      "source": [
        "1. Begin by looping through the movies and adding a list of `movie_titles`, where each element is a different movie title."
      ]
    },
    {
      "cell_type": "code",
      "source": [
        "print(movies[0].keys())"
      ],
      "metadata": {
        "colab": {
          "base_uri": "https://localhost:8080/"
        },
        "id": "bBlPRssS7s7c",
        "outputId": "30b7c46e-35b8-4924-d616-62cfb6e84814"
      },
      "execution_count": 15,
      "outputs": [
        {
          "output_type": "stream",
          "name": "stdout",
          "text": [
            "dict_keys(['title', 'genre', 'budget', 'runtime', 'year', 'month', 'revenue'])\n"
          ]
        }
      ]
    },
    {
      "cell_type": "code",
      "execution_count": 16,
      "metadata": {
        "id": "OOa0rVPb553t",
        "colab": {
          "base_uri": "https://localhost:8080/"
        },
        "outputId": "6e424aec-7e55-4e5e-dc7b-0bbaf8fbe2f1"
      },
      "outputs": [
        {
          "output_type": "execute_result",
          "data": {
            "text/plain": [
              "['Brüno', 'Love in the Time of Cholera', 'The Best of Me']"
            ]
          },
          "metadata": {},
          "execution_count": 16
        }
      ],
      "source": [
        "titles = list(set([movie[\"title\"] for movie in movies]))\n",
        "titles[:3]\n",
        "# titles[:3]\n",
        "# ['Avatar', \"Pirates of the Caribbean: At World's End\", 'Spectre']"
      ]
    },
    {
      "cell_type": "markdown",
      "metadata": {
        "id": "9nbhJm6e553t"
      },
      "source": [
        "2. Now let's select a single movie"
      ]
    },
    {
      "cell_type": "code",
      "execution_count": null,
      "metadata": {
        "id": "TsR93SNc553t"
      },
      "outputs": [],
      "source": [
        "first_movie = movies[0]"
      ]
    },
    {
      "cell_type": "code",
      "execution_count": null,
      "metadata": {
        "id": "EQzcD3M4553u",
        "outputId": "beb78d46-af9f-453c-b762-7e40990f4fed",
        "colab": {
          "base_uri": "https://localhost:8080/"
        }
      },
      "outputs": [
        {
          "output_type": "execute_result",
          "data": {
            "text/plain": [
              "{'title': 'Avatar',\n",
              " 'genre': 'Action',\n",
              " 'budget': 237000000,\n",
              " 'runtime': 162.0,\n",
              " 'year': 2009,\n",
              " 'month': 12,\n",
              " 'revenue': 2787965087}"
            ]
          },
          "metadata": {},
          "execution_count": 6
        }
      ],
      "source": [
        "first_movie"
      ]
    },
    {
      "cell_type": "markdown",
      "metadata": {
        "id": "UMq2UZ4i553u"
      },
      "source": [
        "Now call `items` to coerce this dictionary into a list of key value tuples."
      ]
    },
    {
      "cell_type": "code",
      "execution_count": 25,
      "metadata": {
        "id": "OiccRyYq553v",
        "colab": {
          "base_uri": "https://localhost:8080/"
        },
        "outputId": "3aed4c99-aab2-44f0-bd01-d526b4f040fa"
      },
      "outputs": [
        {
          "output_type": "execute_result",
          "data": {
            "text/plain": [
              "{('budget', 237000000),\n",
              " ('genre', 'Action'),\n",
              " ('month', 12),\n",
              " ('revenue', 2787965087),\n",
              " ('runtime', 162.0),\n",
              " ('title', 'Avatar'),\n",
              " ('year', 2009)}"
            ]
          },
          "metadata": {},
          "execution_count": 25
        }
      ],
      "source": [
        "\n",
        "first_movie_items = first_movie.items()\n",
        "attributes = { x for x in first_movie_items}\n",
        "attributes\n",
        "# dict_items([('title', 'Avatar'), ('genre', 'Action'),\n",
        "# ('budget', 237000000), ('runtime', 162.0), ('year', 2009), \n",
        "# ('month', 12), ('revenue', 2787965087)])"
      ]
    },
    {
      "cell_type": "markdown",
      "metadata": {
        "id": "OAMVI6Ev553v"
      },
      "source": [
        "Use dictionary comprehension to select only those attributes listed in `selected_attrs`."
      ]
    },
    {
      "cell_type": "markdown",
      "metadata": {
        "id": "eLlW5PjC553v"
      },
      "source": [
        "3. Then narrow down the list of attributes to just the `selected_attrs` for all movies. "
      ]
    },
    {
      "cell_type": "code",
      "source": [
        "selected_attrs = ['title', 'budget', 'revenue']\n",
        "attributes = { x for x in first_movie_items if x[0] in selected_attrs}\n",
        "attributes"
      ],
      "metadata": {
        "colab": {
          "base_uri": "https://localhost:8080/"
        },
        "id": "syYNhaHmudYU",
        "outputId": "093c5810-5de5-4514-f328-23a2c01248c8"
      },
      "execution_count": 24,
      "outputs": [
        {
          "output_type": "execute_result",
          "data": {
            "text/plain": [
              "{('budget', 237000000), ('revenue', 2787965087), ('title', 'Avatar')}"
            ]
          },
          "metadata": {},
          "execution_count": 24
        }
      ]
    },
    {
      "cell_type": "markdown",
      "metadata": {
        "id": "TnHTrghQ553v"
      },
      "source": [
        "4. Next, create class called `Movie` that upon initialization takes the arguments of `title`, `budget` and revenue."
      ]
    },
    {
      "cell_type": "code",
      "execution_count": null,
      "metadata": {
        "id": "wJtr0efL553w"
      },
      "outputs": [],
      "source": [
        "class Movie:\n",
        "  def __init__(self,title,budget,revenue):\n",
        "    self.title = title\n",
        "    self.budget = budget\n",
        "    self.revenue = revenue"
      ]
    },
    {
      "cell_type": "markdown",
      "metadata": {
        "id": "Bgw02wrj553w"
      },
      "source": [
        "5. Finally, use `kwargs` to create a list of movies."
      ]
    },
    {
      "cell_type": "code",
      "source": [
        "movies[0]"
      ],
      "metadata": {
        "colab": {
          "base_uri": "https://localhost:8080/"
        },
        "id": "NTTsrg9Gvd3i",
        "outputId": "a0479b78-78da-45cf-c9ff-aaba1bbba334"
      },
      "execution_count": null,
      "outputs": [
        {
          "output_type": "execute_result",
          "data": {
            "text/plain": [
              "{'title': 'Avatar',\n",
              " 'genre': 'Action',\n",
              " 'budget': 237000000,\n",
              " 'runtime': 162.0,\n",
              " 'year': 2009,\n",
              " 'month': 12,\n",
              " 'revenue': 2787965087}"
            ]
          },
          "metadata": {},
          "execution_count": 11
        }
      ]
    },
    {
      "cell_type": "code",
      "execution_count": 29,
      "metadata": {
        "id": "YfnQBSHp553w"
      },
      "outputs": [],
      "source": [
        "class Movies:\n",
        "  def __init__(self,**kwargs):\n",
        "    self.title = kwargs[\"title\"]\n",
        "    self.budget = kwargs[\"budget\"]\n",
        "    self.revenue = kwargs[\"revenue\"]\n"
      ]
    },
    {
      "cell_type": "code",
      "source": [
        "new_movies = Movies(title = \"stuff\",budget =100, revenue = 200)\n",
        "new_movies.title"
      ],
      "metadata": {
        "colab": {
          "base_uri": "https://localhost:8080/",
          "height": 35
        },
        "id": "1TFbc6l-tn8Y",
        "outputId": "d11c4ec1-fa0d-480e-e54e-409833313359"
      },
      "execution_count": 30,
      "outputs": [
        {
          "output_type": "execute_result",
          "data": {
            "text/plain": [
              "'stuff'"
            ],
            "application/vnd.google.colaboratory.intrinsic+json": {
              "type": "string"
            }
          },
          "metadata": {},
          "execution_count": 30
        }
      ]
    }
  ],
  "metadata": {
    "kernelspec": {
      "display_name": "Python 3",
      "language": "python",
      "name": "python3"
    },
    "language_info": {
      "codemirror_mode": {
        "name": "ipython",
        "version": 3
      },
      "file_extension": ".py",
      "mimetype": "text/x-python",
      "name": "python",
      "nbconvert_exporter": "python",
      "pygments_lexer": "ipython3",
      "version": "3.8.3"
    },
    "colab": {
      "provenance": []
    }
  },
  "nbformat": 4,
  "nbformat_minor": 0
}