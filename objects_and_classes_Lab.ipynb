{
  "cells": [
    {
      "cell_type": "markdown",
      "metadata": {
        "id": "11F1YJMfFblj"
      },
      "source": [
        "# Objects Discussion Questions"
      ]
    },
    {
      "cell_type": "markdown",
      "metadata": {
        "id": "ThWaLb8kFbl4"
      },
      "source": [
        "### Introduction"
      ]
    },
    {
      "cell_type": "markdown",
      "metadata": {
        "id": "vSuRzc52Fbl8"
      },
      "source": [
        "Previously, we learned about object oriented programming.  Let's do some brief review in this lesson."
      ]
    },
    {
      "cell_type": "markdown",
      "metadata": {
        "id": "pT_4HicQFbl-"
      },
      "source": [
        "### 1. Creating Objects"
      ]
    },
    {
      "cell_type": "markdown",
      "metadata": {
        "id": "MH2qcj6JFbmB"
      },
      "source": [
        "1. Below, create a class called `Plane`, and initialize two different plane instances."
      ]
    },
    {
      "cell_type": "code",
      "execution_count": 16,
      "metadata": {
        "id": "TK1AW_0FFbmE"
      },
      "outputs": [],
      "source": [
        "# create the plane class here\n",
        "import datetime\n",
        "class Plane:\n",
        "  def __init__(self):\n",
        "    pass\n",
        "\n",
        "  \n"
      ]
    },
    {
      "cell_type": "code",
      "execution_count": 17,
      "metadata": {
        "id": "_ksyfXfbFbmN"
      },
      "outputs": [],
      "source": [
        "boeing = Plane()"
      ]
    },
    {
      "cell_type": "code",
      "execution_count": 18,
      "metadata": {
        "id": "u6gzuqFoFbmQ"
      },
      "outputs": [],
      "source": [
        "twa = Plane()"
      ]
    },
    {
      "cell_type": "markdown",
      "metadata": {
        "id": "kDqycTVdFbmT"
      },
      "source": [
        "Next add a couple of attributes to the boeing plane."
      ]
    },
    {
      "cell_type": "markdown",
      "metadata": {
        "id": "wkRMhKT6FbmX"
      },
      "source": [
        "Give the Boeing instance the following attributes:\n",
        "* Assign the `seats_per_row` to be `10` \n",
        "* And assign be and `number_of_rows` to be 30."
      ]
    },
    {
      "cell_type": "markdown",
      "metadata": {
        "id": "DyMEYcHiFbma"
      },
      "source": [
        "Give the `twa` instance the following attributes:\n",
        "* Assign the `seats_per_row` to be `6` \n",
        "* And assign be and `number_of_rows` to be `25`."
      ]
    },
    {
      "cell_type": "code",
      "source": [
        "boeing.seats_per_row = 10 \n",
        "boeing.number_of_rows = 30\n",
        "twa.seats_per_row = 6\n",
        "twa.number_of_rows = 25"
      ],
      "metadata": {
        "id": "QCRltaYilxNd"
      },
      "execution_count": 19,
      "outputs": []
    },
    {
      "cell_type": "markdown",
      "metadata": {
        "id": "-gHaRUydFbmc"
      },
      "source": [
        "### 2. Enforcing Attributes"
      ]
    },
    {
      "cell_type": "markdown",
      "metadata": {
        "id": "vh99uccGFbme"
      },
      "source": [
        "A. Next update the `Plane` class so that a plane cannot be created unless the `seat_per_row` is assigned.  \n",
        "\n",
        "B. The class also allows for the `number_of_rows` to be assigned upon initialization, but if not assigned, the instance assigns the default number of 20 seats to the plane.\n",
        "\n",
        "C. Finally an instance of the class must also be initialized with a `year` attribute to represent the year it was built."
      ]
    },
    {
      "cell_type": "code",
      "source": [
        "import datetime\n",
        "class Plane:\n",
        "  def __init__(self, year, seats_per_row, number_of_rows=20):\n",
        "    self.seat_per_row= seats_per_row\n",
        "    self.number_of_rows = number_of_rows\n",
        "    self.year = year"
      ],
      "metadata": {
        "id": "8L1eCsU4l1lo"
      },
      "execution_count": 20,
      "outputs": []
    },
    {
      "cell_type": "code",
      "execution_count": 21,
      "metadata": {
        "id": "XWj-G9T-Fbmf",
        "outputId": "a2454179-3d9f-4d39-ddcb-7ab7798ccc2e",
        "colab": {
          "base_uri": "https://localhost:8080/"
        }
      },
      "outputs": [
        {
          "output_type": "execute_result",
          "data": {
            "text/plain": [
              "{'seat_per_row': 10, 'number_of_rows': 20, 'year': 2020}"
            ]
          },
          "metadata": {},
          "execution_count": 21
        }
      ],
      "source": [
        "boeing_2020 = Plane(year = 2020, seats_per_row = 10)\n",
        "boeing_2020.__dict__\n",
        "# {'seats_per_row': 10, 'number_of_rows': 20, 'year': 2020}"
      ]
    },
    {
      "cell_type": "code",
      "execution_count": 22,
      "metadata": {
        "id": "9AoTOQgnFbmk",
        "outputId": "d43d9b2d-6714-45bc-bf41-4c7fb3b8d35f",
        "colab": {
          "base_uri": "https://localhost:8080/"
        }
      },
      "outputs": [
        {
          "output_type": "execute_result",
          "data": {
            "text/plain": [
              "{'seat_per_row': 17, 'number_of_rows': 10, 'year': 2017}"
            ]
          },
          "metadata": {},
          "execution_count": 22
        }
      ],
      "source": [
        "twa = Plane(year = 2017, seats_per_row = 17, number_of_rows = 10)\n",
        "\n",
        "twa.__dict__\n",
        "# {'seats_per_row': 17, 'number_of_rows': 10, 'year': 2017}"
      ]
    },
    {
      "cell_type": "markdown",
      "metadata": {
        "id": "knG3GwgDFbmm"
      },
      "source": [
        "### 3. Adding Methods\n",
        "\n",
        "Now let's add a couple of methods to the `Plane` class.  \n",
        "\n",
        "* `total_seats`\n",
        "    * Write a method that uses the `number_of_rows` and `seats_per_row` to calculate the total number of seats in the plane.\n",
        "\n",
        "* `age`\n",
        "    * Write a method that uses the `year` attribute to return the number of years old that the plane is.\n",
        "    * Try to use the `datetime` module so that the calculation will continue to be accurate in future years"
      ]
    },
    {
      "cell_type": "code",
      "source": [
        "import datetime\n",
        "class Plane:\n",
        "  def __init__(self, year, seats_per_row, number_of_rows = 20):\n",
        "    self.seats_per_row= seats_per_row\n",
        "    self.number_of_rows = number_of_rows\n",
        "    self.year = year\n",
        "\n",
        "  def total_seats(self):\n",
        "    return self.seats_per_row * self.number_of_rows\n",
        "\n",
        "  def age(self):\n",
        "    time = datetime.datetime.now()  - datetime.datetime(self.year,1,1)\n",
        "\n",
        "    return int(time.days/365)"
      ],
      "metadata": {
        "id": "2prokq5zHgQI"
      },
      "execution_count": 31,
      "outputs": []
    },
    {
      "cell_type": "code",
      "execution_count": 32,
      "metadata": {
        "id": "9JUTqzlXFbmo"
      },
      "outputs": [],
      "source": [
        "twa = Plane(year = 2017, seats_per_row = 17, number_of_rows = 10)"
      ]
    },
    {
      "cell_type": "code",
      "execution_count": 33,
      "metadata": {
        "id": "g84QYs3KFbmq",
        "outputId": "808f9740-ab31-4eec-ac0a-9d63338bd376",
        "colab": {
          "base_uri": "https://localhost:8080/"
        }
      },
      "outputs": [
        {
          "output_type": "execute_result",
          "data": {
            "text/plain": [
              "170"
            ]
          },
          "metadata": {},
          "execution_count": 33
        }
      ],
      "source": [
        "twa.total_seats()\n",
        "# 170"
      ]
    },
    {
      "cell_type": "code",
      "execution_count": 34,
      "metadata": {
        "id": "eZRhzF52Fbms",
        "outputId": "04b98217-01ad-4726-c878-66ce2837a0ce",
        "colab": {
          "base_uri": "https://localhost:8080/"
        }
      },
      "outputs": [
        {
          "output_type": "execute_result",
          "data": {
            "text/plain": [
              "6"
            ]
          },
          "metadata": {},
          "execution_count": 34
        }
      ],
      "source": [
        "twa.age()\n",
        "# 6"
      ]
    }
  ],
  "metadata": {
    "kernelspec": {
      "display_name": "Python 3",
      "language": "python",
      "name": "python3"
    },
    "language_info": {
      "codemirror_mode": {
        "name": "ipython",
        "version": 3
      },
      "file_extension": ".py",
      "mimetype": "text/x-python",
      "name": "python",
      "nbconvert_exporter": "python",
      "pygments_lexer": "ipython3",
      "version": "3.7.4"
    },
    "colab": {
      "provenance": []
    }
  },
  "nbformat": 4,
  "nbformat_minor": 0
}